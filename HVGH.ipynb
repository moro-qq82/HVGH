{
 "cells": [
  {
   "cell_type": "markdown",
   "metadata": {
    "colab_type": "text",
    "id": "4P6_UboLT5Kq"
   },
   "source": [
    "### Module"
   ]
  },
  {
   "cell_type": "code",
   "execution_count": 1,
   "metadata": {
    "colab": {},
    "colab_type": "code",
    "id": "o9zhZgN5T2XC"
   },
   "outputs": [],
   "source": [
    "#VAE\n",
    "import tensorflow as tf\n",
    "import tensorflow.keras.backend as K\n",
    "import numpy as np\n",
    "import matplotlib.pyplot as plt\n",
    "from tensorflow.keras.optimizers import Adam\n",
    "import time\n",
    "\n",
    "#HDP-GP-HSMM\n",
    "import random\n",
    "import math\n",
    "import sys\n",
    "import os\n",
    "import glob"
   ]
  },
  {
   "cell_type": "code",
   "execution_count": 2,
   "metadata": {
    "colab": {
     "base_uri": "https://localhost:8080/",
     "height": 34
    },
    "colab_type": "code",
    "id": "M6f4WnrtVk4R",
    "outputId": "42665bee-e32d-4db7-a70c-d3d1165df823"
   },
   "outputs": [
    {
     "name": "stdout",
     "output_type": "stream",
     "text": [
      "2.4.1\n"
     ]
    }
   ],
   "source": [
    "print (tf.__version__)"
   ]
  },
  {
   "cell_type": "markdown",
   "metadata": {
    "colab_type": "text",
    "id": "Op4cGV1HoGza"
   },
   "source": [
    "### VAE"
   ]
  },
  {
   "cell_type": "code",
   "execution_count": 3,
   "metadata": {
    "colab": {},
    "colab_type": "code",
    "id": "g_jAbb2LUV6Q"
   },
   "outputs": [],
   "source": [
    "class Variational_Auto_Encoder():\n",
    "  def __init__(self, input_dim, hidden_dims, latent_dim, kld_weight, epochs):\n",
    "    self.input_dim = input_dim\n",
    "    self.latent_dim = latent_dim\n",
    "    self.hidden_encoder_dim1 = hidden_dims[0]\n",
    "    self.hidden_encoder_dim2 = hidden_dims[1]\n",
    "    self.hidden_decoder_dim1 = hidden_dims[2]\n",
    "    self.hidden_decoder_dim2 = hidden_dims[3]\n",
    "    self.kld_weight = kld_weight\n",
    "    self.opt = Adam(lr=0.0001)\n",
    "    self.epochs = epochs\n",
    "\n",
    "    #encoder\n",
    "    logvar_prior = tf.keras.Input(shape=(self.latent_dim, ), name='logvar_prior')\n",
    "    mu_prior = tf.keras.Input(shape=(self.latent_dim, ), name='mu_prior')\n",
    "    inputs = tf.keras.layers.Input(shape=(self.input_dim, ), name='encoder_input')\n",
    "    hidden1= tf.keras.layers.Dense(self.hidden_encoder_dim1, activation='relu', name='enc1') (inputs)\n",
    "    hidden2 = tf.keras.layers.Dense(self.hidden_encoder_dim2, activation='relu', name='enc2') (hidden1)\n",
    "    z_mean = tf.keras.layers.Dense(self.latent_dim, activation='linear', name='z_mean')(hidden2)\n",
    "    z_log_var= tf.keras.layers.Dense(self.latent_dim, activation='linear', name='z_log_var')(hidden2)\n",
    "    z = tf.keras.layers.Lambda(self.sampling, name='z')([z_mean, z_log_var])\n",
    "    \n",
    "    enc_outputs = [z_mean, z_log_var, z]\n",
    "    encoder = tf.keras.models.Model(inputs, enc_outputs, name='encoder')\n",
    "\n",
    "    #decoder\n",
    "    latent_inputs = tf.keras.layers.Input(shape=(self.latent_dim,), name='z_sampling')\n",
    "    dec_hidden1 = tf.keras.layers.Dense(self.hidden_decoder_dim1, activation='relu', name='dec1') (latent_inputs)\n",
    "    dec_hidden2 = tf.keras.layers.Dense(self.hidden_decoder_dim2, activation='relu', name='dec2') (dec_hidden1)\n",
    "    outputs = tf.keras.layers.Dense(self.input_dim, activation='sigmoid') (dec_hidden2)\n",
    "\n",
    "    decoder = tf.keras.models.Model(latent_inputs, outputs, name='decoder')\n",
    "\n",
    "    #VAE(encoder+decoder)\n",
    "    inputs_ = [inputs, logvar_prior, mu_prior]\n",
    "    outputs_ = [ decoder(encoder(inputs)[2]), encoder(inputs)[0], encoder(inputs)[1] , encoder(inputs)[2]]  #output, mu, sigma\n",
    "    self.VAE = tf.keras.models.Model(inputs_, outputs_, name='VAE')\n",
    "    \n",
    "    #Loss\n",
    "    MSE = tf.reduce_sum( tf.math.squared_difference(K.flatten(outputs_[0]), K.flatten(inputs_[0])))\n",
    "    KLD = - 0.5 * tf.reduce_sum(1 + logvar_prior + z_log_var\n",
    "            - (tf.pow(z_mean - mu_prior, 2) \n",
    "            + tf.exp(z_log_var))/tf.exp(logvar_prior))\n",
    "    loss = tf.reduce_mean(MSE + KLD * self.kld_weight )\n",
    "\n",
    "    self.VAE.add_loss(loss)\n",
    "\n",
    "  def sampling(self, args):\n",
    "    z_mean, z_log_var = args\n",
    "    batch = K.shape(z_mean)[0]\n",
    "    dim = K.int_shape(z_mean)[1]\n",
    "    epsilon = K.random_normal(shape=(batch, dim))\n",
    "    \n",
    "    return z_mean + K.exp(0.5 * z_log_var) * epsilon\n",
    "\n",
    "  def compile(self):\n",
    "    self.VAE.compile(optimizer=self.opt)\n",
    "    #print (self.VAE.summary())\n",
    "\n",
    "  def learn(self, data, logvar_prior, mu_prior, verbose=True):\n",
    "    result = self.VAE.fit([data, logvar_prior, mu_prior] , epochs=1, verbose=verbose)\n",
    "    return result\n",
    "\n",
    "  def predict(self, data, logvar_prior, mu_prior, losses=False):\n",
    "    reconst, mu, sigma, z = self.VAE.predict([data, logvar_prior, mu_prior])\n",
    "    return reconst, mu, sigma, z\n",
    "\n",
    "  def plot(self, data, reconst, mu, sigma, z, losses, savepath):\n",
    "    if losses != False:\n",
    "      plt.title('loss')\n",
    "      plt.plot(np.arange(self.epochs), losses)\n",
    "      plt.savefig(savepath+'_loss.png')\n",
    "      plt.close()\n",
    "\n",
    "    plt.title(\"z_alldim\")\n",
    "    plt.plot(np.arange(mu.shape[0]), mu)\n",
    "    plt.savefig(savepath+'_z.png')\n",
    "    plt.close()\n",
    "\n",
    "    plt.title(\"z_hat_alldim\")\n",
    "    plt.plot(np.arange(mu.shape[0]), z)\n",
    "    plt.savefig(savepath+'_z_hat.png')\n",
    "    plt.close()\n",
    "\n",
    "    plt.title('data_alldim')\n",
    "    plt.plot(np.arange(mu.shape[0]), data)\n",
    "    plt.savefig(savepath+'_oridata.png')\n",
    "    plt.close()\n",
    "\n",
    "    plt.title('reconst_alldim')\n",
    "    plt.plot(np.arange(mu.shape[0]), reconst)\n",
    "    plt.savefig(savepath+'_reconst.png')\n",
    "    plt.close()"
   ]
  },
  {
   "cell_type": "markdown",
   "metadata": {
    "colab_type": "text",
    "id": "v8MoFn55VSQ5"
   },
   "source": [
    "### GaussianProcess"
   ]
  },
  {
   "cell_type": "code",
   "execution_count": 4,
   "metadata": {
    "colab": {},
    "colab_type": "code",
    "id": "seXBh3ADUy3T"
   },
   "outputs": [],
   "source": [
    "%load_ext Cython"
   ]
  },
  {
   "cell_type": "code",
   "execution_count": 5,
   "metadata": {
    "colab": {},
    "colab_type": "code",
    "id": "K7NUmCGtU00V"
   },
   "outputs": [],
   "source": [
    "%%cython\n",
    "import numpy as np\n",
    "import random\n",
    "import matplotlib.pyplot as plt\n",
    "\n",
    "cdef extern from \"math.h\":\n",
    "    double exp(double)\n",
    "    double sqrt(double)\n",
    "    double log(double)\n",
    "\n",
    "cdef class GP:\n",
    "    cdef double beta\n",
    "    cdef int ns\n",
    "    cdef xt, yt\n",
    "    cdef double[:,:] i_cov\n",
    "    cdef double[:] param\n",
    "    cdef dict param_cache\n",
    "\n",
    "    cdef double covariance_func(self, double xi, double xj):\n",
    "        cdef double theta0 = 1.0\n",
    "        cdef double theta1 = 1.0\n",
    "        cdef double theta2 = 0\n",
    "        cdef double theta3 = 16.0\n",
    "        return theta0 * exp(-0.5 * theta1 * (xi - xj) * (xi - xj)) + theta2 + theta3 * xi * xj\n",
    "    \n",
    "    cdef double normpdf(self, double x, double mu, double sigma):\n",
    "        return 1./(sqrt(2*np.pi)*sigma)*exp(-0.5 * ((x - mu)/sigma)**2)\n",
    "\n",
    "    def __init__( self ):\n",
    "        self.beta = 10.0\n",
    "        self.param_cache = {}\n",
    "\n",
    "    def learn(self, xt, yt ):\n",
    "        cdef int i, j\n",
    "        self.xt = xt\n",
    "        self.yt = yt\n",
    "        self.ns = len(xt)\n",
    "\n",
    "        cdef double[:,:] cov = np.zeros((self.ns, self.ns))\n",
    "\n",
    "        for i in range(self.ns):\n",
    "            for j in range(self.ns):\n",
    "                cov[i,j] = self.covariance_func(xt[i], xt[j])\n",
    "                if i==j:\n",
    "                    cov[i,j] += 1/self.beta\n",
    "\n",
    "        self.i_cov = np.linalg.inv(cov)\n",
    "        self.param = np.dot(self.i_cov, self.yt)\n",
    "        self.param_cache.clear()\n",
    "\n",
    "    def plot(self, x):\n",
    "        mus, sigmas = self.predict( x.reshape(-1,1) )\n",
    "        plt.plot( x, mus )\n",
    "        \n",
    "        y_max = mus + np.sqrt(sigmas.flatten())\n",
    "        y_min = mus - np.sqrt(sigmas.flatten())\n",
    "\n",
    "        plt.fill_between(x, y_min, y_max, facecolor=\"lavender\" , alpha=0.9 , edgecolor=\"lavender\"  )\n",
    "        plt.plot(self.xt, self.yt)\n",
    "        plt.show()\n",
    "\n",
    "\n",
    "    def predict( self, x ):\n",
    "        mus = []\n",
    "        sigmas = []\n",
    "        n = len(x)\n",
    "        tt = [y - np.random.normal() / self.beta for y in self.yt]\n",
    "        for k in range(n):\n",
    "            v = np.zeros((self.ns))\n",
    "            for i in range(self.ns):\n",
    "                v[i] = self.covariance_func(x[k], self.xt[i])\n",
    "            c = self.covariance_func(x[k], x[k]) + 1.0 / self.beta\n",
    "            \n",
    "            mu = np.dot(v, np.dot(self.i_cov, tt))\n",
    "            sigma = c - np.dot(v, np.dot(self.i_cov, v))\n",
    "            \n",
    "            mus.append(mu)\n",
    "            sigmas.append(sigma)\n",
    "        \n",
    "        return np.array(mus), np.array(sigmas)\n",
    "    \n",
    "\n",
    "    cpdef double calc_lik_al( self, double[:] xs, double[:] ys ):\n",
    "        cdef int k,i\n",
    "        cdef int n = len(xs)\n",
    "        cdef double lik = 0\n",
    "        cdef int ns = self.ns\n",
    "        cdef double c,p,mu,sigma\n",
    "        cdef double[:] v= np.zeros((ns))\n",
    "\n",
    "        for k in range(n):\n",
    "            # 計算結果をキャッシュして使い回す\n",
    "            if xs[k] in self.param_cache:\n",
    "                mu, sigma = self.param_cache[ xs[k] ]\n",
    "            else:\n",
    "                v = np.zeros((ns))\n",
    "                for i in range(ns):\n",
    "                    v[i] = self.covariance_func(xs[k], self.xt[i])\n",
    "                c = self.covariance_func(xs[k], xs[k]) + 1.0 / self.beta\n",
    "                mu = np.dot(v, self.param)\n",
    "                sigma = c - np.dot(v, np.dot(self.i_cov, v))\n",
    "                \n",
    "                self.param_cache[ xs[k] ] = (mu, sigma)\n",
    "\n",
    "            p = self.normpdf( ys[k] , mu, sigma )\n",
    "            if p<=0:\n",
    "                p = 0.000000000001\n",
    "            lik += log( p )\n",
    "\n",
    "        return lik\n",
    "\n",
    "\n",
    "    def calc_lik( self, xs, ys ):\n",
    "      lik = self.calc_lik_al( xs, ys )\n",
    "      return lik"
   ]
  },
  {
   "cell_type": "markdown",
   "metadata": {
    "colab_type": "text",
    "id": "WTHGGvRRaUFb"
   },
   "source": [
    "### logsum"
   ]
  },
  {
   "cell_type": "code",
   "execution_count": 6,
   "metadata": {
    "colab": {},
    "colab_type": "code",
    "id": "tmlzDvM2aV6T"
   },
   "outputs": [],
   "source": [
    "%%cython\n",
    "import numpy as np\n",
    "import random\n",
    "import matplotlib.mlab as mlab\n",
    "import sys\n",
    "\n",
    "cdef extern from \"math.h\":\n",
    "    double log(double)\n",
    "    double exp(double)\n",
    "\n",
    "\n",
    "cpdef logsumexp( double[:,:] a ):\n",
    "    cdef double max_val = -sys.float_info.max\n",
    "    cdef double sum_exp = 0\n",
    "    cdef int I = a.shape[0]\n",
    "    cdef int J = a.shape[1]\n",
    "    \n",
    "    for i in range(I):\n",
    "        for j in range(J):\n",
    "            if max_val<a[i,j]:\n",
    "                max_val = a[i,j]\n",
    "                \n",
    "    for i in range(I):\n",
    "        for j in range(J):\n",
    "            sum_exp += exp( a[i,j] - max_val )\n",
    "    return log(sum_exp) + max_val"
   ]
  },
  {
   "cell_type": "markdown",
   "metadata": {
    "colab_type": "text",
    "id": "pAbp3HAOWnVW"
   },
   "source": [
    "### multidim"
   ]
  },
  {
   "cell_type": "code",
   "execution_count": 7,
   "metadata": {
    "colab": {},
    "colab_type": "code",
    "id": "a8FhZCwMWp0d"
   },
   "outputs": [],
   "source": [
    "class GPMD:\n",
    "    def __init__(self, dim):\n",
    "        self.__dim = dim\n",
    "        self.__gp = [ GP() for d in range(self.__dim) ]\n",
    "\n",
    "    def learn(self,x, y ):\n",
    "        y = np.array(y, dtype=np.float).reshape( (-1,self.__dim) )\n",
    "        x = np.array(x,dtype=np.float)\n",
    "\n",
    "        for d in range(self.__dim):\n",
    "            if len(y)!=0:\n",
    "                self.__gp[d].learn( x, y[:,d] )\n",
    "            else:\n",
    "                self.__gp[d].learn( x, [] )\n",
    "\n",
    "\n",
    "    def calc_lik(self, x, y, last = False):\n",
    "        lik = 0.0\n",
    "        mus = []\n",
    "        sigmas = []\n",
    "\n",
    "        if self.__dim==1:\n",
    "            y = np.asarray(y, dtype=np.float).reshape( (-1,self.__dim) )\n",
    "        for d in range(self.__dim):\n",
    "            lik += self.__gp[d].calc_lik( x , y[:,d] )\n",
    "            if last != False:\n",
    "              mu , sig = self.__gp[d].predict(x)\n",
    "              mus.append(mu)\n",
    "              sigmas.append(sig)\n",
    "\n",
    "        if last != False:\n",
    "          return lik, np.array(mus), np.array(sigmas)\n",
    "        else:\n",
    "          return lik\n",
    "\n",
    "    def plot(self, x ):\n",
    "        for d in range(self.__dim):\n",
    "            plt.subplot( self.__dim, 1, d+1 )\n",
    "\n",
    "            mus, sigmas = self.__gp[d].predict(x)\n",
    "            y_min = mus - sigmas*2\n",
    "            y_max = mus + sigmas*2\n",
    "\n",
    "            plt.fill_between( x, y_min, y_max, facecolor=\"lavender\" , alpha=0.9 , edgecolor=\"lavender\"  )\n",
    "            plt.plot(x, y_min, 'b--')\n",
    "            plt.plot(x, mus, 'b-')\n",
    "            plt.plot(x, y_max, 'b--')"
   ]
  },
  {
   "cell_type": "markdown",
   "metadata": {
    "colab_type": "text",
    "id": "2ibGl4zBWqVg"
   },
   "source": [
    "### segmentation"
   ]
  },
  {
   "cell_type": "code",
   "execution_count": 8,
   "metadata": {
    "colab": {},
    "colab_type": "code",
    "id": "-0BfwNmBWtc9"
   },
   "outputs": [],
   "source": [
    "class GPSegmentation():\n",
    "    def __init__(self, dim, gamma, alpha, initial_class):\n",
    "        self.dim = dim\n",
    "        self.numclass = initial_class\n",
    "        self.segmlen = 3\n",
    "        self.gps = [ GPMD(dim) for i in range(self.numclass) ]\n",
    "        self.segm_in_class= [ [] for i in range(self.numclass) ]\n",
    "        self.segmclass = {}\n",
    "        self.segments = []\n",
    "        self.trans_prob = np.ones( (1,1) )\n",
    "        self.trans_prob_bos = np.ones( 1 )\n",
    "        self.trans_prob_eos = np.ones( 1 )\n",
    "        self.all_numclass = []\n",
    "        self.counter = 0\n",
    "        self.is_initialized = False\n",
    "        \n",
    "        # parameters\n",
    "        self.MAX_LEN = 20\n",
    "        self.MIN_LEN = 3\n",
    "        self.AVE_LEN = 12\n",
    "        self.SKIP_LEN = 1\n",
    "\n",
    "        self.alpha = alpha\n",
    "        self.beta = np.ones(1)\n",
    "        self.gamma = gamma\n",
    "\n",
    "    def load_data(self, zs, classfile=None ):\n",
    "        self.data = []\n",
    "        self.segments = []\n",
    "        self.is_initialized = False\n",
    "\n",
    "        for y in zs:\n",
    "            segm = []\n",
    "            self.data.append( np.array(y, dtype=np.float) )\n",
    "\n",
    "            i = 0\n",
    "            while i<len(y):\n",
    "                length = random.randint(self.MIN_LEN, self.MAX_LEN)\n",
    "\n",
    "                if i+length+1>=len(y):\n",
    "                    length = len(y)-i\n",
    "\n",
    "                segm.append( y[i:i+length+1] )\n",
    "\n",
    "                i+=length\n",
    "\n",
    "            self.segments.append( segm )\n",
    "\n",
    "            for i,s in enumerate(segm):\n",
    "                c = random.randint(0,self.numclass-1)\n",
    "                self.segmclass[id(s) ] = c\n",
    "\n",
    "        self.calc_trans_prob()\n",
    "\n",
    "\n",
    "    def load_model( self, basename ):\n",
    "        for c in range(self.numclass):\n",
    "            filename = basename + \"class%03d.npy\" % c\n",
    "            self.segm_in_class[c] = np.load( filename, allow_pickle=True)\n",
    "            self.update_gp( c )\n",
    "\n",
    "        self.trans_prob = np.load( basename+\"trans.npy\", allow_pickle=True )\n",
    "        self.trans_prob_bos = np.load( basename+\"trans_bos.npy\", allow_pickle=True )\n",
    "        self.trans_prob_eos = np.load( basename+\"trans_eos.npy\", allow_pickle=True )\n",
    "\n",
    "\n",
    "    def update_gp(self, c ):\n",
    "        datay = []\n",
    "        datax = []\n",
    "        for s in self.segm_in_class[c]:\n",
    "            datay += [ y for y in s ]\n",
    "            datax += range(len(s))\n",
    "\n",
    "        self.gps[c].learn( datax, datay )\n",
    "\n",
    "\n",
    "    def calc_emission_logprob( self, c, segm ):\n",
    "        gp = self.gps[c]\n",
    "        slen = len(segm)\n",
    "\n",
    "        if len(segm) > 2:\n",
    "            log_plen = (slen*math.log(self.AVE_LEN) + (-self.AVE_LEN)*math.log(math.e)) - (sum(np.log(np.arange(1,slen+1))))\n",
    "            p = gp.calc_lik( np.arange(len(segm), dtype=np.float) , segm )\n",
    "            return p + log_plen\n",
    "        else:\n",
    "            return math.log(1.0e-100)\n",
    "\n",
    "    def save_model(self, basename ):\n",
    "        if not os.path.exists(basename):\n",
    "            os.mkdir( basename )\n",
    "\n",
    "        for n,segm in enumerate(self.segments):\n",
    "            classes = []\n",
    "            cut_points = []\n",
    "            for s in segm:\n",
    "                c = self.segmclass[id(s)]\n",
    "                classes += [ c for i in range(len(s)) ]\n",
    "                cut_points += [0] * len(s)\n",
    "                cut_points[-1] = 1\n",
    "            np.savetxt( basename+\"segm%03d.txt\" % n, np.vstack([classes,cut_points]).T, fmt=str(\"%d\") )\n",
    "\n",
    "        for c in range(len(self.gps)):\n",
    "            for d in range(self.dim):\n",
    "                plt.clf()\n",
    "                for data in self.segm_in_class[c]:\n",
    "                    if self.dim==1:\n",
    "                        plt.plot( range(len(data)), data, \"o-\" )\n",
    "                    else:\n",
    "                        plt.plot( range(len(data[:,d])), data[:,d], \"o-\" )\n",
    "                    plt.ylim( -1, 1 )\n",
    "                plt.savefig( basename+\"class%03d_dim%03d.png\" % (c, d) )\n",
    "                plt.close()\n",
    "\n",
    "        np.save( basename + \"trans.npy\" , self.trans_prob  )\n",
    "        np.save( basename + \"trans_bos.npy\" , self.trans_prob_bos )\n",
    "        np.save( basename + \"trans_eos.npy\" , self.trans_prob_eos )\n",
    "        np.save( basename + \"all_class.npy\", self.segm_in_class[c])\n",
    "\n",
    "        for c in range(self.numclass):\n",
    "            np.save( basename+\"class%03d.npy\" % c, self.segm_in_class[c] )\n",
    "\n",
    "        return self.numclass\n",
    "\n",
    "\n",
    "    def forward_filtering(self, d ):\n",
    "        T = len(d)\n",
    "        log_a = np.log( np.zeros( (len(d), self.MAX_LEN, self.numclass) )  + 1.0e-100 ) \n",
    "        valid = np.zeros( (len(d), self.MAX_LEN, self.numclass) ) \n",
    "        z = np.ones( T )\n",
    "\n",
    "        for t in range(T):\n",
    "            for k in range(self.MIN_LEN,self.MAX_LEN,self.SKIP_LEN):\n",
    "                if t-k<0:\n",
    "                    break\n",
    "\n",
    "                segm = d[t-k:t+1]\n",
    "                for c in range(self.numclass):\n",
    "                    out_prob = self.calc_emission_logprob( c, segm )\n",
    "                    foward_prob = 0.0\n",
    "\n",
    "                    tt = t-k-1\n",
    "                    if tt>=0:\n",
    "                        foward_prob = logsumexp( log_a[tt,:,:] + z[tt] + np.log(self.trans_prob[:,c]) ) + out_prob\n",
    "                    else:\n",
    "                        foward_prob = out_prob + math.log(self.trans_prob_bos[c])\n",
    "\n",
    "                    if t==T-1:\n",
    "                        foward_prob += math.log(self.trans_prob_eos[c])\n",
    "\n",
    "                    log_a[t,k,c] = foward_prob\n",
    "                    valid[t,k,c] = 1.0\n",
    "                    if math.isnan(foward_prob):\n",
    "                        print( \"a[t=%d,k=%d,c=%d] became NAN!!\" % (t,k,c) )\n",
    "                        sys.exit(-1)\n",
    "\n",
    "            if t-self.MIN_LEN>=0:\n",
    "                z[t] = logsumexp( log_a[t,:,:] )\n",
    "                log_a[t,:,:] -= z[t]\n",
    "\n",
    "        return np.exp(log_a)*valid\n",
    "\n",
    "\n",
    "    def sample_idx(self, prob ):\n",
    "        accm_prob = [0,] * len(prob)\n",
    "        for i in range(len(prob)):\n",
    "            accm_prob[i] = prob[i] + accm_prob[i-1]\n",
    "\n",
    "        rnd = random.random() * accm_prob[-1]\n",
    "        for i in range(len(prob)):\n",
    "            if rnd <= accm_prob[i]:\n",
    "                return i\n",
    "\n",
    "\n",
    "    def backward_sampling(self, a, d):\n",
    "        T = a.shape[0]\n",
    "        t = T-1\n",
    "\n",
    "        segm = []\n",
    "        segm_class = []\n",
    "\n",
    "        c = -1\n",
    "        while True:\n",
    "            if t==T-1:\n",
    "                transp = self.trans_prob_eos\n",
    "            else:\n",
    "                transp = self.trans_prob[:,c]\n",
    "            \n",
    "            idx = self.sample_idx( (a[t]*transp).reshape( self.MAX_LEN*self.numclass ))\n",
    "\n",
    "            k = int(idx/self.numclass)\n",
    "            c = idx % self.numclass\n",
    "\n",
    "            if t-k-1<=0:\n",
    "                s = d[0:t+1]\n",
    "            else:\n",
    "                s = d[t-k:t+1]\n",
    "\n",
    "            segm.insert( 0, s )\n",
    "            segm_class.insert( 0, c )\n",
    "\n",
    "            t = t-k-1\n",
    "\n",
    "            if t<=0:\n",
    "                break\n",
    "\n",
    "        return segm, segm_class\n",
    "\n",
    "\n",
    "    def calc_trans_prob( self ):\n",
    "        self.trans_prob = np.zeros( (self.numclass,self.numclass) )\n",
    "        self.trans_prob_bos = np.zeros( self.numclass )\n",
    "        self.trans_prob_eos = np.zeros( self.numclass )\n",
    "\n",
    "        for n,segm in enumerate(self.segments):\n",
    "            if id(segm[0]) in self.segmclass:\n",
    "                c_begin = self.segmclass[ id(segm[0]) ]\n",
    "                self.trans_prob_bos[c_begin]+=1\n",
    "\n",
    "            if id(segm[-1]) in self.segmclass:\n",
    "                c_end = self.segmclass[ id(segm[-1]) ]\n",
    "                self.trans_prob_eos[c_end]+=1\n",
    "\n",
    "            for i in range(1,len(segm)):\n",
    "                try:\n",
    "                    cc = self.segmclass[ id(segm[i-1]) ]\n",
    "                    c = self.segmclass[ id(segm[i]) ]\n",
    "                except KeyError:\n",
    "\n",
    "                    continue\n",
    "                self.trans_prob[cc,c] += 1\n",
    "\n",
    "        self.trans_prob_bos += self.alpha * self.beta\n",
    "        self.trans_prob_eos += self.alpha * self.beta\n",
    "\n",
    "        for c in range(self.numclass):\n",
    "            self.trans_prob[c,:] += self.alpha * self.beta\n",
    "\n",
    "        self.trans_prob = self.trans_prob / self.trans_prob.sum(1).reshape(self.numclass,1)\n",
    "        self.trans_prob_bos = self.trans_prob_bos / np.sum( self.trans_prob_bos )\n",
    "        self.trans_prob_eos = self.trans_prob_eos / np.sum( self.trans_prob_eos )\n",
    "\n",
    "\n",
    "    def sample_num_states(self):\n",
    "\n",
    "        # calculate u\n",
    "        u = []\n",
    "        for n,segm in enumerate(self.segments):\n",
    "            c = self.segmclass[ id(segm[0]) ]\n",
    "            p = self.trans_prob_bos[c]\n",
    "            u.append( random.random() * p )\n",
    "\n",
    "            c = self.segmclass[ id(segm[-1]) ]\n",
    "            p = self.trans_prob_eos[c]\n",
    "            u.append( random.random() * p )\n",
    "\n",
    "            for i in range(1,len(segm)):\n",
    "                cc = self.segmclass[ id(segm[i-1]) ]\n",
    "                c = self.segmclass[ id(segm[i]) ]\n",
    "                p = self.trans_prob[cc,c]\n",
    "                u.append( random.random() * p )\n",
    "\n",
    "        # remove \n",
    "        beta = list( self.beta )\n",
    "        for c in range(self.numclass)[::-1]:\n",
    "            if len(self.segm_in_class[c])==0:\n",
    "                self.numclass -= 1\n",
    "                self.gps.pop()\n",
    "                self.segm_in_class.pop()\n",
    "                beta[-2] += beta[-1]\n",
    "                beta.pop()\n",
    "                #print (\"pop!\")\n",
    "            else:\n",
    "                break\n",
    "\n",
    "        u_min = np.min( u )\n",
    "\n",
    "        N = 0\n",
    "        for c in range(self.numclass):\n",
    "            N += len(self.segm_in_class[c])\n",
    "\n",
    "        while self.alpha*beta[-1]/N > u_min:\n",
    "            stick_len = beta[-1]\n",
    "            rnd = np.random.beta(1,self.gamma)\n",
    "            beta[-1] = stick_len * rnd\n",
    "            beta.append( stick_len * (1-rnd) )\n",
    "            self.numclass += 1\n",
    "            self.gps.append( GPMD(self.dim) )\n",
    "            self.segm_in_class.append([])\n",
    "\n",
    "        self.beta = np.array( beta )\n",
    "\n",
    "        self.all_numclass.append(self.numclass)\n",
    "    \n",
    "    \n",
    "    # If list.remove( elem ), ValueError.\n",
    "    def remove_ndarray(self, lst, elem ):\n",
    "        l = len(elem)\n",
    "        for i,e in enumerate(lst):\n",
    "            if len(e)!=l:\n",
    "                continue\n",
    "            if (e==elem).all():\n",
    "                lst.pop(i)\n",
    "                return\n",
    "        raise ValueError( \"ndarray is not found!!\" )\n",
    "\n",
    "    def learn(self):\n",
    "        if self.is_initialized==False:\n",
    "            # learn GP\n",
    "            for i in range(len(self.segments)):\n",
    "                for s in self.segments[i]:\n",
    "                    c = self.segmclass[id(s)]\n",
    "                    self.segm_in_class[c].append( s )\n",
    "\n",
    "            # learn each classes\n",
    "            for c in range(self.numclass):\n",
    "                self.update_gp( c )\n",
    "\n",
    "            self.is_initialized = True\n",
    "\n",
    "        self.update(True)\n",
    "\n",
    "    def recog(self):\n",
    "        self.update(False)\n",
    "\n",
    "    def update(self, learning_phase=True ):\n",
    "\n",
    "        for i in range(len(self.segments)):\n",
    "            if learning_phase:\n",
    "                print (\"slice sampling\")\n",
    "                self.sample_num_states()\n",
    "            \n",
    "            d = self.data[i]\n",
    "            segm = self.segments[i]\n",
    "\n",
    "            for s in segm:\n",
    "                c = self.segmclass[id(s)]\n",
    "                self.segmclass.pop( id(s) )\n",
    "\n",
    "                if learning_phase:\n",
    "                    # update parameter\n",
    "                    self.remove_ndarray( self.segm_in_class[c], s )\n",
    "\n",
    "            if learning_phase:\n",
    "                # update GP\n",
    "                for c in range(self.numclass):\n",
    "                    self.update_gp( c )\n",
    "\n",
    "                # update transition probability\n",
    "                self.calc_trans_prob()\n",
    "\n",
    "            start = time.clock()\n",
    "            print( \"forward...\", end=\"\")\n",
    "            a = self.forward_filtering( d )\n",
    "\n",
    "            print( \"backward...\", end=\"\" )\n",
    "            segm, segm_class = self.backward_sampling( a, d )\n",
    "            print( time.clock()-start, \"sec\" )\n",
    "\n",
    "            print( \"Number of classified segments: [\", end=\"\")\n",
    "            for s in self.segm_in_class:\n",
    "                print( len(s), end=\" \" )\n",
    "            print( \"]\" )\n",
    "\n",
    "\n",
    "            self.segments[i] = segm\n",
    "\n",
    "            for s,c in zip( segm, segm_class ):\n",
    "                self.segmclass[id(s)] = c\n",
    "\n",
    "                # update parameter\n",
    "                if learning_phase:\n",
    "                    self.segm_in_class[c].append(s)\n",
    "\n",
    "            if learning_phase:\n",
    "                # update GP\n",
    "                for c in range(self.numclass):\n",
    "                    self.update_gp( c )\n",
    "\n",
    "                # update transition probability\n",
    "                self.calc_trans_prob()\n",
    "        return\n",
    "\n",
    "\n",
    "    def calc_lik(self, last=False):\n",
    "        liks = 0\n",
    "        mus_all = []\n",
    "        sigmas_all = []\n",
    "\n",
    "        for segm in self.segments:\n",
    "            # last\n",
    "            if last != False:\n",
    "              mus = [[] for i in range(self.dim)]\n",
    "              sigmas = [[] for i in range(self.dim)]\n",
    "\n",
    "            for n, s in enumerate(segm):\n",
    "                c = self.segmclass[id(s)]\n",
    "                liks += self.gps[c].calc_lik( np.arange(len(s),dtype=np.float) , np.array(s) )\n",
    "                \n",
    "                # last\n",
    "                if last != False:\n",
    "                  lik, mu, sig = self.gps[c].calc_lik( np.arange(len(s), dtype=np.float) , s , last)\n",
    "                  if n == 0:\n",
    "                    for dd in range(self.dim):\n",
    "                        mus[dd] = mu[dd]\n",
    "                        sigmas[dd] = sig[dd]\n",
    "                  else:\n",
    "                    for dd in range(self.dim):\n",
    "                        mus[dd] = np.concatenate([mus[dd], mu[dd]])\n",
    "                        sigmas[dd] = np.concatenate([sigmas[dd], sig[dd]])\n",
    "\n",
    "                  liks += lik\n",
    "\n",
    "            # last\n",
    "            if last != False:\n",
    "              mus_all.append((np.array(mus).T).astype(np.float32))\n",
    "              sigmas_all.append(np.log((np.array(sigmas).T).astype(np.float32)))\n",
    "\n",
    "        #last\n",
    "        if last != False:\n",
    "          return liks, mus_all, sigmas_all\n",
    "        else:\n",
    "          return liks\n",
    "\n",
    "    \n",
    "    def get_num_class(self):\n",
    "        n = 0\n",
    "        for c in range(self.numclass):\n",
    "            if len(self.segm_in_class[c])!=0:\n",
    "                n += 1\n",
    "        return n"
   ]
  },
  {
   "cell_type": "markdown",
   "metadata": {
    "colab_type": "text",
    "id": "w21E05WtWt66"
   },
   "source": [
    "### main_segm"
   ]
  },
  {
   "cell_type": "code",
   "execution_count": 9,
   "metadata": {
    "colab": {},
    "colab_type": "code",
    "id": "ws1Ve9DCWv1q"
   },
   "outputs": [],
   "source": [
    "def learn( zs, savedir, dim, gamma, eta, initial_class ):\n",
    "    gpsegm = GPSegmentation( dim, gamma, eta, initial_class)\n",
    "\n",
    "    gpsegm.load_data( zs )\n",
    "    liks = []\n",
    "\n",
    "    start_time = time.time()\n",
    "    #iteration (default: 10)\n",
    "    for it in range( 8 ):\n",
    "        print( \"-----\", it, \"-----\" )\n",
    "        gpsegm.learn()\n",
    "        numclass = gpsegm.save_model( savedir )\n",
    "        print( \"lik =\", gpsegm.calc_lik() )\n",
    "        liks.append(gpsegm.calc_lik())\n",
    "    #print (\"liks: \",liks)\n",
    "    print ('%.2f[sec]'%(time.time()-start_time))\n",
    "    \n",
    "    #plot liks\n",
    "    plt.clf()\n",
    "    plt.plot( range(len(liks)), liks )\n",
    "    plt.savefig( os.path.join( savedir,\"liks.png\") )\n",
    "\n",
    "    lik, mu, sigma = gpsegm.calc_lik(last=True)\n",
    "    return numclass, np.array(mu), np.array(sigma)\n"
   ]
  },
  {
   "cell_type": "markdown",
   "metadata": {
    "colab_type": "text",
    "id": "BtlVr6eDTiiq"
   },
   "source": [
    "### main"
   ]
  },
  {
   "cell_type": "code",
   "execution_count": 12,
   "metadata": {
    "colab": {},
    "colab_type": "code",
    "id": "1MZ7KwpjVAzw"
   },
   "outputs": [],
   "source": [
    "def main():\n",
    "    hidden_dim = [40,20,20,40]\n",
    "    latent_dim= 3\n",
    "    \n",
    "    #weight of KLD\n",
    "    kld_weight = 0.9\n",
    "    #number of learn of vae in an iteration \n",
    "    epochs = 100\n",
    "    #mutual learning loop (VAE and HDP-GP-HSMM)\n",
    "    iteration = 10\n",
    "\n",
    "    data_ = []\n",
    "    batch_sizes = []\n",
    "    logvar_priors = []\n",
    "    mu_priors = []\n",
    "\n",
    "    #pathの変更をしてください．\n",
    "    files =  [ \"dance%03d.txt\" % j for j in range(4) ]\n",
    "    for f in files:\n",
    "      y = np.loadtxt(f, dtype=np.float)[::15]\n",
    "      #print (len(y))\n",
    "      data_.append( y )\n",
    "      batch_sizes.append( int(len(y)/4) )\n",
    "\n",
    "      logvar_priors.append( np.array( np.zeros( (len(y),latent_dim) ), dtype='float32' ) )\n",
    "      mu_priors.append( np.array( np.zeros( (len(y),latent_dim) ), dtype='float32' ) )\n",
    "\n",
    "    input_dim=len(data_[0][0])\n",
    "\n",
    "    #HDP-GP-HSMM parameters\n",
    "    gamma = 2.0\n",
    "    eta = 5.0\n",
    "    initial_class = 1\n",
    "\n",
    "    #define VAE\n",
    "    vae = Variational_Auto_Encoder(input_dim, hidden_dim, latent_dim, kld_weight, epochs)\n",
    "    vae.compile()\n",
    "\n",
    "    path = ('HVGH/')\n",
    "    #learn VAE and HSP-GP-HSMM\n",
    "    for ite in range(iteration):\n",
    "      print (\"*--------------iteration:%03d--------------*\"%ite)\n",
    "      zs = []\n",
    "      for n, data in enumerate(data_):\n",
    "        losses = []\n",
    "        #start_time = time.time()\n",
    "\n",
    "        for e in range(epochs):\n",
    "          idx = np.random.choice(range(0, len(data)), batch_sizes[n])\n",
    "          result = vae.learn(data[idx], logvar_priors[n][idx], mu_priors[n][idx], verbose=0)\n",
    "          losses.append(result.history['loss'])\n",
    "        \n",
    "        #print ('%.2f[sec]'%(time.time()-start_time))\n",
    "        #predicts\n",
    "        reconst, mu, sigma, z = vae.predict(data, logvar_priors[n], mu_priors[n], losses)\n",
    "        savepath = (path+'HVGHlearn/%03d/'%ite)\n",
    "        if not os.path.exists(savepath):\n",
    "          os.makedirs(savepath)\n",
    "        savepath_ = (savepath + 'data_%03d'%n)\n",
    "        vae.plot(data, reconst, mu, sigma, z, losses, savepath_)\n",
    "        print ('VAE learned', 'iteration:', ite, 'data:', n)\n",
    "\n",
    "        zs.append(np.array(mu))\n",
    "        np.savetxt(savepath_+'_z.txt', mu)\n",
    "        \n",
    "      #vae.save_weights(savepath+'vae_weights.hdf5')\n",
    "      vae.VAE.save_weights(savepath+'vae_weights.hdf5')\n",
    "\n",
    "      # HDP-GP-HSMM\n",
    "      #learn\n",
    "      z_dim = len(zs[0][0])\n",
    "      recog_initial_class, mu_priors, logvar_priors = learn( zs, savepath, z_dim, gamma, eta, initial_class )"
   ]
  },
  {
   "cell_type": "code",
   "execution_count": null,
   "metadata": {
    "colab": {},
    "colab_type": "code",
    "id": "V3NIpYNyTTjV"
   },
   "outputs": [
    {
     "name": "stdout",
     "output_type": "stream",
     "text": [
      "*--------------iteration:000--------------*\n",
      "VAE learned iteration: 0 data: 0\n",
      "VAE learned iteration: 0 data: 1\n",
      "VAE learned iteration: 0 data: 2\n",
      "VAE learned iteration: 0 data: 3\n",
      "----- 0 -----\n",
      "slice sampling\n",
      "forward..."
     ]
    },
    {
     "name": "stderr",
     "output_type": "stream",
     "text": [
      "c:\\Users\\moro-\\project_CSL\\HVGH\\.venv\\lib\\site-packages\\ipykernel_launcher.py:351: DeprecationWarning: time.clock has been deprecated in Python 3.3 and will be removed from Python 3.8: use time.perf_counter or time.process_time instead\n",
      "c:\\Users\\moro-\\project_CSL\\HVGH\\.venv\\lib\\site-packages\\ipykernel_launcher.py:357: DeprecationWarning: time.clock has been deprecated in Python 3.3 and will be removed from Python 3.8: use time.perf_counter or time.process_time instead\n"
     ]
    },
    {
     "name": "stdout",
     "output_type": "stream",
     "text": [
      "backward...0.15448269999998843 sec\n",
      "Number of classified segments: [26 0 ]\n",
      "slice sampling\n",
      "forward...backward...0.24932709999998792 sec\n",
      "Number of classified segments: [18 25 0 ]\n",
      "slice sampling\n",
      "forward...backward...0.15650950000002695 sec\n",
      "Number of classified segments: [9 44 ]\n",
      "slice sampling\n",
      "forward...backward...0.12922689999999193 sec\n",
      "Number of classified segments: [7 57 ]\n"
     ]
    },
    {
     "name": "stderr",
     "output_type": "stream",
     "text": [
      "c:\\Users\\moro-\\project_CSL\\HVGH\\.venv\\lib\\site-packages\\numpy\\core\\_asarray.py:136: VisibleDeprecationWarning: Creating an ndarray from ragged nested sequences (which is a list-or-tuple of lists-or-tuples-or ndarrays with different lengths or shapes) is deprecated. If you meant to do this, you must specify 'dtype=object' when creating the ndarray\n",
      "  return array(a, dtype, copy=False, order=order, subok=True)\n"
     ]
    },
    {
     "name": "stdout",
     "output_type": "stream",
     "text": [
      "lik = -956.1611581726721\n",
      "----- 1 -----\n",
      "slice sampling\n"
     ]
    },
    {
     "name": "stderr",
     "output_type": "stream",
     "text": [
      "c:\\Users\\moro-\\project_CSL\\HVGH\\.venv\\lib\\site-packages\\ipykernel_launcher.py:351: DeprecationWarning: time.clock has been deprecated in Python 3.3 and will be removed from Python 3.8: use time.perf_counter or time.process_time instead\n"
     ]
    },
    {
     "name": "stdout",
     "output_type": "stream",
     "text": [
      "forward...backward...0.4693281000000127 sec\n",
      "Number of classified segments: [25 32 0 0 0 ]\n"
     ]
    },
    {
     "name": "stderr",
     "output_type": "stream",
     "text": [
      "c:\\Users\\moro-\\project_CSL\\HVGH\\.venv\\lib\\site-packages\\ipykernel_launcher.py:357: DeprecationWarning: time.clock has been deprecated in Python 3.3 and will be removed from Python 3.8: use time.perf_counter or time.process_time instead\n"
     ]
    },
    {
     "name": "stdout",
     "output_type": "stream",
     "text": [
      "slice sampling\n",
      "forward...backward...0.466019799999998 sec\n",
      "Number of classified segments: [25 30 2 2 3 ]\n",
      "slice sampling\n",
      "forward...backward...0.5068894999999998 sec\n",
      "Number of classified segments: [18 36 2 2 3 0 ]\n",
      "slice sampling\n",
      "forward...backward...0.4313511999999946 sec\n",
      "Number of classified segments: [0 37 2 2 3 21 ]\n"
     ]
    },
    {
     "name": "stderr",
     "output_type": "stream",
     "text": [
      "c:\\Users\\moro-\\project_CSL\\HVGH\\.venv\\lib\\site-packages\\numpy\\core\\_asarray.py:136: VisibleDeprecationWarning: Creating an ndarray from ragged nested sequences (which is a list-or-tuple of lists-or-tuples-or ndarrays with different lengths or shapes) is deprecated. If you meant to do this, you must specify 'dtype=object' when creating the ndarray\n",
      "  return array(a, dtype, copy=False, order=order, subok=True)\n",
      "c:\\Users\\moro-\\project_CSL\\HVGH\\.venv\\lib\\site-packages\\ipykernel_launcher.py:351: DeprecationWarning: time.clock has been deprecated in Python 3.3 and will be removed from Python 3.8: use time.perf_counter or time.process_time instead\n"
     ]
    },
    {
     "name": "stdout",
     "output_type": "stream",
     "text": [
      "lik = 1125.7882915245411\n",
      "----- 2 -----\n",
      "slice sampling\n",
      "forward...backward...1.1380345000000034 sec\n",
      "Number of classified segments: [25 20 0 0 0 21 0 0 0 0 0 0 0 0 ]\n"
     ]
    },
    {
     "name": "stderr",
     "output_type": "stream",
     "text": [
      "c:\\Users\\moro-\\project_CSL\\HVGH\\.venv\\lib\\site-packages\\ipykernel_launcher.py:357: DeprecationWarning: time.clock has been deprecated in Python 3.3 and will be removed from Python 3.8: use time.perf_counter or time.process_time instead\n"
     ]
    },
    {
     "name": "stdout",
     "output_type": "stream",
     "text": [
      "slice sampling\n",
      "forward...backward...0.5341642000000206 sec\n",
      "Number of classified segments: [25 21 0 0 0 21 ]\n",
      "slice sampling\n",
      "forward...backward...0.5313473999999871 sec\n",
      "Number of classified segments: [25 36 0 0 0 0 ]\n",
      "slice sampling\n",
      "forward...backward...0.5887788999999941 sec\n",
      "Number of classified segments: [0 37 1 5 9 6 0 0 ]\n"
     ]
    },
    {
     "name": "stderr",
     "output_type": "stream",
     "text": [
      "c:\\Users\\moro-\\project_CSL\\HVGH\\.venv\\lib\\site-packages\\numpy\\core\\_asarray.py:136: VisibleDeprecationWarning: Creating an ndarray from ragged nested sequences (which is a list-or-tuple of lists-or-tuples-or ndarrays with different lengths or shapes) is deprecated. If you meant to do this, you must specify 'dtype=object' when creating the ndarray\n",
      "  return array(a, dtype, copy=False, order=order, subok=True)\n",
      "c:\\Users\\moro-\\project_CSL\\HVGH\\.venv\\lib\\site-packages\\ipykernel_launcher.py:351: DeprecationWarning: time.clock has been deprecated in Python 3.3 and will be removed from Python 3.8: use time.perf_counter or time.process_time instead\n"
     ]
    },
    {
     "name": "stdout",
     "output_type": "stream",
     "text": [
      "lik = 938.3186340586798\n",
      "----- 3 -----\n",
      "slice sampling\n",
      "forward...backward...0.8728790000000117 sec\n",
      "Number of classified segments: [15 17 5 5 9 6 3 0 0 0 0 0 ]\n"
     ]
    },
    {
     "name": "stderr",
     "output_type": "stream",
     "text": [
      "c:\\Users\\moro-\\project_CSL\\HVGH\\.venv\\lib\\site-packages\\ipykernel_launcher.py:357: DeprecationWarning: time.clock has been deprecated in Python 3.3 and will be removed from Python 3.8: use time.perf_counter or time.process_time instead\n"
     ]
    },
    {
     "name": "stdout",
     "output_type": "stream",
     "text": [
      "slice sampling\n",
      "forward...backward...0.48148729999999773 sec\n",
      "Number of classified segments: [15 19 5 5 9 6 3 ]\n",
      "slice sampling\n",
      "forward...backward...0.560788400000007 sec\n",
      "Number of classified segments: [15 34 4 0 0 0 3 ]\n",
      "slice sampling\n",
      "forward...backward...0.5629032999999879 sec\n",
      "Number of classified segments: [0 35 0 9 12 0 0 ]\n"
     ]
    },
    {
     "name": "stderr",
     "output_type": "stream",
     "text": [
      "c:\\Users\\moro-\\project_CSL\\HVGH\\.venv\\lib\\site-packages\\numpy\\core\\_asarray.py:136: VisibleDeprecationWarning: Creating an ndarray from ragged nested sequences (which is a list-or-tuple of lists-or-tuples-or ndarrays with different lengths or shapes) is deprecated. If you meant to do this, you must specify 'dtype=object' when creating the ndarray\n",
      "  return array(a, dtype, copy=False, order=order, subok=True)\n",
      "c:\\Users\\moro-\\project_CSL\\HVGH\\.venv\\lib\\site-packages\\ipykernel_launcher.py:351: DeprecationWarning: time.clock has been deprecated in Python 3.3 and will be removed from Python 3.8: use time.perf_counter or time.process_time instead\n"
     ]
    },
    {
     "name": "stdout",
     "output_type": "stream",
     "text": [
      "lik = 1040.0121904342056\n",
      "----- 4 -----\n",
      "slice sampling\n",
      "forward...backward...0.36988719999999375 sec\n",
      "Number of classified segments: [25 17 0 9 12 ]\n"
     ]
    },
    {
     "name": "stderr",
     "output_type": "stream",
     "text": [
      "c:\\Users\\moro-\\project_CSL\\HVGH\\.venv\\lib\\site-packages\\ipykernel_launcher.py:357: DeprecationWarning: time.clock has been deprecated in Python 3.3 and will be removed from Python 3.8: use time.perf_counter or time.process_time instead\n"
     ]
    },
    {
     "name": "stdout",
     "output_type": "stream",
     "text": [
      "slice sampling\n",
      "forward...backward...0.3705991999999867 sec\n",
      "Number of classified segments: [25 20 0 9 12 ]\n",
      "slice sampling\n",
      "forward...backward...0.43212879999998677 sec\n",
      "Number of classified segments: [25 36 0 0 0 0 ]\n",
      "slice sampling\n",
      "forward...backward...0.46841130000001385 sec\n",
      "Number of classified segments: [0 37 2 7 12 0 ]\n"
     ]
    },
    {
     "name": "stderr",
     "output_type": "stream",
     "text": [
      "c:\\Users\\moro-\\project_CSL\\HVGH\\.venv\\lib\\site-packages\\numpy\\core\\_asarray.py:136: VisibleDeprecationWarning: Creating an ndarray from ragged nested sequences (which is a list-or-tuple of lists-or-tuples-or ndarrays with different lengths or shapes) is deprecated. If you meant to do this, you must specify 'dtype=object' when creating the ndarray\n",
      "  return array(a, dtype, copy=False, order=order, subok=True)\n",
      "c:\\Users\\moro-\\project_CSL\\HVGH\\.venv\\lib\\site-packages\\ipykernel_launcher.py:351: DeprecationWarning: time.clock has been deprecated in Python 3.3 and will be removed from Python 3.8: use time.perf_counter or time.process_time instead\n"
     ]
    },
    {
     "name": "stdout",
     "output_type": "stream",
     "text": [
      "lik = 926.0877972288603\n",
      "----- 5 -----\n",
      "slice sampling\n",
      "forward...backward...0.45320879999999875 sec\n",
      "Number of classified segments: [18 18 4 7 12 2 ]\n"
     ]
    },
    {
     "name": "stderr",
     "output_type": "stream",
     "text": [
      "c:\\Users\\moro-\\project_CSL\\HVGH\\.venv\\lib\\site-packages\\ipykernel_launcher.py:357: DeprecationWarning: time.clock has been deprecated in Python 3.3 and will be removed from Python 3.8: use time.perf_counter or time.process_time instead\n"
     ]
    },
    {
     "name": "stdout",
     "output_type": "stream",
     "text": [
      "slice sampling\n",
      "forward...backward...0.5512751999999921 sec\n",
      "Number of classified segments: [18 19 4 7 12 2 0 0 ]\n",
      "slice sampling\n",
      "forward...backward...0.5206124999999986 sec\n",
      "Number of classified segments: [18 34 2 0 0 2 0 0 ]\n",
      "slice sampling\n",
      "forward...backward...0.8952076999999861 sec\n",
      "Number of classified segments: [0 35 1 4 1 0 5 10 0 0 0 ]\n"
     ]
    },
    {
     "name": "stderr",
     "output_type": "stream",
     "text": [
      "c:\\Users\\moro-\\project_CSL\\HVGH\\.venv\\lib\\site-packages\\numpy\\core\\_asarray.py:136: VisibleDeprecationWarning: Creating an ndarray from ragged nested sequences (which is a list-or-tuple of lists-or-tuples-or ndarrays with different lengths or shapes) is deprecated. If you meant to do this, you must specify 'dtype=object' when creating the ndarray\n",
      "  return array(a, dtype, copy=False, order=order, subok=True)\n"
     ]
    },
    {
     "name": "stdout",
     "output_type": "stream",
     "text": [
      "lik = 926.8077113637398\n",
      "----- 6 -----\n",
      "slice sampling\n",
      "forward..."
     ]
    },
    {
     "name": "stderr",
     "output_type": "stream",
     "text": [
      "c:\\Users\\moro-\\project_CSL\\HVGH\\.venv\\lib\\site-packages\\ipykernel_launcher.py:351: DeprecationWarning: time.clock has been deprecated in Python 3.3 and will be removed from Python 3.8: use time.perf_counter or time.process_time instead\n"
     ]
    },
    {
     "name": "stdout",
     "output_type": "stream",
     "text": [
      "backward...1.279849200000001 sec\n",
      "Number of classified segments: [8 17 14 4 1 0 5 10 0 0 0 0 0 0 ]\n"
     ]
    },
    {
     "name": "stderr",
     "output_type": "stream",
     "text": [
      "c:\\Users\\moro-\\project_CSL\\HVGH\\.venv\\lib\\site-packages\\ipykernel_launcher.py:357: DeprecationWarning: time.clock has been deprecated in Python 3.3 and will be removed from Python 3.8: use time.perf_counter or time.process_time instead\n"
     ]
    },
    {
     "name": "stdout",
     "output_type": "stream",
     "text": [
      "slice sampling\n",
      "forward...backward...0.6374747999999784 sec\n",
      "Number of classified segments: [8 19 14 4 1 0 5 10 ]\n",
      "slice sampling\n",
      "forward...backward...0.6898662999999772 sec\n",
      "Number of classified segments: [8 32 13 0 0 0 0 0 ]\n",
      "slice sampling\n",
      "forward...backward...0.7641243000000202 sec\n",
      "Number of classified segments: [0 33 0 6 1 0 0 14 ]\n"
     ]
    },
    {
     "name": "stderr",
     "output_type": "stream",
     "text": [
      "c:\\Users\\moro-\\project_CSL\\HVGH\\.venv\\lib\\site-packages\\numpy\\core\\_asarray.py:136: VisibleDeprecationWarning: Creating an ndarray from ragged nested sequences (which is a list-or-tuple of lists-or-tuples-or ndarrays with different lengths or shapes) is deprecated. If you meant to do this, you must specify 'dtype=object' when creating the ndarray\n",
      "  return array(a, dtype, copy=False, order=order, subok=True)\n",
      "c:\\Users\\moro-\\project_CSL\\HVGH\\.venv\\lib\\site-packages\\ipykernel_launcher.py:351: DeprecationWarning: time.clock has been deprecated in Python 3.3 and will be removed from Python 3.8: use time.perf_counter or time.process_time instead\n"
     ]
    },
    {
     "name": "stdout",
     "output_type": "stream",
     "text": [
      "lik = 939.3844607916019\n",
      "----- 7 -----\n",
      "slice sampling\n",
      "forward...backward...0.5395321000000024 sec\n",
      "Number of classified segments: [9 15 0 6 13 0 0 14 ]\n"
     ]
    },
    {
     "name": "stderr",
     "output_type": "stream",
     "text": [
      "c:\\Users\\moro-\\project_CSL\\HVGH\\.venv\\lib\\site-packages\\ipykernel_launcher.py:357: DeprecationWarning: time.clock has been deprecated in Python 3.3 and will be removed from Python 3.8: use time.perf_counter or time.process_time instead\n"
     ]
    },
    {
     "name": "stdout",
     "output_type": "stream",
     "text": [
      "slice sampling\n",
      "forward...backward...0.6824440000000038 sec\n",
      "Number of classified segments: [9 18 0 6 13 0 0 14 ]\n",
      "slice sampling\n",
      "forward...backward...1.0255996999999866 sec\n",
      "Number of classified segments: [9 31 0 0 12 0 0 0 0 0 0 0 ]\n",
      "slice sampling\n",
      "forward...backward...0.9101441999999906 sec\n",
      "Number of classified segments: [0 32 6 5 0 2 1 3 2 1 0 1 ]\n"
     ]
    },
    {
     "name": "stderr",
     "output_type": "stream",
     "text": [
      "c:\\Users\\moro-\\project_CSL\\HVGH\\.venv\\lib\\site-packages\\numpy\\core\\_asarray.py:136: VisibleDeprecationWarning: Creating an ndarray from ragged nested sequences (which is a list-or-tuple of lists-or-tuples-or ndarrays with different lengths or shapes) is deprecated. If you meant to do this, you must specify 'dtype=object' when creating the ndarray\n",
      "  return array(a, dtype, copy=False, order=order, subok=True)\n"
     ]
    },
    {
     "name": "stdout",
     "output_type": "stream",
     "text": [
      "lik = 857.733507954731\n",
      "54.03[sec]\n",
      "*--------------iteration:001--------------*\n",
      "VAE learned iteration: 1 data: 0\n",
      "VAE learned iteration: 1 data: 1\n",
      "VAE learned iteration: 1 data: 2\n",
      "VAE learned iteration: 1 data: 3\n",
      "----- 0 -----\n",
      "slice sampling\n"
     ]
    },
    {
     "name": "stderr",
     "output_type": "stream",
     "text": [
      "c:\\Users\\moro-\\project_CSL\\HVGH\\.venv\\lib\\site-packages\\ipykernel_launcher.py:351: DeprecationWarning: time.clock has been deprecated in Python 3.3 and will be removed from Python 3.8: use time.perf_counter or time.process_time instead\n"
     ]
    },
    {
     "name": "stdout",
     "output_type": "stream",
     "text": [
      "forward...backward...0.4022381000000337 sec\n",
      "Number of classified segments: [28 0 ]\n"
     ]
    },
    {
     "name": "stderr",
     "output_type": "stream",
     "text": [
      "c:\\Users\\moro-\\project_CSL\\HVGH\\.venv\\lib\\site-packages\\ipykernel_launcher.py:357: DeprecationWarning: time.clock has been deprecated in Python 3.3 and will be removed from Python 3.8: use time.perf_counter or time.process_time instead\n"
     ]
    },
    {
     "name": "stdout",
     "output_type": "stream",
     "text": [
      "slice sampling\n",
      "forward...backward...0.9839297000000329 sec\n",
      "Number of classified segments: [34 7 0 0 0 0 ]\n",
      "slice sampling\n",
      "forward...backward...0.674465400000031 sec\n",
      "Number of classified segments: [25 32 0 0 0 0 ]\n",
      "slice sampling\n",
      "forward...backward...0.27737220000000207 sec\n",
      "Number of classified segments: [40 32 0 ]\n"
     ]
    },
    {
     "name": "stderr",
     "output_type": "stream",
     "text": [
      "c:\\Users\\moro-\\project_CSL\\HVGH\\.venv\\lib\\site-packages\\numpy\\core\\_asarray.py:136: VisibleDeprecationWarning: Creating an ndarray from ragged nested sequences (which is a list-or-tuple of lists-or-tuples-or ndarrays with different lengths or shapes) is deprecated. If you meant to do this, you must specify 'dtype=object' when creating the ndarray\n",
      "  return array(a, dtype, copy=False, order=order, subok=True)\n"
     ]
    },
    {
     "name": "stdout",
     "output_type": "stream",
     "text": [
      "lik = 871.4813191348013\n",
      "----- 1 -----\n",
      "slice sampling\n",
      "forward..."
     ]
    },
    {
     "name": "stderr",
     "output_type": "stream",
     "text": [
      "c:\\Users\\moro-\\project_CSL\\HVGH\\.venv\\lib\\site-packages\\ipykernel_launcher.py:351: DeprecationWarning: time.clock has been deprecated in Python 3.3 and will be removed from Python 3.8: use time.perf_counter or time.process_time instead\n"
     ]
    },
    {
     "name": "stdout",
     "output_type": "stream",
     "text": [
      "backward...0.28968250000002627 sec\n",
      "Number of classified segments: [25 25 25 ]\n"
     ]
    },
    {
     "name": "stderr",
     "output_type": "stream",
     "text": [
      "c:\\Users\\moro-\\project_CSL\\HVGH\\.venv\\lib\\site-packages\\ipykernel_launcher.py:357: DeprecationWarning: time.clock has been deprecated in Python 3.3 and will be removed from Python 3.8: use time.perf_counter or time.process_time instead\n"
     ]
    },
    {
     "name": "stdout",
     "output_type": "stream",
     "text": [
      "slice sampling\n",
      "forward...backward...0.8007785000000354 sec\n",
      "Number of classified segments: [25 21 25 0 0 0 0 0 0 ]\n",
      "slice sampling\n",
      "forward...backward...0.45036299999998164 sec\n",
      "Number of classified segments: [0 39 25 0 0 ]\n",
      "slice sampling\n",
      "forward...backward...0.1789046999999755 sec\n",
      "Number of classified segments: [13 45 1 ]\n"
     ]
    },
    {
     "name": "stderr",
     "output_type": "stream",
     "text": [
      "c:\\Users\\moro-\\project_CSL\\HVGH\\.venv\\lib\\site-packages\\numpy\\core\\_asarray.py:136: VisibleDeprecationWarning: Creating an ndarray from ragged nested sequences (which is a list-or-tuple of lists-or-tuples-or ndarrays with different lengths or shapes) is deprecated. If you meant to do this, you must specify 'dtype=object' when creating the ndarray\n",
      "  return array(a, dtype, copy=False, order=order, subok=True)\n"
     ]
    },
    {
     "name": "stdout",
     "output_type": "stream",
     "text": [
      "lik = 837.8287035728575\n",
      "----- 2 -----\n",
      "slice sampling\n"
     ]
    },
    {
     "name": "stderr",
     "output_type": "stream",
     "text": [
      "c:\\Users\\moro-\\project_CSL\\HVGH\\.venv\\lib\\site-packages\\ipykernel_launcher.py:351: DeprecationWarning: time.clock has been deprecated in Python 3.3 and will be removed from Python 3.8: use time.perf_counter or time.process_time instead\n"
     ]
    },
    {
     "name": "stdout",
     "output_type": "stream",
     "text": [
      "forward...backward...0.3262751000000321 sec\n",
      "Number of classified segments: [13 24 17 0 ]\n"
     ]
    },
    {
     "name": "stderr",
     "output_type": "stream",
     "text": [
      "c:\\Users\\moro-\\project_CSL\\HVGH\\.venv\\lib\\site-packages\\ipykernel_launcher.py:357: DeprecationWarning: time.clock has been deprecated in Python 3.3 and will be removed from Python 3.8: use time.perf_counter or time.process_time instead\n"
     ]
    },
    {
     "name": "stdout",
     "output_type": "stream",
     "text": [
      "slice sampling\n",
      "forward...backward...0.1931185000000255 sec\n",
      "Number of classified segments: [13 22 17 ]\n",
      "slice sampling\n",
      "forward...backward...0.6741428999999926 sec\n",
      "Number of classified segments: [0 31 16 0 0 0 0 0 ]\n",
      "slice sampling\n",
      "forward...backward...0.6315281000000255 sec\n",
      "Number of classified segments: [12 37 0 0 0 0 0 1 ]\n"
     ]
    },
    {
     "name": "stderr",
     "output_type": "stream",
     "text": [
      "c:\\Users\\moro-\\project_CSL\\HVGH\\.venv\\lib\\site-packages\\numpy\\core\\_asarray.py:136: VisibleDeprecationWarning: Creating an ndarray from ragged nested sequences (which is a list-or-tuple of lists-or-tuples-or ndarrays with different lengths or shapes) is deprecated. If you meant to do this, you must specify 'dtype=object' when creating the ndarray\n",
      "  return array(a, dtype, copy=False, order=order, subok=True)\n"
     ]
    },
    {
     "name": "stdout",
     "output_type": "stream",
     "text": [
      "lik = 825.5984645316366\n",
      "----- 3 -----\n",
      "slice sampling\n"
     ]
    },
    {
     "name": "stderr",
     "output_type": "stream",
     "text": [
      "c:\\Users\\moro-\\project_CSL\\HVGH\\.venv\\lib\\site-packages\\ipykernel_launcher.py:351: DeprecationWarning: time.clock has been deprecated in Python 3.3 and will be removed from Python 3.8: use time.perf_counter or time.process_time instead\n"
     ]
    },
    {
     "name": "stdout",
     "output_type": "stream",
     "text": [
      "forward...backward...0.6288604999999734 sec\n",
      "Number of classified segments: [12 21 0 0 0 0 0 22 ]\n"
     ]
    },
    {
     "name": "stderr",
     "output_type": "stream",
     "text": [
      "c:\\Users\\moro-\\project_CSL\\HVGH\\.venv\\lib\\site-packages\\ipykernel_launcher.py:357: DeprecationWarning: time.clock has been deprecated in Python 3.3 and will be removed from Python 3.8: use time.perf_counter or time.process_time instead\n"
     ]
    },
    {
     "name": "stdout",
     "output_type": "stream",
     "text": [
      "slice sampling\n",
      "forward...backward...0.6669909999999959 sec\n",
      "Number of classified segments: [12 20 0 0 0 0 0 22 ]\n",
      "slice sampling\n",
      "forward...backward...0.6165990999999735 sec\n",
      "Number of classified segments: [0 28 0 0 0 0 0 21 ]\n",
      "slice sampling\n",
      "forward...backward...0.6323591999999962 sec\n",
      "Number of classified segments: [12 34 1 0 0 0 0 1 ]\n"
     ]
    },
    {
     "name": "stderr",
     "output_type": "stream",
     "text": [
      "c:\\Users\\moro-\\project_CSL\\HVGH\\.venv\\lib\\site-packages\\numpy\\core\\_asarray.py:136: VisibleDeprecationWarning: Creating an ndarray from ragged nested sequences (which is a list-or-tuple of lists-or-tuples-or ndarrays with different lengths or shapes) is deprecated. If you meant to do this, you must specify 'dtype=object' when creating the ndarray\n",
      "  return array(a, dtype, copy=False, order=order, subok=True)\n"
     ]
    },
    {
     "name": "stdout",
     "output_type": "stream",
     "text": [
      "lik = 819.59035292703\n",
      "----- 4 -----\n",
      "slice sampling\n",
      "forward..."
     ]
    },
    {
     "name": "stderr",
     "output_type": "stream",
     "text": [
      "c:\\Users\\moro-\\project_CSL\\HVGH\\.venv\\lib\\site-packages\\ipykernel_launcher.py:351: DeprecationWarning: time.clock has been deprecated in Python 3.3 and will be removed from Python 3.8: use time.perf_counter or time.process_time instead\n"
     ]
    },
    {
     "name": "stdout",
     "output_type": "stream",
     "text": [
      "backward...0.8670529999999985 sec\n",
      "Number of classified segments: [12 20 1 0 0 0 0 17 0 0 0 ]\n"
     ]
    },
    {
     "name": "stderr",
     "output_type": "stream",
     "text": [
      "c:\\Users\\moro-\\project_CSL\\HVGH\\.venv\\lib\\site-packages\\ipykernel_launcher.py:357: DeprecationWarning: time.clock has been deprecated in Python 3.3 and will be removed from Python 3.8: use time.perf_counter or time.process_time instead\n"
     ]
    },
    {
     "name": "stdout",
     "output_type": "stream",
     "text": [
      "slice sampling\n",
      "forward...backward...0.654300400000011 sec\n",
      "Number of classified segments: [12 20 1 0 0 0 0 17 ]\n",
      "slice sampling\n",
      "forward...backward...0.6942804000000251 sec\n",
      "Number of classified segments: [0 27 0 0 0 0 0 16 ]\n",
      "slice sampling\n",
      "forward...backward...0.6735628000000133 sec\n",
      "Number of classified segments: [12 33 0 0 1 0 0 1 ]\n"
     ]
    },
    {
     "name": "stderr",
     "output_type": "stream",
     "text": [
      "c:\\Users\\moro-\\project_CSL\\HVGH\\.venv\\lib\\site-packages\\numpy\\core\\_asarray.py:136: VisibleDeprecationWarning: Creating an ndarray from ragged nested sequences (which is a list-or-tuple of lists-or-tuples-or ndarrays with different lengths or shapes) is deprecated. If you meant to do this, you must specify 'dtype=object' when creating the ndarray\n",
      "  return array(a, dtype, copy=False, order=order, subok=True)\n"
     ]
    },
    {
     "name": "stdout",
     "output_type": "stream",
     "text": [
      "lik = 809.6695885110277\n",
      "----- 5 -----\n",
      "slice sampling\n"
     ]
    },
    {
     "name": "stderr",
     "output_type": "stream",
     "text": [
      "c:\\Users\\moro-\\project_CSL\\HVGH\\.venv\\lib\\site-packages\\ipykernel_launcher.py:351: DeprecationWarning: time.clock has been deprecated in Python 3.3 and will be removed from Python 3.8: use time.perf_counter or time.process_time instead\n"
     ]
    },
    {
     "name": "stdout",
     "output_type": "stream",
     "text": [
      "forward...backward...0.6420390999999768 sec\n",
      "Number of classified segments: [12 19 0 0 2 0 0 16 ]\n"
     ]
    },
    {
     "name": "stderr",
     "output_type": "stream",
     "text": [
      "c:\\Users\\moro-\\project_CSL\\HVGH\\.venv\\lib\\site-packages\\ipykernel_launcher.py:357: DeprecationWarning: time.clock has been deprecated in Python 3.3 and will be removed from Python 3.8: use time.perf_counter or time.process_time instead\n"
     ]
    },
    {
     "name": "stdout",
     "output_type": "stream",
     "text": [
      "slice sampling\n",
      "forward...backward...0.7152785999999764 sec\n",
      "Number of classified segments: [12 17 0 0 2 0 0 16 ]\n",
      "slice sampling\n",
      "forward...backward...0.6500535000000127 sec\n",
      "Number of classified segments: [0 22 0 0 1 0 0 15 ]\n",
      "slice sampling\n",
      "forward...backward...0.6621248999999807 sec\n",
      "Number of classified segments: [0 24 0 0 17 0 0 0 ]\n"
     ]
    },
    {
     "name": "stderr",
     "output_type": "stream",
     "text": [
      "c:\\Users\\moro-\\project_CSL\\HVGH\\.venv\\lib\\site-packages\\numpy\\core\\_asarray.py:136: VisibleDeprecationWarning: Creating an ndarray from ragged nested sequences (which is a list-or-tuple of lists-or-tuples-or ndarrays with different lengths or shapes) is deprecated. If you meant to do this, you must specify 'dtype=object' when creating the ndarray\n",
      "  return array(a, dtype, copy=False, order=order, subok=True)\n"
     ]
    },
    {
     "name": "stdout",
     "output_type": "stream",
     "text": [
      "lik = 856.6364237575535\n",
      "----- 6 -----\n",
      "slice sampling\n"
     ]
    },
    {
     "name": "stderr",
     "output_type": "stream",
     "text": [
      "c:\\Users\\moro-\\project_CSL\\HVGH\\.venv\\lib\\site-packages\\ipykernel_launcher.py:351: DeprecationWarning: time.clock has been deprecated in Python 3.3 and will be removed from Python 3.8: use time.perf_counter or time.process_time instead\n"
     ]
    },
    {
     "name": "stdout",
     "output_type": "stream",
     "text": [
      "forward...backward...0.37204260000004297 sec\n",
      "Number of classified segments: [18 13 0 0 21 ]\n"
     ]
    },
    {
     "name": "stderr",
     "output_type": "stream",
     "text": [
      "c:\\Users\\moro-\\project_CSL\\HVGH\\.venv\\lib\\site-packages\\ipykernel_launcher.py:357: DeprecationWarning: time.clock has been deprecated in Python 3.3 and will be removed from Python 3.8: use time.perf_counter or time.process_time instead\n"
     ]
    },
    {
     "name": "stdout",
     "output_type": "stream",
     "text": [
      "slice sampling\n",
      "forward...backward...0.4802793000000065 sec\n",
      "Number of classified segments: [18 13 0 0 21 ]\n",
      "slice sampling\n",
      "forward...backward...0.6401756999999861 sec\n",
      "Number of classified segments: [18 24 0 0 4 0 0 0 0 ]\n",
      "slice sampling\n",
      "forward...backward...0.4058407999999645 sec\n",
      "Number of classified segments: [0 27 0 0 13 ]\n"
     ]
    },
    {
     "name": "stderr",
     "output_type": "stream",
     "text": [
      "c:\\Users\\moro-\\project_CSL\\HVGH\\.venv\\lib\\site-packages\\numpy\\core\\_asarray.py:136: VisibleDeprecationWarning: Creating an ndarray from ragged nested sequences (which is a list-or-tuple of lists-or-tuples-or ndarrays with different lengths or shapes) is deprecated. If you meant to do this, you must specify 'dtype=object' when creating the ndarray\n",
      "  return array(a, dtype, copy=False, order=order, subok=True)\n"
     ]
    },
    {
     "name": "stdout",
     "output_type": "stream",
     "text": [
      "lik = 913.915239377253\n",
      "----- 7 -----\n",
      "slice sampling\n"
     ]
    },
    {
     "name": "stderr",
     "output_type": "stream",
     "text": [
      "c:\\Users\\moro-\\project_CSL\\HVGH\\.venv\\lib\\site-packages\\ipykernel_launcher.py:351: DeprecationWarning: time.clock has been deprecated in Python 3.3 and will be removed from Python 3.8: use time.perf_counter or time.process_time instead\n"
     ]
    },
    {
     "name": "stdout",
     "output_type": "stream",
     "text": [
      "forward...backward...0.4031962000000249 sec\n",
      "Number of classified segments: [18 16 0 0 17 ]\n"
     ]
    },
    {
     "name": "stderr",
     "output_type": "stream",
     "text": [
      "c:\\Users\\moro-\\project_CSL\\HVGH\\.venv\\lib\\site-packages\\ipykernel_launcher.py:357: DeprecationWarning: time.clock has been deprecated in Python 3.3 and will be removed from Python 3.8: use time.perf_counter or time.process_time instead\n"
     ]
    },
    {
     "name": "stdout",
     "output_type": "stream",
     "text": [
      "slice sampling\n",
      "forward...backward...0.33730350000001863 sec\n",
      "Number of classified segments: [18 16 0 0 17 ]\n",
      "slice sampling\n",
      "forward...backward...0.4028953000000115 sec\n",
      "Number of classified segments: [18 23 0 0 4 ]\n",
      "slice sampling\n",
      "forward...backward...0.4835312000000158 sec\n",
      "Number of classified segments: [0 26 0 0 13 0 ]\n"
     ]
    },
    {
     "name": "stderr",
     "output_type": "stream",
     "text": [
      "c:\\Users\\moro-\\project_CSL\\HVGH\\.venv\\lib\\site-packages\\numpy\\core\\_asarray.py:136: VisibleDeprecationWarning: Creating an ndarray from ragged nested sequences (which is a list-or-tuple of lists-or-tuples-or ndarrays with different lengths or shapes) is deprecated. If you meant to do this, you must specify 'dtype=object' when creating the ndarray\n",
      "  return array(a, dtype, copy=False, order=order, subok=True)\n"
     ]
    },
    {
     "name": "stdout",
     "output_type": "stream",
     "text": [
      "lik = 911.5626542180534\n",
      "47.28[sec]\n",
      "*--------------iteration:002--------------*\n",
      "VAE learned iteration: 2 data: 0\n",
      "VAE learned iteration: 2 data: 1\n",
      "VAE learned iteration: 2 data: 2\n",
      "VAE learned iteration: 2 data: 3\n",
      "----- 0 -----\n",
      "slice sampling\n"
     ]
    },
    {
     "name": "stderr",
     "output_type": "stream",
     "text": [
      "c:\\Users\\moro-\\project_CSL\\HVGH\\.venv\\lib\\site-packages\\ipykernel_launcher.py:351: DeprecationWarning: time.clock has been deprecated in Python 3.3 and will be removed from Python 3.8: use time.perf_counter or time.process_time instead\n",
      "c:\\Users\\moro-\\project_CSL\\HVGH\\.venv\\lib\\site-packages\\ipykernel_launcher.py:357: DeprecationWarning: time.clock has been deprecated in Python 3.3 and will be removed from Python 3.8: use time.perf_counter or time.process_time instead\n"
     ]
    },
    {
     "name": "stdout",
     "output_type": "stream",
     "text": [
      "forward...backward...0.1393471999999747 sec\n",
      "Number of classified segments: [27 0 ]\n",
      "slice sampling\n",
      "forward...backward...0.9313995999999634 sec\n",
      "Number of classified segments: [37 0 0 0 0 0 0 0 0 0 0 ]\n",
      "slice sampling\n",
      "forward...backward...0.3158632000000239 sec\n",
      "Number of classified segments: [53 0 0 0 ]\n",
      "slice sampling\n",
      "forward...backward...0.7145922999999925 sec\n",
      "Number of classified segments: [50 0 0 0 0 0 0 0 ]\n"
     ]
    },
    {
     "name": "stderr",
     "output_type": "stream",
     "text": [
      "c:\\Users\\moro-\\project_CSL\\HVGH\\.venv\\lib\\site-packages\\numpy\\core\\_asarray.py:136: VisibleDeprecationWarning: Creating an ndarray from ragged nested sequences (which is a list-or-tuple of lists-or-tuples-or ndarrays with different lengths or shapes) is deprecated. If you meant to do this, you must specify 'dtype=object' when creating the ndarray\n",
      "  return array(a, dtype, copy=False, order=order, subok=True)\n"
     ]
    },
    {
     "name": "stdout",
     "output_type": "stream",
     "text": [
      "lik = 741.806293544092\n",
      "----- 1 -----\n",
      "slice sampling\n"
     ]
    },
    {
     "name": "stderr",
     "output_type": "stream",
     "text": [
      "c:\\Users\\moro-\\project_CSL\\HVGH\\.venv\\lib\\site-packages\\ipykernel_launcher.py:351: DeprecationWarning: time.clock has been deprecated in Python 3.3 and will be removed from Python 3.8: use time.perf_counter or time.process_time instead\n"
     ]
    },
    {
     "name": "stdout",
     "output_type": "stream",
     "text": [
      "forward...backward...0.6325434000000314 sec\n",
      "Number of classified segments: [33 13 2 2 3 0 0 2 ]\n"
     ]
    },
    {
     "name": "stderr",
     "output_type": "stream",
     "text": [
      "c:\\Users\\moro-\\project_CSL\\HVGH\\.venv\\lib\\site-packages\\ipykernel_launcher.py:357: DeprecationWarning: time.clock has been deprecated in Python 3.3 and will be removed from Python 3.8: use time.perf_counter or time.process_time instead\n"
     ]
    },
    {
     "name": "stdout",
     "output_type": "stream",
     "text": [
      "slice sampling\n",
      "forward...backward...0.643245899999954 sec\n",
      "Number of classified segments: [33 13 2 2 3 0 0 2 ]\n",
      "slice sampling\n",
      "forward...backward...1.2210812000000146 sec\n",
      "Number of classified segments: [51 13 2 2 3 0 0 2 0 0 0 0 0 ]\n",
      "slice sampling\n",
      "forward...backward...0.6011851999999749 sec\n",
      "Number of classified segments: [57 0 0 1 2 0 0 0 ]\n"
     ]
    },
    {
     "name": "stderr",
     "output_type": "stream",
     "text": [
      "c:\\Users\\moro-\\project_CSL\\HVGH\\.venv\\lib\\site-packages\\numpy\\core\\_asarray.py:136: VisibleDeprecationWarning: Creating an ndarray from ragged nested sequences (which is a list-or-tuple of lists-or-tuples-or ndarrays with different lengths or shapes) is deprecated. If you meant to do this, you must specify 'dtype=object' when creating the ndarray\n",
      "  return array(a, dtype, copy=False, order=order, subok=True)\n"
     ]
    },
    {
     "name": "stdout",
     "output_type": "stream",
     "text": [
      "lik = 1119.839661268949\n",
      "----- 2 -----\n",
      "slice sampling\n"
     ]
    },
    {
     "name": "stderr",
     "output_type": "stream",
     "text": [
      "c:\\Users\\moro-\\project_CSL\\HVGH\\.venv\\lib\\site-packages\\ipykernel_launcher.py:351: DeprecationWarning: time.clock has been deprecated in Python 3.3 and will be removed from Python 3.8: use time.perf_counter or time.process_time instead\n"
     ]
    },
    {
     "name": "stdout",
     "output_type": "stream",
     "text": [
      "forward...backward...0.41849309999997786 sec\n",
      "Number of classified segments: [32 0 0 16 5 ]\n"
     ]
    },
    {
     "name": "stderr",
     "output_type": "stream",
     "text": [
      "c:\\Users\\moro-\\project_CSL\\HVGH\\.venv\\lib\\site-packages\\ipykernel_launcher.py:357: DeprecationWarning: time.clock has been deprecated in Python 3.3 and will be removed from Python 3.8: use time.perf_counter or time.process_time instead\n"
     ]
    },
    {
     "name": "stdout",
     "output_type": "stream",
     "text": [
      "slice sampling\n",
      "forward...backward...0.6950911999999789 sec\n",
      "Number of classified segments: [32 0 0 16 5 0 0 0 0 ]\n",
      "slice sampling\n",
      "forward...backward...0.5003725000000259 sec\n",
      "Number of classified segments: [50 0 0 15 3 0 0 ]\n",
      "slice sampling\n",
      "forward...backward...0.35291630000000396 sec\n",
      "Number of classified segments: [50 0 0 0 19 ]\n"
     ]
    },
    {
     "name": "stderr",
     "output_type": "stream",
     "text": [
      "c:\\Users\\moro-\\project_CSL\\HVGH\\.venv\\lib\\site-packages\\numpy\\core\\_asarray.py:136: VisibleDeprecationWarning: Creating an ndarray from ragged nested sequences (which is a list-or-tuple of lists-or-tuples-or ndarrays with different lengths or shapes) is deprecated. If you meant to do this, you must specify 'dtype=object' when creating the ndarray\n",
      "  return array(a, dtype, copy=False, order=order, subok=True)\n"
     ]
    },
    {
     "name": "stdout",
     "output_type": "stream",
     "text": [
      "lik = 1104.1286980467994\n",
      "----- 3 -----\n",
      "slice sampling\n"
     ]
    },
    {
     "name": "stderr",
     "output_type": "stream",
     "text": [
      "c:\\Users\\moro-\\project_CSL\\HVGH\\.venv\\lib\\site-packages\\ipykernel_launcher.py:351: DeprecationWarning: time.clock has been deprecated in Python 3.3 and will be removed from Python 3.8: use time.perf_counter or time.process_time instead\n"
     ]
    },
    {
     "name": "stdout",
     "output_type": "stream",
     "text": [
      "forward...backward...1.0177370999999766 sec\n",
      "Number of classified segments: [25 1 1 0 32 0 0 0 0 0 0 0 0 ]\n"
     ]
    },
    {
     "name": "stderr",
     "output_type": "stream",
     "text": [
      "c:\\Users\\moro-\\project_CSL\\HVGH\\.venv\\lib\\site-packages\\ipykernel_launcher.py:357: DeprecationWarning: time.clock has been deprecated in Python 3.3 and will be removed from Python 3.8: use time.perf_counter or time.process_time instead\n"
     ]
    },
    {
     "name": "stdout",
     "output_type": "stream",
     "text": [
      "slice sampling\n",
      "forward...backward...0.7231696000000056 sec\n",
      "Number of classified segments: [22 1 1 0 32 0 0 0 0 ]\n",
      "slice sampling\n",
      "forward...backward...0.8603294999999775 sec\n",
      "Number of classified segments: [44 1 1 0 13 0 0 0 0 0 ]\n",
      "slice sampling\n",
      "forward...backward...0.28934449999997014 sec\n",
      "Number of classified segments: [44 5 7 0 8 ]\n"
     ]
    },
    {
     "name": "stderr",
     "output_type": "stream",
     "text": [
      "c:\\Users\\moro-\\project_CSL\\HVGH\\.venv\\lib\\site-packages\\numpy\\core\\_asarray.py:136: VisibleDeprecationWarning: Creating an ndarray from ragged nested sequences (which is a list-or-tuple of lists-or-tuples-or ndarrays with different lengths or shapes) is deprecated. If you meant to do this, you must specify 'dtype=object' when creating the ndarray\n",
      "  return array(a, dtype, copy=False, order=order, subok=True)\n"
     ]
    },
    {
     "name": "stdout",
     "output_type": "stream",
     "text": [
      "lik = 1284.8239333952795\n",
      "----- 4 -----\n",
      "slice sampling\n"
     ]
    },
    {
     "name": "stderr",
     "output_type": "stream",
     "text": [
      "c:\\Users\\moro-\\project_CSL\\HVGH\\.venv\\lib\\site-packages\\ipykernel_launcher.py:351: DeprecationWarning: time.clock has been deprecated in Python 3.3 and will be removed from Python 3.8: use time.perf_counter or time.process_time instead\n"
     ]
    },
    {
     "name": "stdout",
     "output_type": "stream",
     "text": [
      "forward...backward...0.8475766999999905 sec\n",
      "Number of classified segments: [22 5 7 0 20 0 0 0 0 0 0 ]\n"
     ]
    },
    {
     "name": "stderr",
     "output_type": "stream",
     "text": [
      "c:\\Users\\moro-\\project_CSL\\HVGH\\.venv\\lib\\site-packages\\ipykernel_launcher.py:357: DeprecationWarning: time.clock has been deprecated in Python 3.3 and will be removed from Python 3.8: use time.perf_counter or time.process_time instead\n"
     ]
    },
    {
     "name": "stdout",
     "output_type": "stream",
     "text": [
      "slice sampling\n",
      "forward...backward...0.38510400000001255 sec\n",
      "Number of classified segments: [21 5 7 0 20 0 ]\n",
      "slice sampling\n",
      "forward...backward...0.5359703000000309 sec\n",
      "Number of classified segments: [40 0 0 0 12 0 0 ]\n",
      "slice sampling\n",
      "forward...backward...0.4889574000000039 sec\n",
      "Number of classified segments: [44 0 0 0 15 0 0 ]\n"
     ]
    },
    {
     "name": "stderr",
     "output_type": "stream",
     "text": [
      "c:\\Users\\moro-\\project_CSL\\HVGH\\.venv\\lib\\site-packages\\numpy\\core\\_asarray.py:136: VisibleDeprecationWarning: Creating an ndarray from ragged nested sequences (which is a list-or-tuple of lists-or-tuples-or ndarrays with different lengths or shapes) is deprecated. If you meant to do this, you must specify 'dtype=object' when creating the ndarray\n",
      "  return array(a, dtype, copy=False, order=order, subok=True)\n"
     ]
    },
    {
     "name": "stdout",
     "output_type": "stream",
     "text": [
      "lik = 987.9478737782723\n",
      "----- 5 -----\n",
      "slice sampling\n"
     ]
    },
    {
     "name": "stderr",
     "output_type": "stream",
     "text": [
      "c:\\Users\\moro-\\project_CSL\\HVGH\\.venv\\lib\\site-packages\\ipykernel_launcher.py:351: DeprecationWarning: time.clock has been deprecated in Python 3.3 and will be removed from Python 3.8: use time.perf_counter or time.process_time instead\n"
     ]
    },
    {
     "name": "stdout",
     "output_type": "stream",
     "text": [
      "forward...backward...0.4803879999999481 sec\n",
      "Number of classified segments: [23 0 0 0 29 0 0 ]\n"
     ]
    },
    {
     "name": "stderr",
     "output_type": "stream",
     "text": [
      "c:\\Users\\moro-\\project_CSL\\HVGH\\.venv\\lib\\site-packages\\ipykernel_launcher.py:357: DeprecationWarning: time.clock has been deprecated in Python 3.3 and will be removed from Python 3.8: use time.perf_counter or time.process_time instead\n"
     ]
    },
    {
     "name": "stdout",
     "output_type": "stream",
     "text": [
      "slice sampling\n",
      "forward...backward...1.585091699999964 sec\n",
      "Number of classified segments: [22 0 0 0 29 0 0 0 0 0 0 0 0 0 0 0 0 0 ]\n",
      "slice sampling\n",
      "forward...backward...0.566849599999955 sec\n",
      "Number of classified segments: [35 0 0 0 14 0 0 ]\n",
      "slice sampling\n",
      "forward...backward...1.0895966999999587 sec\n",
      "Number of classified segments: [38 0 0 0 12 0 0 0 0 0 0 0 0 0 ]\n"
     ]
    },
    {
     "name": "stderr",
     "output_type": "stream",
     "text": [
      "c:\\Users\\moro-\\project_CSL\\HVGH\\.venv\\lib\\site-packages\\numpy\\core\\_asarray.py:136: VisibleDeprecationWarning: Creating an ndarray from ragged nested sequences (which is a list-or-tuple of lists-or-tuples-or ndarrays with different lengths or shapes) is deprecated. If you meant to do this, you must specify 'dtype=object' when creating the ndarray\n",
      "  return array(a, dtype, copy=False, order=order, subok=True)\n"
     ]
    },
    {
     "name": "stdout",
     "output_type": "stream",
     "text": [
      "lik = 1047.11616127561\n",
      "----- 6 -----\n",
      "slice sampling\n"
     ]
    },
    {
     "name": "stderr",
     "output_type": "stream",
     "text": [
      "c:\\Users\\moro-\\project_CSL\\HVGH\\.venv\\lib\\site-packages\\ipykernel_launcher.py:351: DeprecationWarning: time.clock has been deprecated in Python 3.3 and will be removed from Python 3.8: use time.perf_counter or time.process_time instead\n"
     ]
    },
    {
     "name": "stdout",
     "output_type": "stream",
     "text": [
      "forward...backward...0.47124489999998787 sec\n",
      "Number of classified segments: [20 0 0 0 19 0 0 ]\n"
     ]
    },
    {
     "name": "stderr",
     "output_type": "stream",
     "text": [
      "c:\\Users\\moro-\\project_CSL\\HVGH\\.venv\\lib\\site-packages\\ipykernel_launcher.py:357: DeprecationWarning: time.clock has been deprecated in Python 3.3 and will be removed from Python 3.8: use time.perf_counter or time.process_time instead\n"
     ]
    },
    {
     "name": "stdout",
     "output_type": "stream",
     "text": [
      "slice sampling\n",
      "forward...backward...0.4179986999999983 sec\n",
      "Number of classified segments: [20 0 0 0 19 0 ]\n",
      "slice sampling\n",
      "forward...backward...0.37202130000002853 sec\n",
      "Number of classified segments: [33 0 0 0 7 ]\n",
      "slice sampling\n",
      "forward...backward...0.4602345999999784 sec\n",
      "Number of classified segments: [34 0 0 0 18 0 0 ]\n"
     ]
    },
    {
     "name": "stderr",
     "output_type": "stream",
     "text": [
      "c:\\Users\\moro-\\project_CSL\\HVGH\\.venv\\lib\\site-packages\\numpy\\core\\_asarray.py:136: VisibleDeprecationWarning: Creating an ndarray from ragged nested sequences (which is a list-or-tuple of lists-or-tuples-or ndarrays with different lengths or shapes) is deprecated. If you meant to do this, you must specify 'dtype=object' when creating the ndarray\n",
      "  return array(a, dtype, copy=False, order=order, subok=True)\n"
     ]
    },
    {
     "name": "stdout",
     "output_type": "stream",
     "text": [
      "lik = 1040.249535235128\n",
      "----- 7 -----\n",
      "slice sampling\n"
     ]
    },
    {
     "name": "stderr",
     "output_type": "stream",
     "text": [
      "c:\\Users\\moro-\\project_CSL\\HVGH\\.venv\\lib\\site-packages\\ipykernel_launcher.py:351: DeprecationWarning: time.clock has been deprecated in Python 3.3 and will be removed from Python 3.8: use time.perf_counter or time.process_time instead\n"
     ]
    },
    {
     "name": "stdout",
     "output_type": "stream",
     "text": [
      "forward...backward...0.5962397000000124 sec\n",
      "Number of classified segments: [17 0 0 0 32 0 0 0 ]\n"
     ]
    },
    {
     "name": "stderr",
     "output_type": "stream",
     "text": [
      "c:\\Users\\moro-\\project_CSL\\HVGH\\.venv\\lib\\site-packages\\ipykernel_launcher.py:357: DeprecationWarning: time.clock has been deprecated in Python 3.3 and will be removed from Python 3.8: use time.perf_counter or time.process_time instead\n"
     ]
    },
    {
     "name": "stdout",
     "output_type": "stream",
     "text": [
      "slice sampling\n",
      "forward...backward...0.6632766000000174 sec\n",
      "Number of classified segments: [16 0 0 0 32 0 0 0 ]\n",
      "slice sampling\n",
      "forward...backward...0.8505733000000077 sec\n",
      "Number of classified segments: [30 0 0 0 14 0 0 0 0 0 ]\n",
      "slice sampling\n",
      "forward...backward...0.5914832000000274 sec\n",
      "Number of classified segments: [35 0 0 0 14 0 0 0 0 ]\n"
     ]
    },
    {
     "name": "stderr",
     "output_type": "stream",
     "text": [
      "c:\\Users\\moro-\\project_CSL\\HVGH\\.venv\\lib\\site-packages\\numpy\\core\\_asarray.py:136: VisibleDeprecationWarning: Creating an ndarray from ragged nested sequences (which is a list-or-tuple of lists-or-tuples-or ndarrays with different lengths or shapes) is deprecated. If you meant to do this, you must specify 'dtype=object' when creating the ndarray\n",
      "  return array(a, dtype, copy=False, order=order, subok=True)\n"
     ]
    },
    {
     "name": "stdout",
     "output_type": "stream",
     "text": [
      "lik = 974.7907228283528\n",
      "49.64[sec]\n",
      "*--------------iteration:003--------------*\n",
      "VAE learned iteration: 3 data: 0\n",
      "VAE learned iteration: 3 data: 1\n",
      "VAE learned iteration: 3 data: 2\n",
      "VAE learned iteration: 3 data: 3\n",
      "----- 0 -----\n",
      "slice sampling\n"
     ]
    },
    {
     "name": "stderr",
     "output_type": "stream",
     "text": [
      "c:\\Users\\moro-\\project_CSL\\HVGH\\.venv\\lib\\site-packages\\ipykernel_launcher.py:351: DeprecationWarning: time.clock has been deprecated in Python 3.3 and will be removed from Python 3.8: use time.perf_counter or time.process_time instead\n"
     ]
    },
    {
     "name": "stdout",
     "output_type": "stream",
     "text": [
      "forward...backward...0.4412449999999808 sec\n",
      "Number of classified segments: [27 0 0 0 0 0 ]\n"
     ]
    },
    {
     "name": "stderr",
     "output_type": "stream",
     "text": [
      "c:\\Users\\moro-\\project_CSL\\HVGH\\.venv\\lib\\site-packages\\ipykernel_launcher.py:357: DeprecationWarning: time.clock has been deprecated in Python 3.3 and will be removed from Python 3.8: use time.perf_counter or time.process_time instead\n"
     ]
    },
    {
     "name": "stdout",
     "output_type": "stream",
     "text": [
      "slice sampling\n",
      "forward...backward...0.4386855000000196 sec\n",
      "Number of classified segments: [29 0 0 0 0 0 ]\n",
      "slice sampling\n",
      "forward...backward...0.8525017999999704 sec\n",
      "Number of classified segments: [30 0 0 0 0 0 0 0 0 0 0 0 0 ]\n",
      "slice sampling\n",
      "forward...backward...0.45589579999995067 sec\n",
      "Number of classified segments: [29 0 0 0 0 0 0 ]\n"
     ]
    },
    {
     "name": "stderr",
     "output_type": "stream",
     "text": [
      "c:\\Users\\moro-\\project_CSL\\HVGH\\.venv\\lib\\site-packages\\numpy\\core\\_asarray.py:136: VisibleDeprecationWarning: Creating an ndarray from ragged nested sequences (which is a list-or-tuple of lists-or-tuples-or ndarrays with different lengths or shapes) is deprecated. If you meant to do this, you must specify 'dtype=object' when creating the ndarray\n",
      "  return array(a, dtype, copy=False, order=order, subok=True)\n"
     ]
    },
    {
     "name": "stdout",
     "output_type": "stream",
     "text": [
      "lik = 429.2671363794789\n",
      "----- 1 -----\n",
      "slice sampling\n"
     ]
    },
    {
     "name": "stderr",
     "output_type": "stream",
     "text": [
      "c:\\Users\\moro-\\project_CSL\\HVGH\\.venv\\lib\\site-packages\\ipykernel_launcher.py:351: DeprecationWarning: time.clock has been deprecated in Python 3.3 and will be removed from Python 3.8: use time.perf_counter or time.process_time instead\n"
     ]
    },
    {
     "name": "stdout",
     "output_type": "stream",
     "text": [
      "forward...backward...0.8345168999999828 sec\n",
      "Number of classified segments: [29 0 1 5 2 0 0 0 0 0 0 ]\n"
     ]
    },
    {
     "name": "stderr",
     "output_type": "stream",
     "text": [
      "c:\\Users\\moro-\\project_CSL\\HVGH\\.venv\\lib\\site-packages\\ipykernel_launcher.py:357: DeprecationWarning: time.clock has been deprecated in Python 3.3 and will be removed from Python 3.8: use time.perf_counter or time.process_time instead\n"
     ]
    },
    {
     "name": "stdout",
     "output_type": "stream",
     "text": [
      "slice sampling\n",
      "forward...backward...0.7617137999999954 sec\n",
      "Number of classified segments: [28 0 1 5 2 0 0 0 0 0 ]\n",
      "slice sampling\n",
      "forward...backward...0.46777969999999414 sec\n",
      "Number of classified segments: [32 0 1 5 2 0 0 ]\n",
      "slice sampling\n",
      "forward...backward...0.8204847000000086 sec\n",
      "Number of classified segments: [29 0 0 6 3 0 0 0 0 0 0 0 ]\n"
     ]
    },
    {
     "name": "stderr",
     "output_type": "stream",
     "text": [
      "c:\\Users\\moro-\\project_CSL\\HVGH\\.venv\\lib\\site-packages\\numpy\\core\\_asarray.py:136: VisibleDeprecationWarning: Creating an ndarray from ragged nested sequences (which is a list-or-tuple of lists-or-tuples-or ndarrays with different lengths or shapes) is deprecated. If you meant to do this, you must specify 'dtype=object' when creating the ndarray\n",
      "  return array(a, dtype, copy=False, order=order, subok=True)\n"
     ]
    },
    {
     "name": "stdout",
     "output_type": "stream",
     "text": [
      "lik = 1201.2360784684035\n",
      "----- 2 -----\n",
      "slice sampling\n"
     ]
    },
    {
     "name": "stderr",
     "output_type": "stream",
     "text": [
      "c:\\Users\\moro-\\project_CSL\\HVGH\\.venv\\lib\\site-packages\\ipykernel_launcher.py:351: DeprecationWarning: time.clock has been deprecated in Python 3.3 and will be removed from Python 3.8: use time.perf_counter or time.process_time instead\n"
     ]
    },
    {
     "name": "stdout",
     "output_type": "stream",
     "text": [
      "forward...backward...0.7614709000000062 sec\n",
      "Number of classified segments: [18 0 0 27 7 0 0 0 0 0 0 ]\n"
     ]
    },
    {
     "name": "stderr",
     "output_type": "stream",
     "text": [
      "c:\\Users\\moro-\\project_CSL\\HVGH\\.venv\\lib\\site-packages\\ipykernel_launcher.py:357: DeprecationWarning: time.clock has been deprecated in Python 3.3 and will be removed from Python 3.8: use time.perf_counter or time.process_time instead\n"
     ]
    },
    {
     "name": "stdout",
     "output_type": "stream",
     "text": [
      "slice sampling\n",
      "forward...backward...0.5563528000000133 sec\n",
      "Number of classified segments: [18 0 0 27 7 0 0 0 ]\n",
      "slice sampling\n",
      "forward...backward...0.4957654999999477 sec\n",
      "Number of classified segments: [22 0 0 21 4 0 0 ]\n",
      "slice sampling\n",
      "forward...backward...0.9108504000000153 sec\n",
      "Number of classified segments: [24 0 0 16 2 0 0 0 0 ]\n"
     ]
    },
    {
     "name": "stderr",
     "output_type": "stream",
     "text": [
      "c:\\Users\\moro-\\project_CSL\\HVGH\\.venv\\lib\\site-packages\\numpy\\core\\_asarray.py:136: VisibleDeprecationWarning: Creating an ndarray from ragged nested sequences (which is a list-or-tuple of lists-or-tuples-or ndarrays with different lengths or shapes) is deprecated. If you meant to do this, you must specify 'dtype=object' when creating the ndarray\n",
      "  return array(a, dtype, copy=False, order=order, subok=True)\n"
     ]
    },
    {
     "name": "stdout",
     "output_type": "stream",
     "text": [
      "lik = 1305.3342904597655\n",
      "----- 3 -----\n",
      "slice sampling\n"
     ]
    },
    {
     "name": "stderr",
     "output_type": "stream",
     "text": [
      "c:\\Users\\moro-\\project_CSL\\HVGH\\.venv\\lib\\site-packages\\ipykernel_launcher.py:351: DeprecationWarning: time.clock has been deprecated in Python 3.3 and will be removed from Python 3.8: use time.perf_counter or time.process_time instead\n"
     ]
    },
    {
     "name": "stdout",
     "output_type": "stream",
     "text": [
      "forward...backward...0.7554377000000159 sec\n",
      "Number of classified segments: [13 0 0 35 4 0 0 0 0 0 0 ]\n"
     ]
    },
    {
     "name": "stderr",
     "output_type": "stream",
     "text": [
      "c:\\Users\\moro-\\project_CSL\\HVGH\\.venv\\lib\\site-packages\\ipykernel_launcher.py:357: DeprecationWarning: time.clock has been deprecated in Python 3.3 and will be removed from Python 3.8: use time.perf_counter or time.process_time instead\n"
     ]
    },
    {
     "name": "stdout",
     "output_type": "stream",
     "text": [
      "slice sampling\n",
      "forward...backward...0.9295662999999763 sec\n",
      "Number of classified segments: [14 0 0 35 4 0 0 0 0 0 0 0 ]\n",
      "slice sampling\n",
      "forward...backward...0.32580749999999625 sec\n",
      "Number of classified segments: [24 0 0 19 2 ]\n",
      "slice sampling\n",
      "forward...backward...0.2934804000000213 sec\n",
      "Number of classified segments: [25 0 0 20 0 ]\n"
     ]
    },
    {
     "name": "stderr",
     "output_type": "stream",
     "text": [
      "c:\\Users\\moro-\\project_CSL\\HVGH\\.venv\\lib\\site-packages\\numpy\\core\\_asarray.py:136: VisibleDeprecationWarning: Creating an ndarray from ragged nested sequences (which is a list-or-tuple of lists-or-tuples-or ndarrays with different lengths or shapes) is deprecated. If you meant to do this, you must specify 'dtype=object' when creating the ndarray\n",
      "  return array(a, dtype, copy=False, order=order, subok=True)\n",
      "c:\\Users\\moro-\\project_CSL\\HVGH\\.venv\\lib\\site-packages\\ipykernel_launcher.py:351: DeprecationWarning: time.clock has been deprecated in Python 3.3 and will be removed from Python 3.8: use time.perf_counter or time.process_time instead\n"
     ]
    },
    {
     "name": "stdout",
     "output_type": "stream",
     "text": [
      "lik = 1333.335146358\n",
      "----- 4 -----\n",
      "slice sampling\n",
      "forward...backward...0.5065298000000098 sec\n",
      "Number of classified segments: [13 0 0 37 0 0 0 0 ]\n"
     ]
    },
    {
     "name": "stderr",
     "output_type": "stream",
     "text": [
      "c:\\Users\\moro-\\project_CSL\\HVGH\\.venv\\lib\\site-packages\\ipykernel_launcher.py:357: DeprecationWarning: time.clock has been deprecated in Python 3.3 and will be removed from Python 3.8: use time.perf_counter or time.process_time instead\n"
     ]
    },
    {
     "name": "stdout",
     "output_type": "stream",
     "text": [
      "slice sampling\n",
      "forward...backward...0.7023353000000156 sec\n",
      "Number of classified segments: [15 0 0 37 0 0 0 0 0 0 0 ]\n",
      "slice sampling\n",
      "forward...backward...0.8625583000000461 sec\n",
      "Number of classified segments: [27 0 0 17 0 0 0 0 0 0 0 0 ]\n",
      "slice sampling\n",
      "forward...backward...0.576981099999955 sec\n",
      "Number of classified segments: [28 0 0 16 0 0 0 0 0 ]\n"
     ]
    },
    {
     "name": "stderr",
     "output_type": "stream",
     "text": [
      "c:\\Users\\moro-\\project_CSL\\HVGH\\.venv\\lib\\site-packages\\numpy\\core\\_asarray.py:136: VisibleDeprecationWarning: Creating an ndarray from ragged nested sequences (which is a list-or-tuple of lists-or-tuples-or ndarrays with different lengths or shapes) is deprecated. If you meant to do this, you must specify 'dtype=object' when creating the ndarray\n",
      "  return array(a, dtype, copy=False, order=order, subok=True)\n"
     ]
    },
    {
     "name": "stdout",
     "output_type": "stream",
     "text": [
      "lik = 1325.091402766575\n",
      "----- 5 -----\n",
      "slice sampling\n"
     ]
    },
    {
     "name": "stderr",
     "output_type": "stream",
     "text": [
      "c:\\Users\\moro-\\project_CSL\\HVGH\\.venv\\lib\\site-packages\\ipykernel_launcher.py:351: DeprecationWarning: time.clock has been deprecated in Python 3.3 and will be removed from Python 3.8: use time.perf_counter or time.process_time instead\n"
     ]
    },
    {
     "name": "stdout",
     "output_type": "stream",
     "text": [
      "forward...backward...0.9077581000000237 sec\n",
      "Number of classified segments: [14 0 0 31 0 0 0 0 0 0 0 0 ]\n"
     ]
    },
    {
     "name": "stderr",
     "output_type": "stream",
     "text": [
      "c:\\Users\\moro-\\project_CSL\\HVGH\\.venv\\lib\\site-packages\\ipykernel_launcher.py:357: DeprecationWarning: time.clock has been deprecated in Python 3.3 and will be removed from Python 3.8: use time.perf_counter or time.process_time instead\n"
     ]
    },
    {
     "name": "stdout",
     "output_type": "stream",
     "text": [
      "slice sampling\n",
      "forward...backward...0.5487345999999889 sec\n",
      "Number of classified segments: [14 0 0 31 0 0 0 0 ]\n",
      "slice sampling\n",
      "forward...backward...1.397651000000053 sec\n",
      "Number of classified segments: [26 0 0 15 0 0 0 0 0 0 0 0 0 0 0 0 0 ]\n",
      "slice sampling\n",
      "forward...backward...1.0571766999999568 sec\n",
      "Number of classified segments: [27 0 0 14 0 0 0 0 0 0 0 0 0 0 ]\n"
     ]
    },
    {
     "name": "stderr",
     "output_type": "stream",
     "text": [
      "c:\\Users\\moro-\\project_CSL\\HVGH\\.venv\\lib\\site-packages\\numpy\\core\\_asarray.py:136: VisibleDeprecationWarning: Creating an ndarray from ragged nested sequences (which is a list-or-tuple of lists-or-tuples-or ndarrays with different lengths or shapes) is deprecated. If you meant to do this, you must specify 'dtype=object' when creating the ndarray\n",
      "  return array(a, dtype, copy=False, order=order, subok=True)\n"
     ]
    },
    {
     "name": "stdout",
     "output_type": "stream",
     "text": [
      "lik = 1338.1758114062523\n",
      "----- 6 -----\n",
      "slice sampling\n"
     ]
    },
    {
     "name": "stderr",
     "output_type": "stream",
     "text": [
      "c:\\Users\\moro-\\project_CSL\\HVGH\\.venv\\lib\\site-packages\\ipykernel_launcher.py:351: DeprecationWarning: time.clock has been deprecated in Python 3.3 and will be removed from Python 3.8: use time.perf_counter or time.process_time instead\n"
     ]
    },
    {
     "name": "stdout",
     "output_type": "stream",
     "text": [
      "forward...backward...0.7816675999999916 sec\n",
      "Number of classified segments: [14 0 0 27 0 0 0 0 0 0 0 ]\n"
     ]
    },
    {
     "name": "stderr",
     "output_type": "stream",
     "text": [
      "c:\\Users\\moro-\\project_CSL\\HVGH\\.venv\\lib\\site-packages\\ipykernel_launcher.py:357: DeprecationWarning: time.clock has been deprecated in Python 3.3 and will be removed from Python 3.8: use time.perf_counter or time.process_time instead\n"
     ]
    },
    {
     "name": "stdout",
     "output_type": "stream",
     "text": [
      "slice sampling\n",
      "forward...backward...0.4134201999999618 sec\n",
      "Number of classified segments: [14 0 0 27 0 0 ]\n",
      "slice sampling\n",
      "forward...backward...0.40414309999999887 sec\n",
      "Number of classified segments: [27 0 0 13 0 0 ]\n",
      "slice sampling\n",
      "forward...backward...0.7357687999999598 sec\n",
      "Number of classified segments: [27 0 0 15 0 0 0 0 0 0 0 ]\n"
     ]
    },
    {
     "name": "stderr",
     "output_type": "stream",
     "text": [
      "c:\\Users\\moro-\\project_CSL\\HVGH\\.venv\\lib\\site-packages\\numpy\\core\\_asarray.py:136: VisibleDeprecationWarning: Creating an ndarray from ragged nested sequences (which is a list-or-tuple of lists-or-tuples-or ndarrays with different lengths or shapes) is deprecated. If you meant to do this, you must specify 'dtype=object' when creating the ndarray\n",
      "  return array(a, dtype, copy=False, order=order, subok=True)\n"
     ]
    },
    {
     "name": "stdout",
     "output_type": "stream",
     "text": [
      "lik = 1352.0998787944006\n",
      "----- 7 -----\n",
      "slice sampling\n"
     ]
    },
    {
     "name": "stderr",
     "output_type": "stream",
     "text": [
      "c:\\Users\\moro-\\project_CSL\\HVGH\\.venv\\lib\\site-packages\\ipykernel_launcher.py:351: DeprecationWarning: time.clock has been deprecated in Python 3.3 and will be removed from Python 3.8: use time.perf_counter or time.process_time instead\n"
     ]
    },
    {
     "name": "stdout",
     "output_type": "stream",
     "text": [
      "forward...backward...0.4950609999999642 sec\n",
      "Number of classified segments: [14 0 0 28 0 0 0 ]\n"
     ]
    },
    {
     "name": "stderr",
     "output_type": "stream",
     "text": [
      "c:\\Users\\moro-\\project_CSL\\HVGH\\.venv\\lib\\site-packages\\ipykernel_launcher.py:357: DeprecationWarning: time.clock has been deprecated in Python 3.3 and will be removed from Python 3.8: use time.perf_counter or time.process_time instead\n"
     ]
    },
    {
     "name": "stdout",
     "output_type": "stream",
     "text": [
      "slice sampling\n",
      "forward...backward...0.4785847999999646 sec\n",
      "Number of classified segments: [13 0 0 28 0 0 0 ]\n",
      "slice sampling\n",
      "forward...backward...0.47844939999998815 sec\n",
      "Number of classified segments: [26 0 0 13 0 0 ]\n",
      "slice sampling\n",
      "forward...backward...0.8843257999999992 sec\n",
      "Number of classified segments: [26 0 0 15 0 0 0 0 0 0 ]\n"
     ]
    },
    {
     "name": "stderr",
     "output_type": "stream",
     "text": [
      "c:\\Users\\moro-\\project_CSL\\HVGH\\.venv\\lib\\site-packages\\numpy\\core\\_asarray.py:136: VisibleDeprecationWarning: Creating an ndarray from ragged nested sequences (which is a list-or-tuple of lists-or-tuples-or ndarrays with different lengths or shapes) is deprecated. If you meant to do this, you must specify 'dtype=object' when creating the ndarray\n",
      "  return array(a, dtype, copy=False, order=order, subok=True)\n"
     ]
    },
    {
     "name": "stdout",
     "output_type": "stream",
     "text": [
      "lik = 1348.3897719763738\n",
      "80.48[sec]\n",
      "*--------------iteration:004--------------*\n",
      "VAE learned iteration: 4 data: 0\n",
      "VAE learned iteration: 4 data: 1\n",
      "VAE learned iteration: 4 data: 2\n",
      "VAE learned iteration: 4 data: 3\n",
      "----- 0 -----\n",
      "slice sampling\n"
     ]
    },
    {
     "name": "stderr",
     "output_type": "stream",
     "text": [
      "c:\\Users\\moro-\\project_CSL\\HVGH\\.venv\\lib\\site-packages\\ipykernel_launcher.py:351: DeprecationWarning: time.clock has been deprecated in Python 3.3 and will be removed from Python 3.8: use time.perf_counter or time.process_time instead\n"
     ]
    },
    {
     "name": "stdout",
     "output_type": "stream",
     "text": [
      "forward...backward...0.25932160000002114 sec\n",
      "Number of classified segments: [30 0 0 ]\n"
     ]
    },
    {
     "name": "stderr",
     "output_type": "stream",
     "text": [
      "c:\\Users\\moro-\\project_CSL\\HVGH\\.venv\\lib\\site-packages\\ipykernel_launcher.py:357: DeprecationWarning: time.clock has been deprecated in Python 3.3 and will be removed from Python 3.8: use time.perf_counter or time.process_time instead\n"
     ]
    },
    {
     "name": "stdout",
     "output_type": "stream",
     "text": [
      "slice sampling\n",
      "forward...backward...0.4611317000000099 sec\n",
      "Number of classified segments: [28 0 0 0 0 ]\n",
      "slice sampling\n",
      "forward...backward...0.3129104999999299 sec\n",
      "Number of classified segments: [27 0 0 ]\n",
      "slice sampling\n",
      "forward...backward...0.6220749999999953 sec\n",
      "Number of classified segments: [25 0 0 0 0 0 ]\n"
     ]
    },
    {
     "name": "stderr",
     "output_type": "stream",
     "text": [
      "c:\\Users\\moro-\\project_CSL\\HVGH\\.venv\\lib\\site-packages\\numpy\\core\\_asarray.py:136: VisibleDeprecationWarning: Creating an ndarray from ragged nested sequences (which is a list-or-tuple of lists-or-tuples-or ndarrays with different lengths or shapes) is deprecated. If you meant to do this, you must specify 'dtype=object' when creating the ndarray\n",
      "  return array(a, dtype, copy=False, order=order, subok=True)\n"
     ]
    },
    {
     "name": "stdout",
     "output_type": "stream",
     "text": [
      "lik = 317.8127576985668\n",
      "----- 1 -----\n",
      "slice sampling\n"
     ]
    },
    {
     "name": "stderr",
     "output_type": "stream",
     "text": [
      "c:\\Users\\moro-\\project_CSL\\HVGH\\.venv\\lib\\site-packages\\ipykernel_launcher.py:351: DeprecationWarning: time.clock has been deprecated in Python 3.3 and will be removed from Python 3.8: use time.perf_counter or time.process_time instead\n"
     ]
    },
    {
     "name": "stdout",
     "output_type": "stream",
     "text": [
      "forward...backward...1.3946558999999752 sec\n",
      "Number of classified segments: [23 0 0 0 0 0 0 0 ]\n"
     ]
    },
    {
     "name": "stderr",
     "output_type": "stream",
     "text": [
      "c:\\Users\\moro-\\project_CSL\\HVGH\\.venv\\lib\\site-packages\\ipykernel_launcher.py:357: DeprecationWarning: time.clock has been deprecated in Python 3.3 and will be removed from Python 3.8: use time.perf_counter or time.process_time instead\n"
     ]
    },
    {
     "name": "stdout",
     "output_type": "stream",
     "text": [
      "slice sampling\n",
      "forward...backward...0.4154684999999745 sec\n",
      "Number of classified segments: [30 0 0 0 0 ]\n",
      "slice sampling\n",
      "forward...backward...1.3058215999999447 sec\n",
      "Number of classified segments: [41 0 0 0 0 0 0 0 0 ]\n",
      "slice sampling\n",
      "forward...backward...0.8400388000000021 sec\n",
      "Number of classified segments: [40 0 0 0 0 0 0 0 ]\n"
     ]
    },
    {
     "name": "stderr",
     "output_type": "stream",
     "text": [
      "c:\\Users\\moro-\\project_CSL\\HVGH\\.venv\\lib\\site-packages\\numpy\\core\\_asarray.py:136: VisibleDeprecationWarning: Creating an ndarray from ragged nested sequences (which is a list-or-tuple of lists-or-tuples-or ndarrays with different lengths or shapes) is deprecated. If you meant to do this, you must specify 'dtype=object' when creating the ndarray\n",
      "  return array(a, dtype, copy=False, order=order, subok=True)\n"
     ]
    },
    {
     "name": "stdout",
     "output_type": "stream",
     "text": [
      "lik = 824.8061224204259\n",
      "----- 2 -----\n",
      "slice sampling\n"
     ]
    },
    {
     "name": "stderr",
     "output_type": "stream",
     "text": [
      "c:\\Users\\moro-\\project_CSL\\HVGH\\.venv\\lib\\site-packages\\ipykernel_launcher.py:351: DeprecationWarning: time.clock has been deprecated in Python 3.3 and will be removed from Python 3.8: use time.perf_counter or time.process_time instead\n"
     ]
    },
    {
     "name": "stdout",
     "output_type": "stream",
     "text": [
      "forward...backward...2.499893400000019 sec\n",
      "Number of classified segments: [30 0 0 0 0 0 0 0 0 0 0 0 0 0 0 0 0 0 0 0 0 0 ]\n"
     ]
    },
    {
     "name": "stderr",
     "output_type": "stream",
     "text": [
      "c:\\Users\\moro-\\project_CSL\\HVGH\\.venv\\lib\\site-packages\\ipykernel_launcher.py:357: DeprecationWarning: time.clock has been deprecated in Python 3.3 and will be removed from Python 3.8: use time.perf_counter or time.process_time instead\n"
     ]
    },
    {
     "name": "stdout",
     "output_type": "stream",
     "text": [
      "slice sampling\n",
      "forward...backward...1.5366788000000042 sec\n",
      "Number of classified segments: [32 0 0 0 0 0 0 0 0 0 0 0 0 0 0 0 0 0 0 0 ]\n",
      "slice sampling\n",
      "forward...backward...0.5949659000000338 sec\n",
      "Number of classified segments: [47 0 0 0 0 0 0 ]\n",
      "slice sampling\n",
      "forward...backward...1.4447266999999329 sec\n",
      "Number of classified segments: [47 0 0 0 0 0 0 0 0 0 0 ]\n"
     ]
    },
    {
     "name": "stderr",
     "output_type": "stream",
     "text": [
      "c:\\Users\\moro-\\project_CSL\\HVGH\\.venv\\lib\\site-packages\\numpy\\core\\_asarray.py:136: VisibleDeprecationWarning: Creating an ndarray from ragged nested sequences (which is a list-or-tuple of lists-or-tuples-or ndarrays with different lengths or shapes) is deprecated. If you meant to do this, you must specify 'dtype=object' when creating the ndarray\n",
      "  return array(a, dtype, copy=False, order=order, subok=True)\n"
     ]
    },
    {
     "name": "stdout",
     "output_type": "stream",
     "text": [
      "lik = 956.8740286340001\n",
      "----- 3 -----\n",
      "slice sampling\n"
     ]
    },
    {
     "name": "stderr",
     "output_type": "stream",
     "text": [
      "c:\\Users\\moro-\\project_CSL\\HVGH\\.venv\\lib\\site-packages\\ipykernel_launcher.py:351: DeprecationWarning: time.clock has been deprecated in Python 3.3 and will be removed from Python 3.8: use time.perf_counter or time.process_time instead\n"
     ]
    },
    {
     "name": "stdout",
     "output_type": "stream",
     "text": [
      "forward...backward...0.8272620000000188 sec\n",
      "Number of classified segments: [33 0 0 0 0 ]\n"
     ]
    },
    {
     "name": "stderr",
     "output_type": "stream",
     "text": [
      "c:\\Users\\moro-\\project_CSL\\HVGH\\.venv\\lib\\site-packages\\ipykernel_launcher.py:357: DeprecationWarning: time.clock has been deprecated in Python 3.3 and will be removed from Python 3.8: use time.perf_counter or time.process_time instead\n"
     ]
    },
    {
     "name": "stdout",
     "output_type": "stream",
     "text": [
      "slice sampling\n",
      "forward...backward...1.67447889999994 sec\n",
      "Number of classified segments: [33 0 0 0 0 0 0 ]\n",
      "slice sampling\n",
      "forward...backward...0.7353500000000395 sec\n",
      "Number of classified segments: [48 0 0 0 0 0 0 0 ]\n",
      "slice sampling\n",
      "forward...backward...0.1552163000000064 sec\n",
      "Number of classified segments: [48 0 ]\n"
     ]
    },
    {
     "name": "stderr",
     "output_type": "stream",
     "text": [
      "c:\\Users\\moro-\\project_CSL\\HVGH\\.venv\\lib\\site-packages\\numpy\\core\\_asarray.py:136: VisibleDeprecationWarning: Creating an ndarray from ragged nested sequences (which is a list-or-tuple of lists-or-tuples-or ndarrays with different lengths or shapes) is deprecated. If you meant to do this, you must specify 'dtype=object' when creating the ndarray\n",
      "  return array(a, dtype, copy=False, order=order, subok=True)\n"
     ]
    },
    {
     "name": "stdout",
     "output_type": "stream",
     "text": [
      "lik = 991.0542784269537\n",
      "----- 4 -----\n",
      "slice sampling\n"
     ]
    },
    {
     "name": "stderr",
     "output_type": "stream",
     "text": [
      "c:\\Users\\moro-\\project_CSL\\HVGH\\.venv\\lib\\site-packages\\ipykernel_launcher.py:351: DeprecationWarning: time.clock has been deprecated in Python 3.3 and will be removed from Python 3.8: use time.perf_counter or time.process_time instead\n",
      "c:\\Users\\moro-\\project_CSL\\HVGH\\.venv\\lib\\site-packages\\ipykernel_launcher.py:357: DeprecationWarning: time.clock has been deprecated in Python 3.3 and will be removed from Python 3.8: use time.perf_counter or time.process_time instead\n"
     ]
    },
    {
     "name": "stdout",
     "output_type": "stream",
     "text": [
      "forward...backward...0.14215309999997316 sec\n",
      "Number of classified segments: [33 0 ]\n",
      "slice sampling\n",
      "forward...backward...0.344774599999937 sec\n",
      "Number of classified segments: [33 0 0 0 0 ]\n",
      "slice sampling\n",
      "forward...backward...0.4195117000000437 sec\n",
      "Number of classified segments: [48 0 0 0 0 ]\n",
      "slice sampling\n",
      "forward...backward...0.7018070000000307 sec\n",
      "Number of classified segments: [48 0 0 0 0 0 0 0 ]\n"
     ]
    },
    {
     "name": "stderr",
     "output_type": "stream",
     "text": [
      "c:\\Users\\moro-\\project_CSL\\HVGH\\.venv\\lib\\site-packages\\numpy\\core\\_asarray.py:136: VisibleDeprecationWarning: Creating an ndarray from ragged nested sequences (which is a list-or-tuple of lists-or-tuples-or ndarrays with different lengths or shapes) is deprecated. If you meant to do this, you must specify 'dtype=object' when creating the ndarray\n",
      "  return array(a, dtype, copy=False, order=order, subok=True)\n"
     ]
    },
    {
     "name": "stdout",
     "output_type": "stream",
     "text": [
      "lik = 991.238616632452\n",
      "----- 5 -----\n",
      "slice sampling\n"
     ]
    },
    {
     "name": "stderr",
     "output_type": "stream",
     "text": [
      "c:\\Users\\moro-\\project_CSL\\HVGH\\.venv\\lib\\site-packages\\ipykernel_launcher.py:351: DeprecationWarning: time.clock has been deprecated in Python 3.3 and will be removed from Python 3.8: use time.perf_counter or time.process_time instead\n"
     ]
    },
    {
     "name": "stdout",
     "output_type": "stream",
     "text": [
      "forward...backward...0.7170575999999755 sec\n",
      "Number of classified segments: [33 0 0 0 0 0 0 0 0 ]\n"
     ]
    },
    {
     "name": "stderr",
     "output_type": "stream",
     "text": [
      "c:\\Users\\moro-\\project_CSL\\HVGH\\.venv\\lib\\site-packages\\ipykernel_launcher.py:357: DeprecationWarning: time.clock has been deprecated in Python 3.3 and will be removed from Python 3.8: use time.perf_counter or time.process_time instead\n"
     ]
    },
    {
     "name": "stdout",
     "output_type": "stream",
     "text": [
      "slice sampling\n",
      "forward...backward...0.562191299999995 sec\n",
      "Number of classified segments: [33 0 0 0 0 0 0 ]\n",
      "slice sampling\n",
      "forward...backward...0.6298411999999871 sec\n",
      "Number of classified segments: [49 0 0 0 0 0 0 0 0 ]\n",
      "slice sampling\n",
      "forward...backward...0.36276789999999437 sec\n",
      "Number of classified segments: [49 0 0 0 0 0 ]\n"
     ]
    },
    {
     "name": "stderr",
     "output_type": "stream",
     "text": [
      "c:\\Users\\moro-\\project_CSL\\HVGH\\.venv\\lib\\site-packages\\numpy\\core\\_asarray.py:136: VisibleDeprecationWarning: Creating an ndarray from ragged nested sequences (which is a list-or-tuple of lists-or-tuples-or ndarrays with different lengths or shapes) is deprecated. If you meant to do this, you must specify 'dtype=object' when creating the ndarray\n",
      "  return array(a, dtype, copy=False, order=order, subok=True)\n"
     ]
    },
    {
     "name": "stdout",
     "output_type": "stream",
     "text": [
      "lik = 993.9242166068505\n",
      "----- 6 -----\n",
      "slice sampling\n"
     ]
    },
    {
     "name": "stderr",
     "output_type": "stream",
     "text": [
      "c:\\Users\\moro-\\project_CSL\\HVGH\\.venv\\lib\\site-packages\\ipykernel_launcher.py:351: DeprecationWarning: time.clock has been deprecated in Python 3.3 and will be removed from Python 3.8: use time.perf_counter or time.process_time instead\n"
     ]
    },
    {
     "name": "stdout",
     "output_type": "stream",
     "text": [
      "forward...backward...0.34273080000002665 sec\n",
      "Number of classified segments: [34 0 0 0 0 ]\n"
     ]
    },
    {
     "name": "stderr",
     "output_type": "stream",
     "text": [
      "c:\\Users\\moro-\\project_CSL\\HVGH\\.venv\\lib\\site-packages\\ipykernel_launcher.py:357: DeprecationWarning: time.clock has been deprecated in Python 3.3 and will be removed from Python 3.8: use time.perf_counter or time.process_time instead\n"
     ]
    },
    {
     "name": "stdout",
     "output_type": "stream",
     "text": [
      "slice sampling\n",
      "forward...backward...0.27492610000001605 sec\n",
      "Number of classified segments: [34 0 0 ]\n",
      "slice sampling\n",
      "forward...backward...0.3123083000000406 sec\n",
      "Number of classified segments: [50 0 0 0 0 ]\n",
      "slice sampling\n",
      "forward...backward...0.5153126000000157 sec\n",
      "Number of classified segments: [50 0 0 0 0 0 0 ]\n"
     ]
    },
    {
     "name": "stderr",
     "output_type": "stream",
     "text": [
      "c:\\Users\\moro-\\project_CSL\\HVGH\\.venv\\lib\\site-packages\\numpy\\core\\_asarray.py:136: VisibleDeprecationWarning: Creating an ndarray from ragged nested sequences (which is a list-or-tuple of lists-or-tuples-or ndarrays with different lengths or shapes) is deprecated. If you meant to do this, you must specify 'dtype=object' when creating the ndarray\n",
      "  return array(a, dtype, copy=False, order=order, subok=True)\n"
     ]
    },
    {
     "name": "stdout",
     "output_type": "stream",
     "text": [
      "lik = 997.0229175335577\n",
      "----- 7 -----\n",
      "slice sampling\n"
     ]
    },
    {
     "name": "stderr",
     "output_type": "stream",
     "text": [
      "c:\\Users\\moro-\\project_CSL\\HVGH\\.venv\\lib\\site-packages\\ipykernel_launcher.py:351: DeprecationWarning: time.clock has been deprecated in Python 3.3 and will be removed from Python 3.8: use time.perf_counter or time.process_time instead\n"
     ]
    },
    {
     "name": "stdout",
     "output_type": "stream",
     "text": [
      "forward...backward...0.6841282999999976 sec\n",
      "Number of classified segments: [34 0 0 0 0 0 0 0 0 ]\n"
     ]
    },
    {
     "name": "stderr",
     "output_type": "stream",
     "text": [
      "c:\\Users\\moro-\\project_CSL\\HVGH\\.venv\\lib\\site-packages\\ipykernel_launcher.py:357: DeprecationWarning: time.clock has been deprecated in Python 3.3 and will be removed from Python 3.8: use time.perf_counter or time.process_time instead\n"
     ]
    },
    {
     "name": "stdout",
     "output_type": "stream",
     "text": [
      "slice sampling\n",
      "forward...backward...0.7262984999999844 sec\n",
      "Number of classified segments: [34 0 0 0 0 0 0 0 0 ]\n",
      "slice sampling\n",
      "forward...backward...0.6066773000000012 sec\n",
      "Number of classified segments: [50 0 0 0 0 0 0 0 0 0 ]\n",
      "slice sampling\n",
      "forward...backward...0.7044679000000542 sec\n",
      "Number of classified segments: [50 0 0 0 0 0 0 0 0 0 0 ]\n"
     ]
    },
    {
     "name": "stderr",
     "output_type": "stream",
     "text": [
      "c:\\Users\\moro-\\project_CSL\\HVGH\\.venv\\lib\\site-packages\\numpy\\core\\_asarray.py:136: VisibleDeprecationWarning: Creating an ndarray from ragged nested sequences (which is a list-or-tuple of lists-or-tuples-or ndarrays with different lengths or shapes) is deprecated. If you meant to do this, you must specify 'dtype=object' when creating the ndarray\n",
      "  return array(a, dtype, copy=False, order=order, subok=True)\n"
     ]
    },
    {
     "name": "stdout",
     "output_type": "stream",
     "text": [
      "lik = 1002.4638661134765\n",
      "59.12[sec]\n",
      "*--------------iteration:005--------------*\n",
      "VAE learned iteration: 5 data: 0\n",
      "VAE learned iteration: 5 data: 1\n",
      "VAE learned iteration: 5 data: 2\n",
      "VAE learned iteration: 5 data: 3\n",
      "----- 0 -----\n",
      "slice sampling\n"
     ]
    },
    {
     "name": "stderr",
     "output_type": "stream",
     "text": [
      "c:\\Users\\moro-\\project_CSL\\HVGH\\.venv\\lib\\site-packages\\ipykernel_launcher.py:351: DeprecationWarning: time.clock has been deprecated in Python 3.3 and will be removed from Python 3.8: use time.perf_counter or time.process_time instead\n"
     ]
    },
    {
     "name": "stdout",
     "output_type": "stream",
     "text": [
      "forward...backward...0.5055768000000853 sec\n",
      "Number of classified segments: [29 0 0 0 0 0 0 0 ]\n"
     ]
    },
    {
     "name": "stderr",
     "output_type": "stream",
     "text": [
      "c:\\Users\\moro-\\project_CSL\\HVGH\\.venv\\lib\\site-packages\\ipykernel_launcher.py:357: DeprecationWarning: time.clock has been deprecated in Python 3.3 and will be removed from Python 3.8: use time.perf_counter or time.process_time instead\n"
     ]
    },
    {
     "name": "stdout",
     "output_type": "stream",
     "text": [
      "slice sampling\n",
      "forward...backward...0.5393949000000475 sec\n",
      "Number of classified segments: [28 0 0 0 0 0 0 ]\n",
      "slice sampling\n",
      "forward...backward...0.2794503000000077 sec\n",
      "Number of classified segments: [24 0 0 0 ]\n",
      "slice sampling\n",
      "forward...backward...0.7939423999999917 sec\n",
      "Number of classified segments: [23 0 0 0 0 0 0 0 0 0 0 ]\n"
     ]
    },
    {
     "name": "stderr",
     "output_type": "stream",
     "text": [
      "c:\\Users\\moro-\\project_CSL\\HVGH\\.venv\\lib\\site-packages\\numpy\\core\\_asarray.py:136: VisibleDeprecationWarning: Creating an ndarray from ragged nested sequences (which is a list-or-tuple of lists-or-tuples-or ndarrays with different lengths or shapes) is deprecated. If you meant to do this, you must specify 'dtype=object' when creating the ndarray\n",
      "  return array(a, dtype, copy=False, order=order, subok=True)\n"
     ]
    },
    {
     "name": "stdout",
     "output_type": "stream",
     "text": [
      "lik = 1213.3613749688257\n",
      "----- 1 -----\n",
      "slice sampling\n"
     ]
    },
    {
     "name": "stderr",
     "output_type": "stream",
     "text": [
      "c:\\Users\\moro-\\project_CSL\\HVGH\\.venv\\lib\\site-packages\\ipykernel_launcher.py:351: DeprecationWarning: time.clock has been deprecated in Python 3.3 and will be removed from Python 3.8: use time.perf_counter or time.process_time instead\n"
     ]
    },
    {
     "name": "stdout",
     "output_type": "stream",
     "text": [
      "forward...backward...0.8865482999999585 sec\n",
      "Number of classified segments: [29 0 0 0 0 0 0 0 0 0 0 0 0 ]\n"
     ]
    },
    {
     "name": "stderr",
     "output_type": "stream",
     "text": [
      "c:\\Users\\moro-\\project_CSL\\HVGH\\.venv\\lib\\site-packages\\ipykernel_launcher.py:357: DeprecationWarning: time.clock has been deprecated in Python 3.3 and will be removed from Python 3.8: use time.perf_counter or time.process_time instead\n"
     ]
    },
    {
     "name": "stdout",
     "output_type": "stream",
     "text": [
      "slice sampling\n",
      "forward...backward...0.19152699999995093 sec\n",
      "Number of classified segments: [29 0 0 ]\n",
      "slice sampling\n",
      "forward...backward...1.1865565999999035 sec\n",
      "Number of classified segments: [24 0 0 0 0 0 0 0 0 0 0 0 ]\n",
      "slice sampling\n",
      "forward...backward...0.4032038000000284 sec\n",
      "Number of classified segments: [24 0 0 0 0 0 ]\n"
     ]
    },
    {
     "name": "stderr",
     "output_type": "stream",
     "text": [
      "c:\\Users\\moro-\\project_CSL\\HVGH\\.venv\\lib\\site-packages\\numpy\\core\\_asarray.py:136: VisibleDeprecationWarning: Creating an ndarray from ragged nested sequences (which is a list-or-tuple of lists-or-tuples-or ndarrays with different lengths or shapes) is deprecated. If you meant to do this, you must specify 'dtype=object' when creating the ndarray\n",
      "  return array(a, dtype, copy=False, order=order, subok=True)\n"
     ]
    },
    {
     "name": "stdout",
     "output_type": "stream",
     "text": [
      "lik = 1245.668712446744\n",
      "----- 2 -----\n",
      "slice sampling\n"
     ]
    },
    {
     "name": "stderr",
     "output_type": "stream",
     "text": [
      "c:\\Users\\moro-\\project_CSL\\HVGH\\.venv\\lib\\site-packages\\ipykernel_launcher.py:351: DeprecationWarning: time.clock has been deprecated in Python 3.3 and will be removed from Python 3.8: use time.perf_counter or time.process_time instead\n"
     ]
    },
    {
     "name": "stdout",
     "output_type": "stream",
     "text": [
      "forward...backward...0.3255576999999903 sec\n",
      "Number of classified segments: [31 0 0 0 0 ]\n"
     ]
    },
    {
     "name": "stderr",
     "output_type": "stream",
     "text": [
      "c:\\Users\\moro-\\project_CSL\\HVGH\\.venv\\lib\\site-packages\\ipykernel_launcher.py:357: DeprecationWarning: time.clock has been deprecated in Python 3.3 and will be removed from Python 3.8: use time.perf_counter or time.process_time instead\n"
     ]
    },
    {
     "name": "stdout",
     "output_type": "stream",
     "text": [
      "slice sampling\n",
      "forward...backward...0.7251603000000841 sec\n",
      "Number of classified segments: [31 0 0 0 0 0 0 0 0 0 ]\n",
      "slice sampling\n",
      "forward...backward...0.26705540000000383 sec\n",
      "Number of classified segments: [25 0 0 0 ]\n",
      "slice sampling\n",
      "forward...backward...0.23769100000004073 sec\n",
      "Number of classified segments: [26 0 0 ]\n"
     ]
    },
    {
     "name": "stderr",
     "output_type": "stream",
     "text": [
      "c:\\Users\\moro-\\project_CSL\\HVGH\\.venv\\lib\\site-packages\\numpy\\core\\_asarray.py:136: VisibleDeprecationWarning: Creating an ndarray from ragged nested sequences (which is a list-or-tuple of lists-or-tuples-or ndarrays with different lengths or shapes) is deprecated. If you meant to do this, you must specify 'dtype=object' when creating the ndarray\n",
      "  return array(a, dtype, copy=False, order=order, subok=True)\n"
     ]
    },
    {
     "name": "stdout",
     "output_type": "stream",
     "text": [
      "lik = 1255.9356281443547\n",
      "----- 3 -----\n",
      "slice sampling\n"
     ]
    },
    {
     "name": "stderr",
     "output_type": "stream",
     "text": [
      "c:\\Users\\moro-\\project_CSL\\HVGH\\.venv\\lib\\site-packages\\ipykernel_launcher.py:351: DeprecationWarning: time.clock has been deprecated in Python 3.3 and will be removed from Python 3.8: use time.perf_counter or time.process_time instead\n"
     ]
    },
    {
     "name": "stdout",
     "output_type": "stream",
     "text": [
      "forward...backward...0.40210100000001603 sec\n",
      "Number of classified segments: [33 0 0 0 0 ]\n"
     ]
    },
    {
     "name": "stderr",
     "output_type": "stream",
     "text": [
      "c:\\Users\\moro-\\project_CSL\\HVGH\\.venv\\lib\\site-packages\\ipykernel_launcher.py:357: DeprecationWarning: time.clock has been deprecated in Python 3.3 and will be removed from Python 3.8: use time.perf_counter or time.process_time instead\n"
     ]
    },
    {
     "name": "stdout",
     "output_type": "stream",
     "text": [
      "slice sampling\n",
      "forward...backward...0.38537940000003346 sec\n",
      "Number of classified segments: [33 0 0 0 0 ]\n",
      "slice sampling\n",
      "forward...backward...0.14325990000008915 sec\n",
      "Number of classified segments: [25 0 ]\n",
      "slice sampling\n",
      "forward...backward...0.3644756999999572 sec\n",
      "Number of classified segments: [26 0 0 0 0 ]\n"
     ]
    },
    {
     "name": "stderr",
     "output_type": "stream",
     "text": [
      "c:\\Users\\moro-\\project_CSL\\HVGH\\.venv\\lib\\site-packages\\numpy\\core\\_asarray.py:136: VisibleDeprecationWarning: Creating an ndarray from ragged nested sequences (which is a list-or-tuple of lists-or-tuples-or ndarrays with different lengths or shapes) is deprecated. If you meant to do this, you must specify 'dtype=object' when creating the ndarray\n",
      "  return array(a, dtype, copy=False, order=order, subok=True)\n"
     ]
    },
    {
     "name": "stdout",
     "output_type": "stream",
     "text": [
      "lik = 1266.5551243587008\n",
      "----- 4 -----\n",
      "slice sampling\n"
     ]
    },
    {
     "name": "stderr",
     "output_type": "stream",
     "text": [
      "c:\\Users\\moro-\\project_CSL\\HVGH\\.venv\\lib\\site-packages\\ipykernel_launcher.py:351: DeprecationWarning: time.clock has been deprecated in Python 3.3 and will be removed from Python 3.8: use time.perf_counter or time.process_time instead\n"
     ]
    },
    {
     "name": "stdout",
     "output_type": "stream",
     "text": [
      "forward...backward...0.29463029999999435 sec\n",
      "Number of classified segments: [34 0 0 0 ]\n"
     ]
    },
    {
     "name": "stderr",
     "output_type": "stream",
     "text": [
      "c:\\Users\\moro-\\project_CSL\\HVGH\\.venv\\lib\\site-packages\\ipykernel_launcher.py:357: DeprecationWarning: time.clock has been deprecated in Python 3.3 and will be removed from Python 3.8: use time.perf_counter or time.process_time instead\n"
     ]
    },
    {
     "name": "stdout",
     "output_type": "stream",
     "text": [
      "slice sampling\n",
      "forward...backward...0.6138214000000062 sec\n",
      "Number of classified segments: [35 0 0 0 0 0 0 0 0 ]\n",
      "slice sampling\n",
      "forward...backward...0.4686444000000165 sec\n",
      "Number of classified segments: [28 0 0 0 0 0 ]\n",
      "slice sampling\n",
      "forward...backward...0.32058310000002166 sec\n",
      "Number of classified segments: [28 0 0 0 0 ]\n"
     ]
    },
    {
     "name": "stderr",
     "output_type": "stream",
     "text": [
      "c:\\Users\\moro-\\project_CSL\\HVGH\\.venv\\lib\\site-packages\\numpy\\core\\_asarray.py:136: VisibleDeprecationWarning: Creating an ndarray from ragged nested sequences (which is a list-or-tuple of lists-or-tuples-or ndarrays with different lengths or shapes) is deprecated. If you meant to do this, you must specify 'dtype=object' when creating the ndarray\n",
      "  return array(a, dtype, copy=False, order=order, subok=True)\n"
     ]
    },
    {
     "name": "stdout",
     "output_type": "stream",
     "text": [
      "lik = 1274.0136539118828\n",
      "----- 5 -----\n",
      "slice sampling\n"
     ]
    },
    {
     "name": "stderr",
     "output_type": "stream",
     "text": [
      "c:\\Users\\moro-\\project_CSL\\HVGH\\.venv\\lib\\site-packages\\ipykernel_launcher.py:351: DeprecationWarning: time.clock has been deprecated in Python 3.3 and will be removed from Python 3.8: use time.perf_counter or time.process_time instead\n"
     ]
    },
    {
     "name": "stdout",
     "output_type": "stream",
     "text": [
      "forward...backward...0.49983640000004925 sec\n",
      "Number of classified segments: [36 0 0 0 0 0 0 ]\n"
     ]
    },
    {
     "name": "stderr",
     "output_type": "stream",
     "text": [
      "c:\\Users\\moro-\\project_CSL\\HVGH\\.venv\\lib\\site-packages\\ipykernel_launcher.py:357: DeprecationWarning: time.clock has been deprecated in Python 3.3 and will be removed from Python 3.8: use time.perf_counter or time.process_time instead\n"
     ]
    },
    {
     "name": "stdout",
     "output_type": "stream",
     "text": [
      "slice sampling\n",
      "forward...backward...0.13775959999998122 sec\n",
      "Number of classified segments: [36 0 ]\n",
      "slice sampling\n",
      "forward...backward...0.38882760000001326 sec\n",
      "Number of classified segments: [29 0 0 0 0 ]\n",
      "slice sampling\n",
      "forward...backward...0.3301136000000042 sec\n",
      "Number of classified segments: [29 0 0 0 0 ]\n"
     ]
    },
    {
     "name": "stderr",
     "output_type": "stream",
     "text": [
      "c:\\Users\\moro-\\project_CSL\\HVGH\\.venv\\lib\\site-packages\\numpy\\core\\_asarray.py:136: VisibleDeprecationWarning: Creating an ndarray from ragged nested sequences (which is a list-or-tuple of lists-or-tuples-or ndarrays with different lengths or shapes) is deprecated. If you meant to do this, you must specify 'dtype=object' when creating the ndarray\n",
      "  return array(a, dtype, copy=False, order=order, subok=True)\n"
     ]
    },
    {
     "name": "stdout",
     "output_type": "stream",
     "text": [
      "lik = 1271.123582871146\n",
      "----- 6 -----\n",
      "slice sampling\n"
     ]
    },
    {
     "name": "stderr",
     "output_type": "stream",
     "text": [
      "c:\\Users\\moro-\\project_CSL\\HVGH\\.venv\\lib\\site-packages\\ipykernel_launcher.py:351: DeprecationWarning: time.clock has been deprecated in Python 3.3 and will be removed from Python 3.8: use time.perf_counter or time.process_time instead\n"
     ]
    },
    {
     "name": "stdout",
     "output_type": "stream",
     "text": [
      "forward...backward...0.8032538999999588 sec\n",
      "Number of classified segments: [37 0 0 0 0 0 0 0 0 0 ]\n"
     ]
    },
    {
     "name": "stderr",
     "output_type": "stream",
     "text": [
      "c:\\Users\\moro-\\project_CSL\\HVGH\\.venv\\lib\\site-packages\\ipykernel_launcher.py:357: DeprecationWarning: time.clock has been deprecated in Python 3.3 and will be removed from Python 3.8: use time.perf_counter or time.process_time instead\n"
     ]
    },
    {
     "name": "stdout",
     "output_type": "stream",
     "text": [
      "slice sampling\n",
      "forward...backward...0.298299199999974 sec\n",
      "Number of classified segments: [37 0 0 ]\n",
      "slice sampling\n",
      "forward...backward...0.8336676999999781 sec\n",
      "Number of classified segments: [29 0 0 0 0 0 0 0 0 0 ]\n",
      "slice sampling\n",
      "forward...backward...0.3305389000000787 sec\n",
      "Number of classified segments: [29 0 0 0 0 ]\n"
     ]
    },
    {
     "name": "stderr",
     "output_type": "stream",
     "text": [
      "c:\\Users\\moro-\\project_CSL\\HVGH\\.venv\\lib\\site-packages\\numpy\\core\\_asarray.py:136: VisibleDeprecationWarning: Creating an ndarray from ragged nested sequences (which is a list-or-tuple of lists-or-tuples-or ndarrays with different lengths or shapes) is deprecated. If you meant to do this, you must specify 'dtype=object' when creating the ndarray\n",
      "  return array(a, dtype, copy=False, order=order, subok=True)\n"
     ]
    },
    {
     "name": "stdout",
     "output_type": "stream",
     "text": [
      "lik = 1268.9467719037507\n",
      "----- 7 -----\n",
      "slice sampling\n"
     ]
    },
    {
     "name": "stderr",
     "output_type": "stream",
     "text": [
      "c:\\Users\\moro-\\project_CSL\\HVGH\\.venv\\lib\\site-packages\\ipykernel_launcher.py:351: DeprecationWarning: time.clock has been deprecated in Python 3.3 and will be removed from Python 3.8: use time.perf_counter or time.process_time instead\n"
     ]
    },
    {
     "name": "stdout",
     "output_type": "stream",
     "text": [
      "forward...backward...0.4340808999999126 sec\n",
      "Number of classified segments: [37 0 0 0 0 0 ]\n"
     ]
    },
    {
     "name": "stderr",
     "output_type": "stream",
     "text": [
      "c:\\Users\\moro-\\project_CSL\\HVGH\\.venv\\lib\\site-packages\\ipykernel_launcher.py:357: DeprecationWarning: time.clock has been deprecated in Python 3.3 and will be removed from Python 3.8: use time.perf_counter or time.process_time instead\n"
     ]
    },
    {
     "name": "stdout",
     "output_type": "stream",
     "text": [
      "slice sampling\n",
      "forward...backward...0.30591370000001916 sec\n",
      "Number of classified segments: [37 0 0 0 ]\n",
      "slice sampling\n",
      "forward...backward...0.35180769999999484 sec\n",
      "Number of classified segments: [29 0 0 0 ]\n",
      "slice sampling\n",
      "forward...backward...0.5144880000000285 sec\n",
      "Number of classified segments: [29 0 0 0 0 0 ]\n"
     ]
    },
    {
     "name": "stderr",
     "output_type": "stream",
     "text": [
      "c:\\Users\\moro-\\project_CSL\\HVGH\\.venv\\lib\\site-packages\\numpy\\core\\_asarray.py:136: VisibleDeprecationWarning: Creating an ndarray from ragged nested sequences (which is a list-or-tuple of lists-or-tuples-or ndarrays with different lengths or shapes) is deprecated. If you meant to do this, you must specify 'dtype=object' when creating the ndarray\n",
      "  return array(a, dtype, copy=False, order=order, subok=True)\n"
     ]
    },
    {
     "name": "stdout",
     "output_type": "stream",
     "text": [
      "lik = 1274.3164800804407\n",
      "115.33[sec]\n",
      "*--------------iteration:006--------------*\n",
      "VAE learned iteration: 6 data: 0\n",
      "VAE learned iteration: 6 data: 1\n",
      "VAE learned iteration: 6 data: 2\n",
      "VAE learned iteration: 6 data: 3\n",
      "----- 0 -----\n",
      "slice sampling\n"
     ]
    },
    {
     "name": "stderr",
     "output_type": "stream",
     "text": [
      "c:\\Users\\moro-\\project_CSL\\HVGH\\.venv\\lib\\site-packages\\ipykernel_launcher.py:351: DeprecationWarning: time.clock has been deprecated in Python 3.3 and will be removed from Python 3.8: use time.perf_counter or time.process_time instead\n"
     ]
    },
    {
     "name": "stdout",
     "output_type": "stream",
     "text": [
      "forward...backward...0.7510593999999173 sec\n",
      "Number of classified segments: [27 0 0 0 0 0 0 0 0 0 ]\n"
     ]
    },
    {
     "name": "stderr",
     "output_type": "stream",
     "text": [
      "c:\\Users\\moro-\\project_CSL\\HVGH\\.venv\\lib\\site-packages\\ipykernel_launcher.py:357: DeprecationWarning: time.clock has been deprecated in Python 3.3 and will be removed from Python 3.8: use time.perf_counter or time.process_time instead\n"
     ]
    },
    {
     "name": "stdout",
     "output_type": "stream",
     "text": [
      "slice sampling\n",
      "forward...backward...1.0216198000000531 sec\n",
      "Number of classified segments: [28 0 0 0 0 0 0 0 0 0 0 0 0 ]\n",
      "slice sampling\n",
      "forward...backward...0.3400961999999481 sec\n",
      "Number of classified segments: [29 0 0 0 0 ]\n",
      "slice sampling\n",
      "forward...backward...0.25992310000003727 sec\n",
      "Number of classified segments: [29 0 0 0 ]\n"
     ]
    },
    {
     "name": "stderr",
     "output_type": "stream",
     "text": [
      "c:\\Users\\moro-\\project_CSL\\HVGH\\.venv\\lib\\site-packages\\numpy\\core\\_asarray.py:136: VisibleDeprecationWarning: Creating an ndarray from ragged nested sequences (which is a list-or-tuple of lists-or-tuples-or ndarrays with different lengths or shapes) is deprecated. If you meant to do this, you must specify 'dtype=object' when creating the ndarray\n",
      "  return array(a, dtype, copy=False, order=order, subok=True)\n"
     ]
    },
    {
     "name": "stdout",
     "output_type": "stream",
     "text": [
      "lik = 1511.1873983034873\n",
      "----- 1 -----\n",
      "slice sampling\n"
     ]
    },
    {
     "name": "stderr",
     "output_type": "stream",
     "text": [
      "c:\\Users\\moro-\\project_CSL\\HVGH\\.venv\\lib\\site-packages\\ipykernel_launcher.py:351: DeprecationWarning: time.clock has been deprecated in Python 3.3 and will be removed from Python 3.8: use time.perf_counter or time.process_time instead\n"
     ]
    },
    {
     "name": "stdout",
     "output_type": "stream",
     "text": [
      "forward...backward...0.47343239999997877 sec\n",
      "Number of classified segments: [27 0 0 0 0 0 0 ]\n"
     ]
    },
    {
     "name": "stderr",
     "output_type": "stream",
     "text": [
      "c:\\Users\\moro-\\project_CSL\\HVGH\\.venv\\lib\\site-packages\\ipykernel_launcher.py:357: DeprecationWarning: time.clock has been deprecated in Python 3.3 and will be removed from Python 3.8: use time.perf_counter or time.process_time instead\n"
     ]
    },
    {
     "name": "stdout",
     "output_type": "stream",
     "text": [
      "slice sampling\n",
      "forward...backward...0.593573499999934 sec\n",
      "Number of classified segments: [27 0 0 0 0 0 0 ]\n",
      "slice sampling\n",
      "forward...backward...0.9363855000000285 sec\n",
      "Number of classified segments: [28 0 0 0 0 0 0 0 0 0 0 ]\n",
      "slice sampling\n",
      "forward...backward...0.42335450000007313 sec\n",
      "Number of classified segments: [30 0 0 0 0 ]\n"
     ]
    },
    {
     "name": "stderr",
     "output_type": "stream",
     "text": [
      "c:\\Users\\moro-\\project_CSL\\HVGH\\.venv\\lib\\site-packages\\numpy\\core\\_asarray.py:136: VisibleDeprecationWarning: Creating an ndarray from ragged nested sequences (which is a list-or-tuple of lists-or-tuples-or ndarrays with different lengths or shapes) is deprecated. If you meant to do this, you must specify 'dtype=object' when creating the ndarray\n",
      "  return array(a, dtype, copy=False, order=order, subok=True)\n"
     ]
    },
    {
     "name": "stdout",
     "output_type": "stream",
     "text": [
      "lik = 1517.9694644455064\n",
      "----- 2 -----\n",
      "slice sampling\n"
     ]
    },
    {
     "name": "stderr",
     "output_type": "stream",
     "text": [
      "c:\\Users\\moro-\\project_CSL\\HVGH\\.venv\\lib\\site-packages\\ipykernel_launcher.py:351: DeprecationWarning: time.clock has been deprecated in Python 3.3 and will be removed from Python 3.8: use time.perf_counter or time.process_time instead\n"
     ]
    },
    {
     "name": "stdout",
     "output_type": "stream",
     "text": [
      "forward...backward...0.3277781000000459 sec\n",
      "Number of classified segments: [29 0 0 0 0 ]\n"
     ]
    },
    {
     "name": "stderr",
     "output_type": "stream",
     "text": [
      "c:\\Users\\moro-\\project_CSL\\HVGH\\.venv\\lib\\site-packages\\ipykernel_launcher.py:357: DeprecationWarning: time.clock has been deprecated in Python 3.3 and will be removed from Python 3.8: use time.perf_counter or time.process_time instead\n"
     ]
    },
    {
     "name": "stdout",
     "output_type": "stream",
     "text": [
      "slice sampling\n",
      "forward...backward...0.59888669999998 sec\n",
      "Number of classified segments: [29 0 0 0 0 0 0 0 ]\n",
      "slice sampling\n",
      "forward...backward...0.1950753999999506 sec\n",
      "Number of classified segments: [30 0 0 ]\n",
      "slice sampling\n",
      "forward...backward...1.427315300000032 sec\n",
      "Number of classified segments: [30 0 0 0 0 0 0 0 0 0 0 0 0 0 0 0 0 0 ]\n"
     ]
    },
    {
     "name": "stderr",
     "output_type": "stream",
     "text": [
      "c:\\Users\\moro-\\project_CSL\\HVGH\\.venv\\lib\\site-packages\\numpy\\core\\_asarray.py:136: VisibleDeprecationWarning: Creating an ndarray from ragged nested sequences (which is a list-or-tuple of lists-or-tuples-or ndarrays with different lengths or shapes) is deprecated. If you meant to do this, you must specify 'dtype=object' when creating the ndarray\n",
      "  return array(a, dtype, copy=False, order=order, subok=True)\n"
     ]
    },
    {
     "name": "stdout",
     "output_type": "stream",
     "text": [
      "lik = 1517.21462168102\n",
      "----- 3 -----\n",
      "slice sampling\n"
     ]
    },
    {
     "name": "stderr",
     "output_type": "stream",
     "text": [
      "c:\\Users\\moro-\\project_CSL\\HVGH\\.venv\\lib\\site-packages\\ipykernel_launcher.py:351: DeprecationWarning: time.clock has been deprecated in Python 3.3 and will be removed from Python 3.8: use time.perf_counter or time.process_time instead\n"
     ]
    },
    {
     "name": "stdout",
     "output_type": "stream",
     "text": [
      "forward...backward...0.2825290999999197 sec\n",
      "Number of classified segments: [30 0 0 0 ]\n"
     ]
    },
    {
     "name": "stderr",
     "output_type": "stream",
     "text": [
      "c:\\Users\\moro-\\project_CSL\\HVGH\\.venv\\lib\\site-packages\\ipykernel_launcher.py:357: DeprecationWarning: time.clock has been deprecated in Python 3.3 and will be removed from Python 3.8: use time.perf_counter or time.process_time instead\n"
     ]
    },
    {
     "name": "stdout",
     "output_type": "stream",
     "text": [
      "slice sampling\n",
      "forward...backward...0.40752279999992425 sec\n",
      "Number of classified segments: [31 0 0 0 0 ]\n",
      "slice sampling\n",
      "forward...backward...0.3706419000000096 sec\n",
      "Number of classified segments: [32 0 0 0 0 ]\n",
      "slice sampling\n",
      "forward...backward...0.6031795000000102 sec\n",
      "Number of classified segments: [32 0 0 0 0 0 0 ]\n"
     ]
    },
    {
     "name": "stderr",
     "output_type": "stream",
     "text": [
      "c:\\Users\\moro-\\project_CSL\\HVGH\\.venv\\lib\\site-packages\\numpy\\core\\_asarray.py:136: VisibleDeprecationWarning: Creating an ndarray from ragged nested sequences (which is a list-or-tuple of lists-or-tuples-or ndarrays with different lengths or shapes) is deprecated. If you meant to do this, you must specify 'dtype=object' when creating the ndarray\n",
      "  return array(a, dtype, copy=False, order=order, subok=True)\n"
     ]
    },
    {
     "name": "stdout",
     "output_type": "stream",
     "text": [
      "lik = 1516.1746494019565\n",
      "----- 4 -----\n",
      "slice sampling\n"
     ]
    },
    {
     "name": "stderr",
     "output_type": "stream",
     "text": [
      "c:\\Users\\moro-\\project_CSL\\HVGH\\.venv\\lib\\site-packages\\ipykernel_launcher.py:351: DeprecationWarning: time.clock has been deprecated in Python 3.3 and will be removed from Python 3.8: use time.perf_counter or time.process_time instead\n"
     ]
    },
    {
     "name": "stdout",
     "output_type": "stream",
     "text": [
      "forward...backward...0.24355889999992542 sec\n",
      "Number of classified segments: [30 0 0 ]\n"
     ]
    },
    {
     "name": "stderr",
     "output_type": "stream",
     "text": [
      "c:\\Users\\moro-\\project_CSL\\HVGH\\.venv\\lib\\site-packages\\ipykernel_launcher.py:357: DeprecationWarning: time.clock has been deprecated in Python 3.3 and will be removed from Python 3.8: use time.perf_counter or time.process_time instead\n"
     ]
    },
    {
     "name": "stdout",
     "output_type": "stream",
     "text": [
      "slice sampling\n",
      "forward...backward...0.8632960999999568 sec\n",
      "Number of classified segments: [30 0 0 0 0 0 0 0 0 ]\n",
      "slice sampling\n",
      "forward...backward...0.5221611000000621 sec\n",
      "Number of classified segments: [30 0 0 0 0 0 0 ]\n",
      "slice sampling\n",
      "forward...backward...1.1214750999999978 sec\n",
      "Number of classified segments: [30 0 0 0 0 ]\n"
     ]
    },
    {
     "name": "stderr",
     "output_type": "stream",
     "text": [
      "c:\\Users\\moro-\\project_CSL\\HVGH\\.venv\\lib\\site-packages\\numpy\\core\\_asarray.py:136: VisibleDeprecationWarning: Creating an ndarray from ragged nested sequences (which is a list-or-tuple of lists-or-tuples-or ndarrays with different lengths or shapes) is deprecated. If you meant to do this, you must specify 'dtype=object' when creating the ndarray\n",
      "  return array(a, dtype, copy=False, order=order, subok=True)\n"
     ]
    },
    {
     "name": "stdout",
     "output_type": "stream",
     "text": [
      "lik = 1513.258228000293\n",
      "----- 5 -----\n",
      "slice sampling\n"
     ]
    },
    {
     "name": "stderr",
     "output_type": "stream",
     "text": [
      "c:\\Users\\moro-\\project_CSL\\HVGH\\.venv\\lib\\site-packages\\ipykernel_launcher.py:351: DeprecationWarning: time.clock has been deprecated in Python 3.3 and will be removed from Python 3.8: use time.perf_counter or time.process_time instead\n"
     ]
    },
    {
     "name": "stdout",
     "output_type": "stream",
     "text": [
      "forward...backward...0.43051709999997456 sec\n",
      "Number of classified segments: [30 0 0 0 ]\n"
     ]
    },
    {
     "name": "stderr",
     "output_type": "stream",
     "text": [
      "c:\\Users\\moro-\\project_CSL\\HVGH\\.venv\\lib\\site-packages\\ipykernel_launcher.py:357: DeprecationWarning: time.clock has been deprecated in Python 3.3 and will be removed from Python 3.8: use time.perf_counter or time.process_time instead\n"
     ]
    },
    {
     "name": "stdout",
     "output_type": "stream",
     "text": [
      "slice sampling\n",
      "forward...backward...0.17721870000002582 sec\n",
      "Number of classified segments: [30 0 ]\n",
      "slice sampling\n",
      "forward...backward...0.8719233999999005 sec\n",
      "Number of classified segments: [32 0 0 0 0 0 0 0 0 ]\n",
      "slice sampling\n",
      "forward...backward...0.22393729999998868 sec\n",
      "Number of classified segments: [32 0 0 ]\n"
     ]
    },
    {
     "name": "stderr",
     "output_type": "stream",
     "text": [
      "c:\\Users\\moro-\\project_CSL\\HVGH\\.venv\\lib\\site-packages\\numpy\\core\\_asarray.py:136: VisibleDeprecationWarning: Creating an ndarray from ragged nested sequences (which is a list-or-tuple of lists-or-tuples-or ndarrays with different lengths or shapes) is deprecated. If you meant to do this, you must specify 'dtype=object' when creating the ndarray\n",
      "  return array(a, dtype, copy=False, order=order, subok=True)\n"
     ]
    },
    {
     "name": "stdout",
     "output_type": "stream",
     "text": [
      "lik = 1513.9537563831996\n",
      "----- 6 -----\n",
      "slice sampling\n"
     ]
    },
    {
     "name": "stderr",
     "output_type": "stream",
     "text": [
      "c:\\Users\\moro-\\project_CSL\\HVGH\\.venv\\lib\\site-packages\\ipykernel_launcher.py:351: DeprecationWarning: time.clock has been deprecated in Python 3.3 and will be removed from Python 3.8: use time.perf_counter or time.process_time instead\n"
     ]
    },
    {
     "name": "stdout",
     "output_type": "stream",
     "text": [
      "forward...backward...0.9620681999999761 sec\n",
      "Number of classified segments: [32 0 0 ]\n"
     ]
    },
    {
     "name": "stderr",
     "output_type": "stream",
     "text": [
      "c:\\Users\\moro-\\project_CSL\\HVGH\\.venv\\lib\\site-packages\\ipykernel_launcher.py:357: DeprecationWarning: time.clock has been deprecated in Python 3.3 and will be removed from Python 3.8: use time.perf_counter or time.process_time instead\n"
     ]
    },
    {
     "name": "stdout",
     "output_type": "stream",
     "text": [
      "slice sampling\n",
      "forward...backward...0.7047750000000406 sec\n",
      "Number of classified segments: [31 0 0 0 0 0 0 ]\n",
      "slice sampling\n",
      "forward...backward...1.07189029999995 sec\n",
      "Number of classified segments: [31 0 0 0 0 0 0 0 0 0 ]\n",
      "slice sampling\n",
      "forward...backward...0.29202780000002804 sec\n",
      "Number of classified segments: [31 0 0 ]\n"
     ]
    },
    {
     "name": "stderr",
     "output_type": "stream",
     "text": [
      "c:\\Users\\moro-\\project_CSL\\HVGH\\.venv\\lib\\site-packages\\numpy\\core\\_asarray.py:136: VisibleDeprecationWarning: Creating an ndarray from ragged nested sequences (which is a list-or-tuple of lists-or-tuples-or ndarrays with different lengths or shapes) is deprecated. If you meant to do this, you must specify 'dtype=object' when creating the ndarray\n",
      "  return array(a, dtype, copy=False, order=order, subok=True)\n"
     ]
    },
    {
     "name": "stdout",
     "output_type": "stream",
     "text": [
      "lik = 1513.0520876245234\n",
      "----- 7 -----\n",
      "slice sampling\n"
     ]
    },
    {
     "name": "stderr",
     "output_type": "stream",
     "text": [
      "c:\\Users\\moro-\\project_CSL\\HVGH\\.venv\\lib\\site-packages\\ipykernel_launcher.py:351: DeprecationWarning: time.clock has been deprecated in Python 3.3 and will be removed from Python 3.8: use time.perf_counter or time.process_time instead\n"
     ]
    },
    {
     "name": "stdout",
     "output_type": "stream",
     "text": [
      "forward...backward...0.3712515000000849 sec\n",
      "Number of classified segments: [31 0 ]\n"
     ]
    },
    {
     "name": "stderr",
     "output_type": "stream",
     "text": [
      "c:\\Users\\moro-\\project_CSL\\HVGH\\.venv\\lib\\site-packages\\ipykernel_launcher.py:357: DeprecationWarning: time.clock has been deprecated in Python 3.3 and will be removed from Python 3.8: use time.perf_counter or time.process_time instead\n"
     ]
    },
    {
     "name": "stdout",
     "output_type": "stream",
     "text": [
      "slice sampling\n",
      "forward...backward...0.7872026999999662 sec\n",
      "Number of classified segments: [32 0 0 ]\n",
      "slice sampling\n",
      "forward...backward...1.2248200000000224 sec\n",
      "Number of classified segments: [33 0 0 0 0 0 ]\n",
      "slice sampling\n",
      "forward...backward...1.2583603000000494 sec\n",
      "Number of classified segments: [32 0 0 0 0 0 0 0 0 0 0 0 ]\n"
     ]
    },
    {
     "name": "stderr",
     "output_type": "stream",
     "text": [
      "c:\\Users\\moro-\\project_CSL\\HVGH\\.venv\\lib\\site-packages\\numpy\\core\\_asarray.py:136: VisibleDeprecationWarning: Creating an ndarray from ragged nested sequences (which is a list-or-tuple of lists-or-tuples-or ndarrays with different lengths or shapes) is deprecated. If you meant to do this, you must specify 'dtype=object' when creating the ndarray\n",
      "  return array(a, dtype, copy=False, order=order, subok=True)\n"
     ]
    },
    {
     "name": "stdout",
     "output_type": "stream",
     "text": [
      "lik = 1518.1588061171835\n",
      "59.68[sec]\n",
      "*--------------iteration:007--------------*\n",
      "VAE learned iteration: 7 data: 0\n",
      "VAE learned iteration: 7 data: 1\n",
      "VAE learned iteration: 7 data: 2\n",
      "VAE learned iteration: 7 data: 3\n",
      "----- 0 -----\n",
      "slice sampling\n"
     ]
    },
    {
     "name": "stderr",
     "output_type": "stream",
     "text": [
      "c:\\Users\\moro-\\project_CSL\\HVGH\\.venv\\lib\\site-packages\\ipykernel_launcher.py:351: DeprecationWarning: time.clock has been deprecated in Python 3.3 and will be removed from Python 3.8: use time.perf_counter or time.process_time instead\n"
     ]
    },
    {
     "name": "stdout",
     "output_type": "stream",
     "text": [
      "forward...backward...0.7395798000000013 sec\n",
      "Number of classified segments: [29 0 0 0 0 0 ]\n"
     ]
    },
    {
     "name": "stderr",
     "output_type": "stream",
     "text": [
      "c:\\Users\\moro-\\project_CSL\\HVGH\\.venv\\lib\\site-packages\\ipykernel_launcher.py:357: DeprecationWarning: time.clock has been deprecated in Python 3.3 and will be removed from Python 3.8: use time.perf_counter or time.process_time instead\n"
     ]
    },
    {
     "name": "stdout",
     "output_type": "stream",
     "text": [
      "slice sampling\n",
      "forward...backward...0.3953199999999697 sec\n",
      "Number of classified segments: [28 0 0 0 ]\n",
      "slice sampling\n",
      "forward...backward...0.4326301999999487 sec\n",
      "Number of classified segments: [26 0 0 0 ]\n",
      "slice sampling\n",
      "forward...backward...1.086292100000037 sec\n",
      "Number of classified segments: [27 0 0 0 0 0 0 0 0 0 0 0 ]\n"
     ]
    },
    {
     "name": "stderr",
     "output_type": "stream",
     "text": [
      "c:\\Users\\moro-\\project_CSL\\HVGH\\.venv\\lib\\site-packages\\numpy\\core\\_asarray.py:136: VisibleDeprecationWarning: Creating an ndarray from ragged nested sequences (which is a list-or-tuple of lists-or-tuples-or ndarrays with different lengths or shapes) is deprecated. If you meant to do this, you must specify 'dtype=object' when creating the ndarray\n",
      "  return array(a, dtype, copy=False, order=order, subok=True)\n"
     ]
    },
    {
     "name": "stdout",
     "output_type": "stream",
     "text": [
      "lik = 1581.9591709695185\n",
      "----- 1 -----\n",
      "slice sampling\n"
     ]
    },
    {
     "name": "stderr",
     "output_type": "stream",
     "text": [
      "c:\\Users\\moro-\\project_CSL\\HVGH\\.venv\\lib\\site-packages\\ipykernel_launcher.py:351: DeprecationWarning: time.clock has been deprecated in Python 3.3 and will be removed from Python 3.8: use time.perf_counter or time.process_time instead\n"
     ]
    },
    {
     "name": "stdout",
     "output_type": "stream",
     "text": [
      "forward...backward...0.4035857000000078 sec\n",
      "Number of classified segments: [29 0 0 ]\n"
     ]
    },
    {
     "name": "stderr",
     "output_type": "stream",
     "text": [
      "c:\\Users\\moro-\\project_CSL\\HVGH\\.venv\\lib\\site-packages\\ipykernel_launcher.py:357: DeprecationWarning: time.clock has been deprecated in Python 3.3 and will be removed from Python 3.8: use time.perf_counter or time.process_time instead\n"
     ]
    },
    {
     "name": "stdout",
     "output_type": "stream",
     "text": [
      "slice sampling\n",
      "forward...backward...0.7008888999999954 sec\n",
      "Number of classified segments: [32 0 0 0 0 0 0 ]\n",
      "slice sampling\n",
      "forward...backward...0.687681399999974 sec\n",
      "Number of classified segments: [31 0 0 0 0 0 0 0 ]\n",
      "slice sampling\n",
      "forward...backward...0.2560947000000624 sec\n",
      "Number of classified segments: [31 0 ]\n"
     ]
    },
    {
     "name": "stderr",
     "output_type": "stream",
     "text": [
      "c:\\Users\\moro-\\project_CSL\\HVGH\\.venv\\lib\\site-packages\\numpy\\core\\_asarray.py:136: VisibleDeprecationWarning: Creating an ndarray from ragged nested sequences (which is a list-or-tuple of lists-or-tuples-or ndarrays with different lengths or shapes) is deprecated. If you meant to do this, you must specify 'dtype=object' when creating the ndarray\n",
      "  return array(a, dtype, copy=False, order=order, subok=True)\n"
     ]
    },
    {
     "name": "stdout",
     "output_type": "stream",
     "text": [
      "lik = 1592.6934630753074\n",
      "----- 2 -----\n",
      "slice sampling\n"
     ]
    },
    {
     "name": "stderr",
     "output_type": "stream",
     "text": [
      "c:\\Users\\moro-\\project_CSL\\HVGH\\.venv\\lib\\site-packages\\ipykernel_launcher.py:351: DeprecationWarning: time.clock has been deprecated in Python 3.3 and will be removed from Python 3.8: use time.perf_counter or time.process_time instead\n"
     ]
    },
    {
     "name": "stdout",
     "output_type": "stream",
     "text": [
      "forward...backward...1.1429505999999492 sec\n",
      "Number of classified segments: [30 0 0 0 0 0 0 0 0 0 ]\n"
     ]
    },
    {
     "name": "stderr",
     "output_type": "stream",
     "text": [
      "c:\\Users\\moro-\\project_CSL\\HVGH\\.venv\\lib\\site-packages\\ipykernel_launcher.py:357: DeprecationWarning: time.clock has been deprecated in Python 3.3 and will be removed from Python 3.8: use time.perf_counter or time.process_time instead\n"
     ]
    },
    {
     "name": "stdout",
     "output_type": "stream",
     "text": [
      "slice sampling\n",
      "forward...backward...1.271011000000044 sec\n",
      "Number of classified segments: [31 0 0 0 0 0 0 0 0 0 0 ]\n",
      "slice sampling\n",
      "forward...backward...0.7062384000000748 sec\n",
      "Number of classified segments: [32 0 0 0 0 0 0 0 ]\n",
      "slice sampling\n",
      "forward...backward...0.5129753999999593 sec\n",
      "Number of classified segments: [32 0 0 0 ]\n"
     ]
    },
    {
     "name": "stderr",
     "output_type": "stream",
     "text": [
      "c:\\Users\\moro-\\project_CSL\\HVGH\\.venv\\lib\\site-packages\\numpy\\core\\_asarray.py:136: VisibleDeprecationWarning: Creating an ndarray from ragged nested sequences (which is a list-or-tuple of lists-or-tuples-or ndarrays with different lengths or shapes) is deprecated. If you meant to do this, you must specify 'dtype=object' when creating the ndarray\n",
      "  return array(a, dtype, copy=False, order=order, subok=True)\n"
     ]
    },
    {
     "name": "stdout",
     "output_type": "stream",
     "text": [
      "lik = 1592.1564301478872\n",
      "----- 3 -----\n",
      "slice sampling\n"
     ]
    },
    {
     "name": "stderr",
     "output_type": "stream",
     "text": [
      "c:\\Users\\moro-\\project_CSL\\HVGH\\.venv\\lib\\site-packages\\ipykernel_launcher.py:351: DeprecationWarning: time.clock has been deprecated in Python 3.3 and will be removed from Python 3.8: use time.perf_counter or time.process_time instead\n"
     ]
    },
    {
     "name": "stdout",
     "output_type": "stream",
     "text": [
      "forward...backward...1.0612678999999616 sec\n",
      "Number of classified segments: [31 0 0 0 0 0 0 0 0 0 0 ]\n"
     ]
    },
    {
     "name": "stderr",
     "output_type": "stream",
     "text": [
      "c:\\Users\\moro-\\project_CSL\\HVGH\\.venv\\lib\\site-packages\\ipykernel_launcher.py:357: DeprecationWarning: time.clock has been deprecated in Python 3.3 and will be removed from Python 3.8: use time.perf_counter or time.process_time instead\n"
     ]
    },
    {
     "name": "stdout",
     "output_type": "stream",
     "text": [
      "slice sampling\n",
      "forward...backward...0.44528820000005 sec\n",
      "Number of classified segments: [30 0 0 0 ]\n",
      "slice sampling\n",
      "forward...backward...0.40419170000006943 sec\n",
      "Number of classified segments: [31 0 0 0 ]\n",
      "slice sampling\n",
      "forward...backward...0.5830863999999565 sec\n",
      "Number of classified segments: [32 0 0 0 0 0 ]\n"
     ]
    },
    {
     "name": "stderr",
     "output_type": "stream",
     "text": [
      "c:\\Users\\moro-\\project_CSL\\HVGH\\.venv\\lib\\site-packages\\numpy\\core\\_asarray.py:136: VisibleDeprecationWarning: Creating an ndarray from ragged nested sequences (which is a list-or-tuple of lists-or-tuples-or ndarrays with different lengths or shapes) is deprecated. If you meant to do this, you must specify 'dtype=object' when creating the ndarray\n",
      "  return array(a, dtype, copy=False, order=order, subok=True)\n"
     ]
    },
    {
     "name": "stdout",
     "output_type": "stream",
     "text": [
      "lik = 1592.0099556795674\n",
      "----- 4 -----\n",
      "slice sampling\n"
     ]
    },
    {
     "name": "stderr",
     "output_type": "stream",
     "text": [
      "c:\\Users\\moro-\\project_CSL\\HVGH\\.venv\\lib\\site-packages\\ipykernel_launcher.py:351: DeprecationWarning: time.clock has been deprecated in Python 3.3 and will be removed from Python 3.8: use time.perf_counter or time.process_time instead\n"
     ]
    },
    {
     "name": "stdout",
     "output_type": "stream",
     "text": [
      "forward...backward...0.9006025999999565 sec\n",
      "Number of classified segments: [33 0 0 0 0 0 0 0 0 ]\n"
     ]
    },
    {
     "name": "stderr",
     "output_type": "stream",
     "text": [
      "c:\\Users\\moro-\\project_CSL\\HVGH\\.venv\\lib\\site-packages\\ipykernel_launcher.py:357: DeprecationWarning: time.clock has been deprecated in Python 3.3 and will be removed from Python 3.8: use time.perf_counter or time.process_time instead\n"
     ]
    },
    {
     "name": "stdout",
     "output_type": "stream",
     "text": [
      "slice sampling\n",
      "forward...backward...0.41826849999995375 sec\n",
      "Number of classified segments: [33 0 0 0 ]\n",
      "slice sampling\n",
      "forward...backward...0.7280616000000464 sec\n",
      "Number of classified segments: [33 0 0 0 0 0 ]\n",
      "slice sampling\n",
      "forward...backward...0.6112957999999935 sec\n",
      "Number of classified segments: [33 0 0 0 0 ]\n"
     ]
    },
    {
     "name": "stderr",
     "output_type": "stream",
     "text": [
      "c:\\Users\\moro-\\project_CSL\\HVGH\\.venv\\lib\\site-packages\\numpy\\core\\_asarray.py:136: VisibleDeprecationWarning: Creating an ndarray from ragged nested sequences (which is a list-or-tuple of lists-or-tuples-or ndarrays with different lengths or shapes) is deprecated. If you meant to do this, you must specify 'dtype=object' when creating the ndarray\n",
      "  return array(a, dtype, copy=False, order=order, subok=True)\n"
     ]
    },
    {
     "name": "stdout",
     "output_type": "stream",
     "text": [
      "lik = 1593.1022018148644\n",
      "----- 5 -----\n",
      "slice sampling\n"
     ]
    },
    {
     "name": "stderr",
     "output_type": "stream",
     "text": [
      "c:\\Users\\moro-\\project_CSL\\HVGH\\.venv\\lib\\site-packages\\ipykernel_launcher.py:351: DeprecationWarning: time.clock has been deprecated in Python 3.3 and will be removed from Python 3.8: use time.perf_counter or time.process_time instead\n"
     ]
    },
    {
     "name": "stdout",
     "output_type": "stream",
     "text": [
      "forward...backward...0.8648341000000528 sec\n",
      "Number of classified segments: [33 0 0 0 0 0 0 0 0 ]\n"
     ]
    },
    {
     "name": "stderr",
     "output_type": "stream",
     "text": [
      "c:\\Users\\moro-\\project_CSL\\HVGH\\.venv\\lib\\site-packages\\ipykernel_launcher.py:357: DeprecationWarning: time.clock has been deprecated in Python 3.3 and will be removed from Python 3.8: use time.perf_counter or time.process_time instead\n"
     ]
    },
    {
     "name": "stdout",
     "output_type": "stream",
     "text": [
      "slice sampling\n",
      "forward...backward...0.39100470000005316 sec\n",
      "Number of classified segments: [34 0 0 0 0 ]\n",
      "slice sampling\n",
      "forward...backward...0.8623124000000644 sec\n",
      "Number of classified segments: [36 0 0 0 0 0 0 0 0 ]\n",
      "slice sampling\n",
      "forward...backward...0.5599496000000954 sec\n",
      "Number of classified segments: [35 0 0 0 ]\n"
     ]
    },
    {
     "name": "stderr",
     "output_type": "stream",
     "text": [
      "c:\\Users\\moro-\\project_CSL\\HVGH\\.venv\\lib\\site-packages\\numpy\\core\\_asarray.py:136: VisibleDeprecationWarning: Creating an ndarray from ragged nested sequences (which is a list-or-tuple of lists-or-tuples-or ndarrays with different lengths or shapes) is deprecated. If you meant to do this, you must specify 'dtype=object' when creating the ndarray\n",
      "  return array(a, dtype, copy=False, order=order, subok=True)\n"
     ]
    },
    {
     "name": "stdout",
     "output_type": "stream",
     "text": [
      "lik = 1593.8043169249308\n",
      "----- 6 -----\n",
      "slice sampling\n"
     ]
    },
    {
     "name": "stderr",
     "output_type": "stream",
     "text": [
      "c:\\Users\\moro-\\project_CSL\\HVGH\\.venv\\lib\\site-packages\\ipykernel_launcher.py:351: DeprecationWarning: time.clock has been deprecated in Python 3.3 and will be removed from Python 3.8: use time.perf_counter or time.process_time instead\n"
     ]
    },
    {
     "name": "stdout",
     "output_type": "stream",
     "text": [
      "forward...backward...0.3245911999999862 sec\n",
      "Number of classified segments: [34 0 0 0 ]\n"
     ]
    },
    {
     "name": "stderr",
     "output_type": "stream",
     "text": [
      "c:\\Users\\moro-\\project_CSL\\HVGH\\.venv\\lib\\site-packages\\ipykernel_launcher.py:357: DeprecationWarning: time.clock has been deprecated in Python 3.3 and will be removed from Python 3.8: use time.perf_counter or time.process_time instead\n"
     ]
    },
    {
     "name": "stdout",
     "output_type": "stream",
     "text": [
      "slice sampling\n",
      "forward...backward...0.495809099999974 sec\n",
      "Number of classified segments: [32 0 0 0 0 ]\n",
      "slice sampling\n",
      "forward...backward...0.36259849999999005 sec\n",
      "Number of classified segments: [33 0 0 0 ]\n",
      "slice sampling\n",
      "forward...backward...0.43663729999991574 sec\n",
      "Number of classified segments: [33 0 0 0 ]\n"
     ]
    },
    {
     "name": "stderr",
     "output_type": "stream",
     "text": [
      "c:\\Users\\moro-\\project_CSL\\HVGH\\.venv\\lib\\site-packages\\numpy\\core\\_asarray.py:136: VisibleDeprecationWarning: Creating an ndarray from ragged nested sequences (which is a list-or-tuple of lists-or-tuples-or ndarrays with different lengths or shapes) is deprecated. If you meant to do this, you must specify 'dtype=object' when creating the ndarray\n",
      "  return array(a, dtype, copy=False, order=order, subok=True)\n"
     ]
    },
    {
     "name": "stdout",
     "output_type": "stream",
     "text": [
      "lik = 1594.9506925449055\n",
      "----- 7 -----\n",
      "slice sampling\n"
     ]
    },
    {
     "name": "stderr",
     "output_type": "stream",
     "text": [
      "c:\\Users\\moro-\\project_CSL\\HVGH\\.venv\\lib\\site-packages\\ipykernel_launcher.py:351: DeprecationWarning: time.clock has been deprecated in Python 3.3 and will be removed from Python 3.8: use time.perf_counter or time.process_time instead\n"
     ]
    },
    {
     "name": "stdout",
     "output_type": "stream",
     "text": [
      "forward...backward...0.4740501999999651 sec\n",
      "Number of classified segments: [33 0 0 0 0 ]\n"
     ]
    },
    {
     "name": "stderr",
     "output_type": "stream",
     "text": [
      "c:\\Users\\moro-\\project_CSL\\HVGH\\.venv\\lib\\site-packages\\ipykernel_launcher.py:357: DeprecationWarning: time.clock has been deprecated in Python 3.3 and will be removed from Python 3.8: use time.perf_counter or time.process_time instead\n"
     ]
    },
    {
     "name": "stdout",
     "output_type": "stream",
     "text": [
      "slice sampling\n",
      "forward...backward...0.4068948999999975 sec\n",
      "Number of classified segments: [33 0 0 0 0 ]\n",
      "slice sampling\n",
      "forward...backward...0.4579655999999659 sec\n",
      "Number of classified segments: [33 0 0 0 0 ]\n",
      "slice sampling\n",
      "forward...backward...0.23395179999999982 sec\n",
      "Number of classified segments: [34 0 ]\n"
     ]
    },
    {
     "name": "stderr",
     "output_type": "stream",
     "text": [
      "c:\\Users\\moro-\\project_CSL\\HVGH\\.venv\\lib\\site-packages\\numpy\\core\\_asarray.py:136: VisibleDeprecationWarning: Creating an ndarray from ragged nested sequences (which is a list-or-tuple of lists-or-tuples-or ndarrays with different lengths or shapes) is deprecated. If you meant to do this, you must specify 'dtype=object' when creating the ndarray\n",
      "  return array(a, dtype, copy=False, order=order, subok=True)\n"
     ]
    },
    {
     "name": "stdout",
     "output_type": "stream",
     "text": [
      "lik = 1593.7229809667822\n",
      "51.04[sec]\n",
      "*--------------iteration:008--------------*\n",
      "VAE learned iteration: 8 data: 0\n",
      "VAE learned iteration: 8 data: 1\n",
      "VAE learned iteration: 8 data: 2\n",
      "VAE learned iteration: 8 data: 3\n",
      "----- 0 -----\n",
      "slice sampling\n"
     ]
    },
    {
     "name": "stderr",
     "output_type": "stream",
     "text": [
      "c:\\Users\\moro-\\project_CSL\\HVGH\\.venv\\lib\\site-packages\\ipykernel_launcher.py:351: DeprecationWarning: time.clock has been deprecated in Python 3.3 and will be removed from Python 3.8: use time.perf_counter or time.process_time instead\n"
     ]
    },
    {
     "name": "stdout",
     "output_type": "stream",
     "text": [
      "forward...backward...0.28301139999996394 sec\n",
      "Number of classified segments: [29 0 0 ]\n"
     ]
    },
    {
     "name": "stderr",
     "output_type": "stream",
     "text": [
      "c:\\Users\\moro-\\project_CSL\\HVGH\\.venv\\lib\\site-packages\\ipykernel_launcher.py:357: DeprecationWarning: time.clock has been deprecated in Python 3.3 and will be removed from Python 3.8: use time.perf_counter or time.process_time instead\n"
     ]
    },
    {
     "name": "stdout",
     "output_type": "stream",
     "text": [
      "slice sampling\n",
      "forward...backward...0.40777620000005754 sec\n",
      "Number of classified segments: [30 0 0 0 0 ]\n",
      "slice sampling\n",
      "forward...backward...0.4484262000000854 sec\n",
      "Number of classified segments: [30 0 0 0 0 ]\n",
      "slice sampling\n",
      "forward...backward...0.7711272000000235 sec\n",
      "Number of classified segments: [31 0 0 0 0 0 0 0 0 ]\n"
     ]
    },
    {
     "name": "stderr",
     "output_type": "stream",
     "text": [
      "c:\\Users\\moro-\\project_CSL\\HVGH\\.venv\\lib\\site-packages\\numpy\\core\\_asarray.py:136: VisibleDeprecationWarning: Creating an ndarray from ragged nested sequences (which is a list-or-tuple of lists-or-tuples-or ndarrays with different lengths or shapes) is deprecated. If you meant to do this, you must specify 'dtype=object' when creating the ndarray\n",
      "  return array(a, dtype, copy=False, order=order, subok=True)\n"
     ]
    },
    {
     "name": "stdout",
     "output_type": "stream",
     "text": [
      "lik = 1603.3079880677028\n",
      "----- 1 -----\n",
      "slice sampling\n"
     ]
    },
    {
     "name": "stderr",
     "output_type": "stream",
     "text": [
      "c:\\Users\\moro-\\project_CSL\\HVGH\\.venv\\lib\\site-packages\\ipykernel_launcher.py:351: DeprecationWarning: time.clock has been deprecated in Python 3.3 and will be removed from Python 3.8: use time.perf_counter or time.process_time instead\n"
     ]
    },
    {
     "name": "stdout",
     "output_type": "stream",
     "text": [
      "forward...backward...0.4914658000000145 sec\n",
      "Number of classified segments: [31 0 0 0 ]\n"
     ]
    },
    {
     "name": "stderr",
     "output_type": "stream",
     "text": [
      "c:\\Users\\moro-\\project_CSL\\HVGH\\.venv\\lib\\site-packages\\ipykernel_launcher.py:357: DeprecationWarning: time.clock has been deprecated in Python 3.3 and will be removed from Python 3.8: use time.perf_counter or time.process_time instead\n"
     ]
    },
    {
     "name": "stdout",
     "output_type": "stream",
     "text": [
      "slice sampling\n",
      "forward...backward...0.8372502999999369 sec\n",
      "Number of classified segments: [31 0 0 0 0 0 0 0 ]\n",
      "slice sampling\n",
      "forward...backward...1.233537100000035 sec\n",
      "Number of classified segments: [30 0 0 0 0 0 0 0 0 0 0 0 0 0 ]\n",
      "slice sampling\n",
      "forward...backward...0.42943049999996674 sec\n",
      "Number of classified segments: [30 0 0 0 0 ]\n"
     ]
    },
    {
     "name": "stderr",
     "output_type": "stream",
     "text": [
      "c:\\Users\\moro-\\project_CSL\\HVGH\\.venv\\lib\\site-packages\\numpy\\core\\_asarray.py:136: VisibleDeprecationWarning: Creating an ndarray from ragged nested sequences (which is a list-or-tuple of lists-or-tuples-or ndarrays with different lengths or shapes) is deprecated. If you meant to do this, you must specify 'dtype=object' when creating the ndarray\n",
      "  return array(a, dtype, copy=False, order=order, subok=True)\n"
     ]
    },
    {
     "name": "stdout",
     "output_type": "stream",
     "text": [
      "lik = 1606.802223127859\n",
      "----- 2 -----\n",
      "slice sampling\n"
     ]
    },
    {
     "name": "stderr",
     "output_type": "stream",
     "text": [
      "c:\\Users\\moro-\\project_CSL\\HVGH\\.venv\\lib\\site-packages\\ipykernel_launcher.py:351: DeprecationWarning: time.clock has been deprecated in Python 3.3 and will be removed from Python 3.8: use time.perf_counter or time.process_time instead\n"
     ]
    },
    {
     "name": "stdout",
     "output_type": "stream",
     "text": [
      "forward...backward...0.47394809999991594 sec\n",
      "Number of classified segments: [31 0 0 0 0 ]\n"
     ]
    },
    {
     "name": "stderr",
     "output_type": "stream",
     "text": [
      "c:\\Users\\moro-\\project_CSL\\HVGH\\.venv\\lib\\site-packages\\ipykernel_launcher.py:357: DeprecationWarning: time.clock has been deprecated in Python 3.3 and will be removed from Python 3.8: use time.perf_counter or time.process_time instead\n"
     ]
    },
    {
     "name": "stdout",
     "output_type": "stream",
     "text": [
      "slice sampling\n",
      "forward...backward...0.7318745000000035 sec\n",
      "Number of classified segments: [32 0 0 0 0 0 0 0 ]\n",
      "slice sampling\n",
      "forward...backward...0.4986308000000008 sec\n",
      "Number of classified segments: [33 0 0 0 0 0 ]\n",
      "slice sampling\n",
      "forward...backward...0.5890150000000176 sec\n",
      "Number of classified segments: [33 0 0 0 0 0 ]\n"
     ]
    },
    {
     "name": "stderr",
     "output_type": "stream",
     "text": [
      "c:\\Users\\moro-\\project_CSL\\HVGH\\.venv\\lib\\site-packages\\numpy\\core\\_asarray.py:136: VisibleDeprecationWarning: Creating an ndarray from ragged nested sequences (which is a list-or-tuple of lists-or-tuples-or ndarrays with different lengths or shapes) is deprecated. If you meant to do this, you must specify 'dtype=object' when creating the ndarray\n",
      "  return array(a, dtype, copy=False, order=order, subok=True)\n"
     ]
    },
    {
     "name": "stdout",
     "output_type": "stream",
     "text": [
      "lik = 1608.1514878382936\n",
      "----- 3 -----\n",
      "slice sampling\n"
     ]
    },
    {
     "name": "stderr",
     "output_type": "stream",
     "text": [
      "c:\\Users\\moro-\\project_CSL\\HVGH\\.venv\\lib\\site-packages\\ipykernel_launcher.py:351: DeprecationWarning: time.clock has been deprecated in Python 3.3 and will be removed from Python 3.8: use time.perf_counter or time.process_time instead\n"
     ]
    },
    {
     "name": "stdout",
     "output_type": "stream",
     "text": [
      "forward...backward...0.654288299999962 sec\n",
      "Number of classified segments: [33 0 0 0 0 0 0 0 ]\n"
     ]
    },
    {
     "name": "stderr",
     "output_type": "stream",
     "text": [
      "c:\\Users\\moro-\\project_CSL\\HVGH\\.venv\\lib\\site-packages\\ipykernel_launcher.py:357: DeprecationWarning: time.clock has been deprecated in Python 3.3 and will be removed from Python 3.8: use time.perf_counter or time.process_time instead\n"
     ]
    },
    {
     "name": "stdout",
     "output_type": "stream",
     "text": [
      "slice sampling\n",
      "forward...backward...0.284470199999987 sec\n",
      "Number of classified segments: [33 0 0 ]\n",
      "slice sampling\n",
      "forward...backward...1.0611744999999928 sec\n",
      "Number of classified segments: [32 0 0 0 0 0 0 0 0 0 0 ]\n",
      "slice sampling\n",
      "forward...backward...0.6988143999999465 sec\n",
      "Number of classified segments: [32 0 0 0 0 0 0 ]\n"
     ]
    },
    {
     "name": "stderr",
     "output_type": "stream",
     "text": [
      "c:\\Users\\moro-\\project_CSL\\HVGH\\.venv\\lib\\site-packages\\numpy\\core\\_asarray.py:136: VisibleDeprecationWarning: Creating an ndarray from ragged nested sequences (which is a list-or-tuple of lists-or-tuples-or ndarrays with different lengths or shapes) is deprecated. If you meant to do this, you must specify 'dtype=object' when creating the ndarray\n",
      "  return array(a, dtype, copy=False, order=order, subok=True)\n"
     ]
    },
    {
     "name": "stdout",
     "output_type": "stream",
     "text": [
      "lik = 1607.6929526962226\n",
      "----- 4 -----\n",
      "slice sampling\n"
     ]
    },
    {
     "name": "stderr",
     "output_type": "stream",
     "text": [
      "c:\\Users\\moro-\\project_CSL\\HVGH\\.venv\\lib\\site-packages\\ipykernel_launcher.py:351: DeprecationWarning: time.clock has been deprecated in Python 3.3 and will be removed from Python 3.8: use time.perf_counter or time.process_time instead\n"
     ]
    },
    {
     "name": "stdout",
     "output_type": "stream",
     "text": [
      "forward...backward...0.5112488999999414 sec\n",
      "Number of classified segments: [32 0 0 0 0 ]\n"
     ]
    },
    {
     "name": "stderr",
     "output_type": "stream",
     "text": [
      "c:\\Users\\moro-\\project_CSL\\HVGH\\.venv\\lib\\site-packages\\ipykernel_launcher.py:357: DeprecationWarning: time.clock has been deprecated in Python 3.3 and will be removed from Python 3.8: use time.perf_counter or time.process_time instead\n"
     ]
    },
    {
     "name": "stdout",
     "output_type": "stream",
     "text": [
      "slice sampling\n",
      "forward...backward...0.46458819999998013 sec\n",
      "Number of classified segments: [33 0 0 0 0 ]\n",
      "slice sampling\n",
      "forward...backward...1.0761179999999513 sec\n",
      "Number of classified segments: [33 0 0 0 0 0 0 0 0 0 0 ]\n",
      "slice sampling\n",
      "forward...backward...0.5165428000000247 sec\n",
      "Number of classified segments: [32 0 0 0 0 0 0 ]\n"
     ]
    },
    {
     "name": "stderr",
     "output_type": "stream",
     "text": [
      "c:\\Users\\moro-\\project_CSL\\HVGH\\.venv\\lib\\site-packages\\numpy\\core\\_asarray.py:136: VisibleDeprecationWarning: Creating an ndarray from ragged nested sequences (which is a list-or-tuple of lists-or-tuples-or ndarrays with different lengths or shapes) is deprecated. If you meant to do this, you must specify 'dtype=object' when creating the ndarray\n",
      "  return array(a, dtype, copy=False, order=order, subok=True)\n"
     ]
    },
    {
     "name": "stdout",
     "output_type": "stream",
     "text": [
      "lik = 1608.3709487499198\n",
      "----- 5 -----\n",
      "slice sampling\n"
     ]
    },
    {
     "name": "stderr",
     "output_type": "stream",
     "text": [
      "c:\\Users\\moro-\\project_CSL\\HVGH\\.venv\\lib\\site-packages\\ipykernel_launcher.py:351: DeprecationWarning: time.clock has been deprecated in Python 3.3 and will be removed from Python 3.8: use time.perf_counter or time.process_time instead\n"
     ]
    },
    {
     "name": "stdout",
     "output_type": "stream",
     "text": [
      "forward...backward...0.6584644999999227 sec\n",
      "Number of classified segments: [32 0 0 0 0 0 0 0 ]\n"
     ]
    },
    {
     "name": "stderr",
     "output_type": "stream",
     "text": [
      "c:\\Users\\moro-\\project_CSL\\HVGH\\.venv\\lib\\site-packages\\ipykernel_launcher.py:357: DeprecationWarning: time.clock has been deprecated in Python 3.3 and will be removed from Python 3.8: use time.perf_counter or time.process_time instead\n"
     ]
    },
    {
     "name": "stdout",
     "output_type": "stream",
     "text": [
      "slice sampling\n",
      "forward...backward...0.8168567000000166 sec\n",
      "Number of classified segments: [32 0 0 0 0 0 0 0 0 0 ]\n",
      "slice sampling\n",
      "forward...backward...0.17876169999999547 sec\n",
      "Number of classified segments: [33 0 ]\n",
      "slice sampling\n",
      "forward...backward...0.4169506000000638 sec\n",
      "Number of classified segments: [33 0 0 0 0 ]\n"
     ]
    },
    {
     "name": "stderr",
     "output_type": "stream",
     "text": [
      "c:\\Users\\moro-\\project_CSL\\HVGH\\.venv\\lib\\site-packages\\numpy\\core\\_asarray.py:136: VisibleDeprecationWarning: Creating an ndarray from ragged nested sequences (which is a list-or-tuple of lists-or-tuples-or ndarrays with different lengths or shapes) is deprecated. If you meant to do this, you must specify 'dtype=object' when creating the ndarray\n",
      "  return array(a, dtype, copy=False, order=order, subok=True)\n"
     ]
    },
    {
     "name": "stdout",
     "output_type": "stream",
     "text": [
      "lik = 1608.1739254125296\n",
      "----- 6 -----\n",
      "slice sampling\n"
     ]
    },
    {
     "name": "stderr",
     "output_type": "stream",
     "text": [
      "c:\\Users\\moro-\\project_CSL\\HVGH\\.venv\\lib\\site-packages\\ipykernel_launcher.py:351: DeprecationWarning: time.clock has been deprecated in Python 3.3 and will be removed from Python 3.8: use time.perf_counter or time.process_time instead\n"
     ]
    },
    {
     "name": "stdout",
     "output_type": "stream",
     "text": [
      "forward...backward...0.23874990000001617 sec\n",
      "Number of classified segments: [33 0 0 ]\n"
     ]
    },
    {
     "name": "stderr",
     "output_type": "stream",
     "text": [
      "c:\\Users\\moro-\\project_CSL\\HVGH\\.venv\\lib\\site-packages\\ipykernel_launcher.py:357: DeprecationWarning: time.clock has been deprecated in Python 3.3 and will be removed from Python 3.8: use time.perf_counter or time.process_time instead\n"
     ]
    },
    {
     "name": "stdout",
     "output_type": "stream",
     "text": [
      "slice sampling\n",
      "forward...backward...0.5545515000000023 sec\n",
      "Number of classified segments: [32 0 0 0 0 0 0 ]\n",
      "slice sampling\n",
      "forward...backward...0.550193199999967 sec\n",
      "Number of classified segments: [32 0 0 0 0 0 ]\n",
      "slice sampling\n",
      "forward...backward...0.5644640000000436 sec\n",
      "Number of classified segments: [31 0 0 0 0 0 0 ]\n"
     ]
    },
    {
     "name": "stderr",
     "output_type": "stream",
     "text": [
      "c:\\Users\\moro-\\project_CSL\\HVGH\\.venv\\lib\\site-packages\\numpy\\core\\_asarray.py:136: VisibleDeprecationWarning: Creating an ndarray from ragged nested sequences (which is a list-or-tuple of lists-or-tuples-or ndarrays with different lengths or shapes) is deprecated. If you meant to do this, you must specify 'dtype=object' when creating the ndarray\n",
      "  return array(a, dtype, copy=False, order=order, subok=True)\n"
     ]
    },
    {
     "name": "stdout",
     "output_type": "stream",
     "text": [
      "lik = 1608.9971596730143\n",
      "----- 7 -----\n",
      "slice sampling\n"
     ]
    },
    {
     "name": "stderr",
     "output_type": "stream",
     "text": [
      "c:\\Users\\moro-\\project_CSL\\HVGH\\.venv\\lib\\site-packages\\ipykernel_launcher.py:351: DeprecationWarning: time.clock has been deprecated in Python 3.3 and will be removed from Python 3.8: use time.perf_counter or time.process_time instead\n"
     ]
    },
    {
     "name": "stdout",
     "output_type": "stream",
     "text": [
      "forward...backward...1.05305850000002 sec\n",
      "Number of classified segments: [32 0 0 0 0 0 0 0 0 0 ]\n"
     ]
    },
    {
     "name": "stderr",
     "output_type": "stream",
     "text": [
      "c:\\Users\\moro-\\project_CSL\\HVGH\\.venv\\lib\\site-packages\\ipykernel_launcher.py:357: DeprecationWarning: time.clock has been deprecated in Python 3.3 and will be removed from Python 3.8: use time.perf_counter or time.process_time instead\n"
     ]
    },
    {
     "name": "stdout",
     "output_type": "stream",
     "text": [
      "slice sampling\n",
      "forward...backward...0.6007485999999744 sec\n",
      "Number of classified segments: [31 0 0 0 0 0 0 ]\n",
      "slice sampling\n",
      "forward...backward...0.3439199000000599 sec\n",
      "Number of classified segments: [32 0 0 0 ]\n",
      "slice sampling\n",
      "forward...backward...0.5082126000000926 sec\n",
      "Number of classified segments: [32 0 0 0 0 ]\n"
     ]
    },
    {
     "name": "stderr",
     "output_type": "stream",
     "text": [
      "c:\\Users\\moro-\\project_CSL\\HVGH\\.venv\\lib\\site-packages\\numpy\\core\\_asarray.py:136: VisibleDeprecationWarning: Creating an ndarray from ragged nested sequences (which is a list-or-tuple of lists-or-tuples-or ndarrays with different lengths or shapes) is deprecated. If you meant to do this, you must specify 'dtype=object' when creating the ndarray\n",
      "  return array(a, dtype, copy=False, order=order, subok=True)\n"
     ]
    },
    {
     "name": "stdout",
     "output_type": "stream",
     "text": [
      "lik = 1607.9787338876833\n",
      "46.51[sec]\n",
      "*--------------iteration:009--------------*\n",
      "VAE learned iteration: 9 data: 0\n",
      "VAE learned iteration: 9 data: 1\n",
      "VAE learned iteration: 9 data: 2\n",
      "VAE learned iteration: 9 data: 3\n",
      "----- 0 -----\n",
      "slice sampling\n"
     ]
    },
    {
     "name": "stderr",
     "output_type": "stream",
     "text": [
      "c:\\Users\\moro-\\project_CSL\\HVGH\\.venv\\lib\\site-packages\\ipykernel_launcher.py:351: DeprecationWarning: time.clock has been deprecated in Python 3.3 and will be removed from Python 3.8: use time.perf_counter or time.process_time instead\n"
     ]
    },
    {
     "name": "stdout",
     "output_type": "stream",
     "text": [
      "forward...backward...0.5619674000000714 sec\n",
      "Number of classified segments: [28 0 0 0 0 0 0 ]\n"
     ]
    },
    {
     "name": "stderr",
     "output_type": "stream",
     "text": [
      "c:\\Users\\moro-\\project_CSL\\HVGH\\.venv\\lib\\site-packages\\ipykernel_launcher.py:357: DeprecationWarning: time.clock has been deprecated in Python 3.3 and will be removed from Python 3.8: use time.perf_counter or time.process_time instead\n"
     ]
    },
    {
     "name": "stdout",
     "output_type": "stream",
     "text": [
      "slice sampling\n",
      "forward...backward...0.47314670000002934 sec\n",
      "Number of classified segments: [30 0 0 0 0 0 ]\n",
      "slice sampling\n",
      "forward...backward...0.6220963999999185 sec\n",
      "Number of classified segments: [30 0 0 0 0 0 0 ]\n",
      "slice sampling\n",
      "forward...backward...0.9483543000000054 sec\n",
      "Number of classified segments: [29 0 0 0 0 0 0 0 0 0 ]\n"
     ]
    },
    {
     "name": "stderr",
     "output_type": "stream",
     "text": [
      "c:\\Users\\moro-\\project_CSL\\HVGH\\.venv\\lib\\site-packages\\numpy\\core\\_asarray.py:136: VisibleDeprecationWarning: Creating an ndarray from ragged nested sequences (which is a list-or-tuple of lists-or-tuples-or ndarrays with different lengths or shapes) is deprecated. If you meant to do this, you must specify 'dtype=object' when creating the ndarray\n",
      "  return array(a, dtype, copy=False, order=order, subok=True)\n"
     ]
    },
    {
     "name": "stdout",
     "output_type": "stream",
     "text": [
      "lik = 1615.793575603886\n",
      "----- 1 -----\n",
      "slice sampling\n"
     ]
    },
    {
     "name": "stderr",
     "output_type": "stream",
     "text": [
      "c:\\Users\\moro-\\project_CSL\\HVGH\\.venv\\lib\\site-packages\\ipykernel_launcher.py:351: DeprecationWarning: time.clock has been deprecated in Python 3.3 and will be removed from Python 3.8: use time.perf_counter or time.process_time instead\n"
     ]
    },
    {
     "name": "stdout",
     "output_type": "stream",
     "text": [
      "forward...backward...0.6182691000000204 sec\n",
      "Number of classified segments: [28 0 0 0 0 0 ]\n"
     ]
    },
    {
     "name": "stderr",
     "output_type": "stream",
     "text": [
      "c:\\Users\\moro-\\project_CSL\\HVGH\\.venv\\lib\\site-packages\\ipykernel_launcher.py:357: DeprecationWarning: time.clock has been deprecated in Python 3.3 and will be removed from Python 3.8: use time.perf_counter or time.process_time instead\n"
     ]
    },
    {
     "name": "stdout",
     "output_type": "stream",
     "text": [
      "slice sampling\n",
      "forward...backward...0.7914105999999492 sec\n",
      "Number of classified segments: [29 0 0 0 0 ]\n",
      "slice sampling\n",
      "forward...backward...0.4786662000000206 sec\n",
      "Number of classified segments: [30 0 0 0 0 0 ]\n",
      "slice sampling\n",
      "forward...backward...1.1735776000000442 sec\n",
      "Number of classified segments: [31 0 0 0 0 0 0 0 ]\n"
     ]
    },
    {
     "name": "stderr",
     "output_type": "stream",
     "text": [
      "c:\\Users\\moro-\\project_CSL\\HVGH\\.venv\\lib\\site-packages\\numpy\\core\\_asarray.py:136: VisibleDeprecationWarning: Creating an ndarray from ragged nested sequences (which is a list-or-tuple of lists-or-tuples-or ndarrays with different lengths or shapes) is deprecated. If you meant to do this, you must specify 'dtype=object' when creating the ndarray\n",
      "  return array(a, dtype, copy=False, order=order, subok=True)\n"
     ]
    },
    {
     "name": "stdout",
     "output_type": "stream",
     "text": [
      "lik = 1615.6580970490536\n",
      "----- 2 -----\n",
      "slice sampling\n"
     ]
    },
    {
     "name": "stderr",
     "output_type": "stream",
     "text": [
      "c:\\Users\\moro-\\project_CSL\\HVGH\\.venv\\lib\\site-packages\\ipykernel_launcher.py:351: DeprecationWarning: time.clock has been deprecated in Python 3.3 and will be removed from Python 3.8: use time.perf_counter or time.process_time instead\n"
     ]
    },
    {
     "name": "stdout",
     "output_type": "stream",
     "text": [
      "forward...backward...0.7406295000000682 sec\n",
      "Number of classified segments: [31 0 0 0 0 0 0 0 ]\n"
     ]
    },
    {
     "name": "stderr",
     "output_type": "stream",
     "text": [
      "c:\\Users\\moro-\\project_CSL\\HVGH\\.venv\\lib\\site-packages\\ipykernel_launcher.py:357: DeprecationWarning: time.clock has been deprecated in Python 3.3 and will be removed from Python 3.8: use time.perf_counter or time.process_time instead\n"
     ]
    },
    {
     "name": "stdout",
     "output_type": "stream",
     "text": [
      "slice sampling\n",
      "forward...backward...0.5223597000000382 sec\n",
      "Number of classified segments: [31 0 0 0 0 0 ]\n",
      "slice sampling\n",
      "forward...backward...0.45331080000005386 sec\n",
      "Number of classified segments: [32 0 0 0 0 ]\n",
      "slice sampling\n",
      "forward...backward...0.42808720000004996 sec\n",
      "Number of classified segments: [31 0 0 0 0 ]\n"
     ]
    },
    {
     "name": "stderr",
     "output_type": "stream",
     "text": [
      "c:\\Users\\moro-\\project_CSL\\HVGH\\.venv\\lib\\site-packages\\numpy\\core\\_asarray.py:136: VisibleDeprecationWarning: Creating an ndarray from ragged nested sequences (which is a list-or-tuple of lists-or-tuples-or ndarrays with different lengths or shapes) is deprecated. If you meant to do this, you must specify 'dtype=object' when creating the ndarray\n",
      "  return array(a, dtype, copy=False, order=order, subok=True)\n"
     ]
    },
    {
     "name": "stdout",
     "output_type": "stream",
     "text": [
      "lik = 1617.0303974933875\n",
      "----- 3 -----\n",
      "slice sampling\n"
     ]
    },
    {
     "name": "stderr",
     "output_type": "stream",
     "text": [
      "c:\\Users\\moro-\\project_CSL\\HVGH\\.venv\\lib\\site-packages\\ipykernel_launcher.py:351: DeprecationWarning: time.clock has been deprecated in Python 3.3 and will be removed from Python 3.8: use time.perf_counter or time.process_time instead\n"
     ]
    },
    {
     "name": "stdout",
     "output_type": "stream",
     "text": [
      "forward...backward...0.3405236999999488 sec\n",
      "Number of classified segments: [31 0 0 ]\n"
     ]
    },
    {
     "name": "stderr",
     "output_type": "stream",
     "text": [
      "c:\\Users\\moro-\\project_CSL\\HVGH\\.venv\\lib\\site-packages\\ipykernel_launcher.py:357: DeprecationWarning: time.clock has been deprecated in Python 3.3 and will be removed from Python 3.8: use time.perf_counter or time.process_time instead\n"
     ]
    },
    {
     "name": "stdout",
     "output_type": "stream",
     "text": [
      "slice sampling\n",
      "forward...backward...0.6184236000000283 sec\n",
      "Number of classified segments: [30 0 0 0 ]\n",
      "slice sampling\n",
      "forward...backward...0.5491183999999976 sec\n",
      "Number of classified segments: [31 0 0 0 0 0 ]\n",
      "slice sampling\n",
      "forward...backward...0.3429997999999159 sec\n",
      "Number of classified segments: [31 0 0 0 ]\n"
     ]
    },
    {
     "name": "stderr",
     "output_type": "stream",
     "text": [
      "c:\\Users\\moro-\\project_CSL\\HVGH\\.venv\\lib\\site-packages\\numpy\\core\\_asarray.py:136: VisibleDeprecationWarning: Creating an ndarray from ragged nested sequences (which is a list-or-tuple of lists-or-tuples-or ndarrays with different lengths or shapes) is deprecated. If you meant to do this, you must specify 'dtype=object' when creating the ndarray\n",
      "  return array(a, dtype, copy=False, order=order, subok=True)\n"
     ]
    },
    {
     "name": "stdout",
     "output_type": "stream",
     "text": [
      "lik = 1619.2067588883792\n",
      "----- 4 -----\n",
      "slice sampling\n"
     ]
    },
    {
     "name": "stderr",
     "output_type": "stream",
     "text": [
      "c:\\Users\\moro-\\project_CSL\\HVGH\\.venv\\lib\\site-packages\\ipykernel_launcher.py:351: DeprecationWarning: time.clock has been deprecated in Python 3.3 and will be removed from Python 3.8: use time.perf_counter or time.process_time instead\n"
     ]
    },
    {
     "name": "stdout",
     "output_type": "stream",
     "text": [
      "forward...backward...0.826576799999998 sec\n",
      "Number of classified segments: [31 0 0 0 0 0 0 0 0 0 0 ]\n"
     ]
    },
    {
     "name": "stderr",
     "output_type": "stream",
     "text": [
      "c:\\Users\\moro-\\project_CSL\\HVGH\\.venv\\lib\\site-packages\\ipykernel_launcher.py:357: DeprecationWarning: time.clock has been deprecated in Python 3.3 and will be removed from Python 3.8: use time.perf_counter or time.process_time instead\n"
     ]
    },
    {
     "name": "stdout",
     "output_type": "stream",
     "text": [
      "slice sampling\n",
      "forward...backward...0.6195867000000135 sec\n",
      "Number of classified segments: [30 0 0 0 0 0 0 0 ]\n",
      "slice sampling\n",
      "forward...backward...0.3448144000000184 sec\n",
      "Number of classified segments: [31 0 0 0 ]\n",
      "slice sampling\n",
      "forward...backward...1.54379629999994 sec\n",
      "Number of classified segments: [32 0 0 0 0 0 0 0 0 0 0 0 0 ]\n"
     ]
    },
    {
     "name": "stderr",
     "output_type": "stream",
     "text": [
      "c:\\Users\\moro-\\project_CSL\\HVGH\\.venv\\lib\\site-packages\\numpy\\core\\_asarray.py:136: VisibleDeprecationWarning: Creating an ndarray from ragged nested sequences (which is a list-or-tuple of lists-or-tuples-or ndarrays with different lengths or shapes) is deprecated. If you meant to do this, you must specify 'dtype=object' when creating the ndarray\n",
      "  return array(a, dtype, copy=False, order=order, subok=True)\n"
     ]
    },
    {
     "name": "stdout",
     "output_type": "stream",
     "text": [
      "lik = 1619.6033879171837\n",
      "----- 5 -----\n",
      "slice sampling\n"
     ]
    },
    {
     "name": "stderr",
     "output_type": "stream",
     "text": [
      "c:\\Users\\moro-\\project_CSL\\HVGH\\.venv\\lib\\site-packages\\ipykernel_launcher.py:351: DeprecationWarning: time.clock has been deprecated in Python 3.3 and will be removed from Python 3.8: use time.perf_counter or time.process_time instead\n"
     ]
    },
    {
     "name": "stdout",
     "output_type": "stream",
     "text": [
      "forward...backward...0.46843489999992016 sec\n",
      "Number of classified segments: [33 0 0 0 0 ]\n"
     ]
    },
    {
     "name": "stderr",
     "output_type": "stream",
     "text": [
      "c:\\Users\\moro-\\project_CSL\\HVGH\\.venv\\lib\\site-packages\\ipykernel_launcher.py:357: DeprecationWarning: time.clock has been deprecated in Python 3.3 and will be removed from Python 3.8: use time.perf_counter or time.process_time instead\n"
     ]
    },
    {
     "name": "stdout",
     "output_type": "stream",
     "text": [
      "slice sampling\n",
      "forward...backward...0.5269226000000344 sec\n",
      "Number of classified segments: [32 0 0 0 0 0 ]\n",
      "slice sampling\n",
      "forward...backward...0.717545800000039 sec\n",
      "Number of classified segments: [31 0 0 0 0 ]\n",
      "slice sampling\n",
      "forward...backward...1.066317300000037 sec\n",
      "Number of classified segments: [31 0 0 0 0 ]\n"
     ]
    },
    {
     "name": "stderr",
     "output_type": "stream",
     "text": [
      "c:\\Users\\moro-\\project_CSL\\HVGH\\.venv\\lib\\site-packages\\numpy\\core\\_asarray.py:136: VisibleDeprecationWarning: Creating an ndarray from ragged nested sequences (which is a list-or-tuple of lists-or-tuples-or ndarrays with different lengths or shapes) is deprecated. If you meant to do this, you must specify 'dtype=object' when creating the ndarray\n",
      "  return array(a, dtype, copy=False, order=order, subok=True)\n"
     ]
    },
    {
     "name": "stdout",
     "output_type": "stream",
     "text": [
      "lik = 1621.7616886337885\n",
      "----- 6 -----\n",
      "slice sampling\n"
     ]
    },
    {
     "name": "stderr",
     "output_type": "stream",
     "text": [
      "c:\\Users\\moro-\\project_CSL\\HVGH\\.venv\\lib\\site-packages\\ipykernel_launcher.py:351: DeprecationWarning: time.clock has been deprecated in Python 3.3 and will be removed from Python 3.8: use time.perf_counter or time.process_time instead\n"
     ]
    },
    {
     "name": "stdout",
     "output_type": "stream",
     "text": [
      "forward...backward...1.3577473999999938 sec\n",
      "Number of classified segments: [32 0 0 0 0 0 0 0 ]\n"
     ]
    },
    {
     "name": "stderr",
     "output_type": "stream",
     "text": [
      "c:\\Users\\moro-\\project_CSL\\HVGH\\.venv\\lib\\site-packages\\ipykernel_launcher.py:357: DeprecationWarning: time.clock has been deprecated in Python 3.3 and will be removed from Python 3.8: use time.perf_counter or time.process_time instead\n"
     ]
    },
    {
     "name": "stdout",
     "output_type": "stream",
     "text": [
      "slice sampling\n",
      "forward...backward...0.8658168999999134 sec\n",
      "Number of classified segments: [33 0 0 0 0 ]\n",
      "slice sampling\n",
      "forward...backward...0.698824400000035 sec\n",
      "Number of classified segments: [33 0 0 0 0 0 0 ]\n",
      "slice sampling\n",
      "forward...backward...1.2489675000000489 sec\n",
      "Number of classified segments: [33 0 0 0 0 0 0 0 0 0 0 0 0 0 ]\n"
     ]
    },
    {
     "name": "stderr",
     "output_type": "stream",
     "text": [
      "c:\\Users\\moro-\\project_CSL\\HVGH\\.venv\\lib\\site-packages\\numpy\\core\\_asarray.py:136: VisibleDeprecationWarning: Creating an ndarray from ragged nested sequences (which is a list-or-tuple of lists-or-tuples-or ndarrays with different lengths or shapes) is deprecated. If you meant to do this, you must specify 'dtype=object' when creating the ndarray\n",
      "  return array(a, dtype, copy=False, order=order, subok=True)\n"
     ]
    },
    {
     "name": "stdout",
     "output_type": "stream",
     "text": [
      "lik = 1620.0903084305687\n",
      "----- 7 -----\n",
      "slice sampling\n"
     ]
    },
    {
     "name": "stderr",
     "output_type": "stream",
     "text": [
      "c:\\Users\\moro-\\project_CSL\\HVGH\\.venv\\lib\\site-packages\\ipykernel_launcher.py:351: DeprecationWarning: time.clock has been deprecated in Python 3.3 and will be removed from Python 3.8: use time.perf_counter or time.process_time instead\n"
     ]
    },
    {
     "name": "stdout",
     "output_type": "stream",
     "text": [
      "forward...backward...0.8290516999999227 sec\n",
      "Number of classified segments: [32 0 0 0 0 0 0 0 0 ]\n"
     ]
    },
    {
     "name": "stderr",
     "output_type": "stream",
     "text": [
      "c:\\Users\\moro-\\project_CSL\\HVGH\\.venv\\lib\\site-packages\\ipykernel_launcher.py:357: DeprecationWarning: time.clock has been deprecated in Python 3.3 and will be removed from Python 3.8: use time.perf_counter or time.process_time instead\n"
     ]
    },
    {
     "name": "stdout",
     "output_type": "stream",
     "text": [
      "slice sampling\n",
      "forward...backward...1.0336792000000514 sec\n",
      "Number of classified segments: [31 0 0 0 0 0 0 0 0 ]\n",
      "slice sampling\n",
      "forward...backward...0.6488630999999714 sec\n",
      "Number of classified segments: [31 0 0 0 0 ]\n",
      "slice sampling\n",
      "forward...backward...0.9688211000000138 sec\n",
      "Number of classified segments: [31 0 0 0 0 0 0 0 0 ]\n"
     ]
    },
    {
     "name": "stderr",
     "output_type": "stream",
     "text": [
      "c:\\Users\\moro-\\project_CSL\\HVGH\\.venv\\lib\\site-packages\\numpy\\core\\_asarray.py:136: VisibleDeprecationWarning: Creating an ndarray from ragged nested sequences (which is a list-or-tuple of lists-or-tuples-or ndarrays with different lengths or shapes) is deprecated. If you meant to do this, you must specify 'dtype=object' when creating the ndarray\n",
      "  return array(a, dtype, copy=False, order=order, subok=True)\n"
     ]
    },
    {
     "name": "stdout",
     "output_type": "stream",
     "text": [
      "lik = 1620.5565559179938\n",
      "56.32[sec]\n"
     ]
    },
    {
     "data": {
      "image/png": "[encoded data removed]",
      "text/plain": [
       "<Figure size 640x480 with 1 Axes>"
      ]
     },
     "metadata": {},
     "output_type": "display_data"
    }
   ],
   "source": [
    "main()\n",
    "# it takes about 15 minutes."
   ]
  },
  {
   "cell_type": "code",
   "execution_count": 0,
   "metadata": {
    "colab": {},
    "colab_type": "code",
    "id": "MFb5S7jVRYLS"
   },
   "outputs": [],
   "source": []
  }
 ],
 "metadata": {
  "colab": {
   "collapsed_sections": [],
   "name": "HVGH",
   "provenance": []
  },
  "kernelspec": {
   "display_name": ".venv",
   "language": "python",
   "name": "python3"
  },
  "language_info": {
   "codemirror_mode": {
    "name": "ipython",
    "version": 3
   },
   "file_extension": ".py",
   "mimetype": "text/x-python",
   "name": "python",
   "nbconvert_exporter": "python",
   "pygments_lexer": "ipython3",
   "version": "3.7.9"
  }
 },
 "nbformat": 4,
 "nbformat_minor": 1
}
